{
 "cells": [
  {
   "cell_type": "code",
   "execution_count": 21,
   "id": "7e0e9b13",
   "metadata": {},
   "outputs": [],
   "source": [
    "import numpy as np\n",
    "import pandas as pd\n",
    "import pickle\n",
    "import seaborn as sns\n",
    "import matplotlib.pyplot as plt\n",
    "import tensorflow as tf\n",
    "\n",
    "\n",
    "from sklearn.metrics import precision_score, accuracy_score, f1_score, recall_score, confusion_matrix\n",
    "\n",
    "from yellowbrick.classifier import ROCAUC\n",
    "from sklearn.metrics import roc_curve, auc\n",
    "\n",
    "\n",
    "from keras.utils.np_utils import to_categorical\n",
    "\n",
    "from tensorflow.keras.models import load_model\n",
    "\n",
    "import warnings\n",
    "warnings.filterwarnings('ignore')"
   ]
  },
  {
   "cell_type": "code",
   "execution_count": 2,
   "id": "2c5cdd81",
   "metadata": {},
   "outputs": [],
   "source": [
    "# Load all sklearn models\n",
    "with open(\"./model/all_sklearn_lumbar.pkl\", \"rb\") as f:\n",
    "    sklearn_models = pickle.load(f)\n",
    "\n",
    "# Load all deep learning models\n",
    "three_model = load_model(\"./model/3_layers_lumbar.h5\")\n",
    "five_model = load_model(\"./model/5_layers_lumbar.h5\")\n",
    "seven_model = load_model(\"./model/7_layers_lumbar.h5\")\n",
    "sevenD_model = load_model(\"./model/7_layers_with_dropout_lumbar.h5\")\n",
    "\n",
    "# Load input scaler\n",
    "with open(\"./model/input_scaler_lumbar.pkl\", \"rb\") as f:\n",
    "    sc = pickle.load(f)"
   ]
  },
  {
   "cell_type": "code",
   "execution_count": 3,
   "id": "42e9850f",
   "metadata": {},
   "outputs": [],
   "source": [
    "def describe_dataset(dataset_path: str):\n",
    "    '''\n",
    "    Describe dataset\n",
    "    '''\n",
    "\n",
    "    data = pd.read_csv(dataset_path)\n",
    "    print(f\"Headers: {list(data.columns.values)}\")\n",
    "    print(f'Number of rows: {data.shape[0]} \\nNumber of columns: {data.shape[1]}\\n')\n",
    "    print(f\"Labels: \\n{data['label'].value_counts()}\\n\")\n",
    "    print(f\"Missing values: {data.isnull().values.any()}\\n\")\n",
    "    \n",
    "    duplicate = data[data.duplicated()]\n",
    "    print(f\"Duplicate Rows : {len(duplicate.sum(axis=1))}\")\n",
    "\n",
    "    return data\n",
    "\n",
    "\n",
    "def round_up_metric_results(results) -> list:\n",
    "    '''Round up metrics results such as precision score, recall score, ...'''\n",
    "    return list(map(lambda el: round(el, 3), results))"
   ]
  },
  {
   "cell_type": "code",
   "execution_count": 5,
   "id": "656e6514",
   "metadata": {},
   "outputs": [
    {
     "name": "stdout",
     "output_type": "stream",
     "text": [
      "Headers: ['label', 'nose_x', 'nose_y', 'nose_z', 'nose_v', 'left_shoulder_x', 'left_shoulder_y', 'left_shoulder_z', 'left_shoulder_v', 'right_shoulder_x', 'right_shoulder_y', 'right_shoulder_z', 'right_shoulder_v', 'left_elbow_x', 'left_elbow_y', 'left_elbow_z', 'left_elbow_v', 'right_elbow_x', 'right_elbow_y', 'right_elbow_z', 'right_elbow_v', 'left_wrist_x', 'left_wrist_y', 'left_wrist_z', 'left_wrist_v', 'right_wrist_x', 'right_wrist_y', 'right_wrist_z', 'right_wrist_v', 'left_hip_x', 'left_hip_y', 'left_hip_z', 'left_hip_v', 'right_hip_x', 'right_hip_y', 'right_hip_z', 'right_hip_v', 'left_knee_x', 'left_knee_y', 'left_knee_z', 'left_knee_v', 'right_knee_x', 'right_knee_y', 'right_knee_z', 'right_knee_v', 'left_ankle_x', 'left_ankle_y', 'left_ankle_z', 'left_ankle_v', 'right_ankle_x', 'right_ankle_y', 'right_ankle_z', 'right_ankle_v']\n",
      "Number of rows: 1980 \n",
      "Number of columns: 53\n",
      "\n",
      "Labels: \n",
      "lumbar_correct    1660\n",
      "lumbar_error       320\n",
      "Name: label, dtype: int64\n",
      "\n",
      "Missing values: False\n",
      "\n",
      "Duplicate Rows : 0\n"
     ]
    }
   ],
   "source": [
    "# load dataset\n",
    "test_df = describe_dataset(\"./lumbar_test.csv\")\n",
    "\n",
    "# Categorizing label\n",
    "test_df.loc[test_df[\"label\"] == \"lumbar_correct\", \"label\"] = 0\n",
    "test_df.loc[test_df[\"label\"] == \"lumbar_error\", \"label\"] = 1\n",
    "\n",
    "# Standard Scaling of features\n",
    "test_x = test_df.drop(\"label\", axis = 1)\n",
    "test_x = pd.DataFrame(sc.transform(test_x))\n",
    "\n",
    "test_y = test_df[\"label\"].astype('int')\n",
    "\n",
    "# # Converting prediction to categorical\n",
    "test_y_cat = to_categorical(test_y)"
   ]
  },
  {
   "cell_type": "code",
   "execution_count": 6,
   "id": "98fea91f",
   "metadata": {},
   "outputs": [
    {
     "data": {
      "text/html": [
       "<div>\n",
       "<style scoped>\n",
       "    .dataframe tbody tr th:only-of-type {\n",
       "        vertical-align: middle;\n",
       "    }\n",
       "\n",
       "    .dataframe tbody tr th {\n",
       "        vertical-align: top;\n",
       "    }\n",
       "\n",
       "    .dataframe thead th {\n",
       "        text-align: right;\n",
       "    }\n",
       "</style>\n",
       "<table border=\"1\" class=\"dataframe\">\n",
       "  <thead>\n",
       "    <tr style=\"text-align: right;\">\n",
       "      <th></th>\n",
       "      <th>Model</th>\n",
       "      <th>Precision Score</th>\n",
       "      <th>Recall Score</th>\n",
       "      <th>Accuracy Score</th>\n",
       "      <th>F1 Score</th>\n",
       "      <th>Confusion Matrix</th>\n",
       "    </tr>\n",
       "  </thead>\n",
       "  <tbody>\n",
       "    <tr>\n",
       "      <th>0</th>\n",
       "      <td>LR</td>\n",
       "      <td>0.812169</td>\n",
       "      <td>0.748927</td>\n",
       "      <td>0.889899</td>\n",
       "      <td>0.774641</td>\n",
       "      <td>[[1589, 71], [147, 173]]</td>\n",
       "    </tr>\n",
       "    <tr>\n",
       "      <th>1</th>\n",
       "      <td>SVC</td>\n",
       "      <td>0.812609</td>\n",
       "      <td>0.716905</td>\n",
       "      <td>0.884848</td>\n",
       "      <td>0.750874</td>\n",
       "      <td>[[1602, 58], [170, 150]]</td>\n",
       "    </tr>\n",
       "    <tr>\n",
       "      <th>2</th>\n",
       "      <td>KNN</td>\n",
       "      <td>0.756213</td>\n",
       "      <td>0.689721</td>\n",
       "      <td>0.864646</td>\n",
       "      <td>0.714449</td>\n",
       "      <td>[[1574, 86], [182, 138]]</td>\n",
       "    </tr>\n",
       "    <tr>\n",
       "      <th>3</th>\n",
       "      <td>DTC</td>\n",
       "      <td>0.672424</td>\n",
       "      <td>0.683095</td>\n",
       "      <td>0.819697</td>\n",
       "      <td>0.677406</td>\n",
       "      <td>[[1469, 191], [166, 154]]</td>\n",
       "    </tr>\n",
       "    <tr>\n",
       "      <th>4</th>\n",
       "      <td>SGDC</td>\n",
       "      <td>0.807493</td>\n",
       "      <td>0.697797</td>\n",
       "      <td>0.880303</td>\n",
       "      <td>0.733744</td>\n",
       "      <td>[[1606, 54], [183, 137]]</td>\n",
       "    </tr>\n",
       "    <tr>\n",
       "      <th>5</th>\n",
       "      <td>NB</td>\n",
       "      <td>0.696010</td>\n",
       "      <td>0.725697</td>\n",
       "      <td>0.829798</td>\n",
       "      <td>0.708578</td>\n",
       "      <td>[[1460, 200], [137, 183]]</td>\n",
       "    </tr>\n",
       "    <tr>\n",
       "      <th>6</th>\n",
       "      <td>RF</td>\n",
       "      <td>0.825967</td>\n",
       "      <td>0.729047</td>\n",
       "      <td>0.890404</td>\n",
       "      <td>0.764027</td>\n",
       "      <td>[[1606, 54], [163, 157]]</td>\n",
       "    </tr>\n",
       "  </tbody>\n",
       "</table>\n",
       "</div>"
      ],
      "text/plain": [
       "  Model  Precision Score  Recall Score  Accuracy Score  F1 Score  \\\n",
       "0    LR         0.812169      0.748927        0.889899  0.774641   \n",
       "1   SVC         0.812609      0.716905        0.884848  0.750874   \n",
       "2   KNN         0.756213      0.689721        0.864646  0.714449   \n",
       "3   DTC         0.672424      0.683095        0.819697  0.677406   \n",
       "4  SGDC         0.807493      0.697797        0.880303  0.733744   \n",
       "5    NB         0.696010      0.725697        0.829798  0.708578   \n",
       "6    RF         0.825967      0.729047        0.890404  0.764027   \n",
       "\n",
       "            Confusion Matrix  \n",
       "0   [[1589, 71], [147, 173]]  \n",
       "1   [[1602, 58], [170, 150]]  \n",
       "2   [[1574, 86], [182, 138]]  \n",
       "3  [[1469, 191], [166, 154]]  \n",
       "4   [[1606, 54], [183, 137]]  \n",
       "5  [[1460, 200], [137, 183]]  \n",
       "6   [[1606, 54], [163, 157]]  "
      ]
     },
     "execution_count": 6,
     "metadata": {},
     "output_type": "execute_result"
    }
   ],
   "source": [
    "testset_final_results = []\n",
    "\n",
    "for name, model in sklearn_models.items():\n",
    "    # Evaluate model\n",
    "    model_results = model.predict(test_x)\n",
    "\n",
    "    p_score = precision_score(test_y, model_results, average=\"macro\")\n",
    "    a_score = accuracy_score(test_y, model_results)\n",
    "    r_score = recall_score(test_y, model_results, average=\"macro\")\n",
    "    f1_score_result = f1_score(test_y, model_results, average=\"macro\")\n",
    "    cm = confusion_matrix(test_y, model_results, labels=[0, 1])\n",
    "    testset_final_results.append(( name,  p_score, r_score, a_score, f1_score_result, cm ))\n",
    "\n",
    "\n",
    "sklearn_eval = pd.DataFrame(testset_final_results, columns=[\"Model\", \"Precision Score\", \"Recall Score\", \"Accuracy Score\", \"F1 Score\", \"Confusion Matrix\"])\n",
    "\n",
    "sklearn_eval"
   ]
  },
  {
   "cell_type": "code",
   "execution_count": 7,
   "id": "992bbd82",
   "metadata": {},
   "outputs": [
    {
     "data": {
      "text/html": [
       "<div>\n",
       "<style scoped>\n",
       "    .dataframe tbody tr th:only-of-type {\n",
       "        vertical-align: middle;\n",
       "    }\n",
       "\n",
       "    .dataframe tbody tr th {\n",
       "        vertical-align: top;\n",
       "    }\n",
       "\n",
       "    .dataframe thead th {\n",
       "        text-align: right;\n",
       "    }\n",
       "</style>\n",
       "<table border=\"1\" class=\"dataframe\">\n",
       "  <thead>\n",
       "    <tr style=\"text-align: right;\">\n",
       "      <th></th>\n",
       "      <th>Model Path</th>\n",
       "      <th>Precision Score</th>\n",
       "      <th>Recall Score</th>\n",
       "      <th>Accuracy Score</th>\n",
       "      <th>F1 Score</th>\n",
       "      <th>Confusion Matrix</th>\n",
       "    </tr>\n",
       "  </thead>\n",
       "  <tbody>\n",
       "    <tr>\n",
       "      <th>0</th>\n",
       "      <td>./model/3_layers_lumbar.h5</td>\n",
       "      <td>0.862959</td>\n",
       "      <td>0.863131</td>\n",
       "      <td>0.863131</td>\n",
       "      <td>0.863045</td>\n",
       "      <td>[[1525, 135, 0], [136, 184, 0], [0, 0, 0]]</td>\n",
       "    </tr>\n",
       "    <tr>\n",
       "      <th>1</th>\n",
       "      <td>./model/5_layers_lumbar.h5</td>\n",
       "      <td>0.869608</td>\n",
       "      <td>0.877273</td>\n",
       "      <td>0.877273</td>\n",
       "      <td>0.872309</td>\n",
       "      <td>[[1567, 93, 0], [150, 170, 0], [0, 0, 0]]</td>\n",
       "    </tr>\n",
       "    <tr>\n",
       "      <th>2</th>\n",
       "      <td>./model/7_layers_lumbar.h5</td>\n",
       "      <td>0.872175</td>\n",
       "      <td>0.873737</td>\n",
       "      <td>0.873737</td>\n",
       "      <td>0.872925</td>\n",
       "      <td>[[1540, 120, 0], [130, 190, 0], [0, 0, 0]]</td>\n",
       "    </tr>\n",
       "    <tr>\n",
       "      <th>3</th>\n",
       "      <td>./model/7_layers_with_dropout_lumbar.h5</td>\n",
       "      <td>0.880833</td>\n",
       "      <td>0.884848</td>\n",
       "      <td>0.884848</td>\n",
       "      <td>0.882532</td>\n",
       "      <td>[[1561, 99, 0], [129, 191, 0], [0, 0, 0]]</td>\n",
       "    </tr>\n",
       "  </tbody>\n",
       "</table>\n",
       "</div>"
      ],
      "text/plain": [
       "                                Model Path  Precision Score  Recall Score  \\\n",
       "0               ./model/3_layers_lumbar.h5         0.862959      0.863131   \n",
       "1               ./model/5_layers_lumbar.h5         0.869608      0.877273   \n",
       "2               ./model/7_layers_lumbar.h5         0.872175      0.873737   \n",
       "3  ./model/7_layers_with_dropout_lumbar.h5         0.880833      0.884848   \n",
       "\n",
       "   Accuracy Score  F1 Score                            Confusion Matrix  \n",
       "0        0.863131  0.863045  [[1525, 135, 0], [136, 184, 0], [0, 0, 0]]  \n",
       "1        0.877273  0.872309   [[1567, 93, 0], [150, 170, 0], [0, 0, 0]]  \n",
       "2        0.873737  0.872925  [[1540, 120, 0], [130, 190, 0], [0, 0, 0]]  \n",
       "3        0.884848  0.882532   [[1561, 99, 0], [129, 191, 0], [0, 0, 0]]  "
      ]
     },
     "execution_count": 7,
     "metadata": {},
     "output_type": "execute_result"
    }
   ],
   "source": [
    "test_set_results = []\n",
    "\n",
    "model_paths = [\"./model/3_layers_lumbar.h5\", \n",
    "               \"./model/5_layers_lumbar.h5\", \n",
    "               \"./model/7_layers_lumbar.h5\", \n",
    "               \"./model/7_layers_with_dropout_lumbar.h5\"]\n",
    "\n",
    "for path in model_paths:\n",
    "    model = load_model(path)\n",
    "\n",
    "    # Evaluate model\n",
    "    predict_x = model.predict(test_x, verbose=False) \n",
    "    y_pred_class = np.argmax(predict_x, axis=1)\n",
    "    y_test_class = np.argmax(test_y_cat, axis=1)\n",
    "\n",
    "    cm = confusion_matrix(y_test_class, y_pred_class, labels=[0, 1, 2])\n",
    "    p_score = precision_score(y_test_class, y_pred_class, average=\"weighted\")\n",
    "    a_score = accuracy_score(y_test_class, y_pred_class)\n",
    "    r_score = recall_score(y_test_class, y_pred_class, average=\"weighted\")\n",
    "    f1_score_result = f1_score(y_test_class, y_pred_class, average=\"weighted\")\n",
    "    \n",
    "    test_set_results.append(( path,  p_score, r_score, a_score, f1_score_result, cm ))\n",
    "\n",
    "dp_eval = pd.DataFrame(test_set_results, columns=[\"Model Path\", \"Precision Score\", \"Recall Score\", \"Accuracy Score\", \"F1 Score\", \"Confusion Matrix\"])\n",
    "\n",
    "dp_eval"
   ]
  },
  {
   "cell_type": "code",
   "execution_count": 8,
   "id": "d61dca2c",
   "metadata": {},
   "outputs": [
    {
     "data": {
      "text/html": [
       "<div>\n",
       "<style scoped>\n",
       "    .dataframe tbody tr th:only-of-type {\n",
       "        vertical-align: middle;\n",
       "    }\n",
       "\n",
       "    .dataframe tbody tr th {\n",
       "        vertical-align: top;\n",
       "    }\n",
       "\n",
       "    .dataframe thead th {\n",
       "        text-align: right;\n",
       "    }\n",
       "</style>\n",
       "<table border=\"1\" class=\"dataframe\">\n",
       "  <thead>\n",
       "    <tr style=\"text-align: right;\">\n",
       "      <th></th>\n",
       "      <th>Model</th>\n",
       "      <th>Precision Score</th>\n",
       "      <th>Recall Score</th>\n",
       "      <th>Accuracy Score</th>\n",
       "      <th>F1 Score</th>\n",
       "      <th>Confusion Matrix</th>\n",
       "      <th>Model Path</th>\n",
       "    </tr>\n",
       "  </thead>\n",
       "  <tbody>\n",
       "    <tr>\n",
       "      <th>0</th>\n",
       "      <td>NaN</td>\n",
       "      <td>0.880833</td>\n",
       "      <td>0.884848</td>\n",
       "      <td>0.884848</td>\n",
       "      <td>0.882532</td>\n",
       "      <td>[[1561, 99, 0], [129, 191, 0], [0, 0, 0]]</td>\n",
       "      <td>./model/7_layers_with_dropout_lumbar.h5</td>\n",
       "    </tr>\n",
       "    <tr>\n",
       "      <th>1</th>\n",
       "      <td>NaN</td>\n",
       "      <td>0.872175</td>\n",
       "      <td>0.873737</td>\n",
       "      <td>0.873737</td>\n",
       "      <td>0.872925</td>\n",
       "      <td>[[1540, 120, 0], [130, 190, 0], [0, 0, 0]]</td>\n",
       "      <td>./model/7_layers_lumbar.h5</td>\n",
       "    </tr>\n",
       "    <tr>\n",
       "      <th>2</th>\n",
       "      <td>NaN</td>\n",
       "      <td>0.869608</td>\n",
       "      <td>0.877273</td>\n",
       "      <td>0.877273</td>\n",
       "      <td>0.872309</td>\n",
       "      <td>[[1567, 93, 0], [150, 170, 0], [0, 0, 0]]</td>\n",
       "      <td>./model/5_layers_lumbar.h5</td>\n",
       "    </tr>\n",
       "    <tr>\n",
       "      <th>3</th>\n",
       "      <td>NaN</td>\n",
       "      <td>0.862959</td>\n",
       "      <td>0.863131</td>\n",
       "      <td>0.863131</td>\n",
       "      <td>0.863045</td>\n",
       "      <td>[[1525, 135, 0], [136, 184, 0], [0, 0, 0]]</td>\n",
       "      <td>./model/3_layers_lumbar.h5</td>\n",
       "    </tr>\n",
       "    <tr>\n",
       "      <th>4</th>\n",
       "      <td>LR</td>\n",
       "      <td>0.812169</td>\n",
       "      <td>0.748927</td>\n",
       "      <td>0.889899</td>\n",
       "      <td>0.774641</td>\n",
       "      <td>[[1589, 71], [147, 173]]</td>\n",
       "      <td>NaN</td>\n",
       "    </tr>\n",
       "    <tr>\n",
       "      <th>5</th>\n",
       "      <td>RF</td>\n",
       "      <td>0.825967</td>\n",
       "      <td>0.729047</td>\n",
       "      <td>0.890404</td>\n",
       "      <td>0.764027</td>\n",
       "      <td>[[1606, 54], [163, 157]]</td>\n",
       "      <td>NaN</td>\n",
       "    </tr>\n",
       "    <tr>\n",
       "      <th>6</th>\n",
       "      <td>SVC</td>\n",
       "      <td>0.812609</td>\n",
       "      <td>0.716905</td>\n",
       "      <td>0.884848</td>\n",
       "      <td>0.750874</td>\n",
       "      <td>[[1602, 58], [170, 150]]</td>\n",
       "      <td>NaN</td>\n",
       "    </tr>\n",
       "    <tr>\n",
       "      <th>7</th>\n",
       "      <td>SGDC</td>\n",
       "      <td>0.807493</td>\n",
       "      <td>0.697797</td>\n",
       "      <td>0.880303</td>\n",
       "      <td>0.733744</td>\n",
       "      <td>[[1606, 54], [183, 137]]</td>\n",
       "      <td>NaN</td>\n",
       "    </tr>\n",
       "    <tr>\n",
       "      <th>8</th>\n",
       "      <td>KNN</td>\n",
       "      <td>0.756213</td>\n",
       "      <td>0.689721</td>\n",
       "      <td>0.864646</td>\n",
       "      <td>0.714449</td>\n",
       "      <td>[[1574, 86], [182, 138]]</td>\n",
       "      <td>NaN</td>\n",
       "    </tr>\n",
       "    <tr>\n",
       "      <th>9</th>\n",
       "      <td>NB</td>\n",
       "      <td>0.696010</td>\n",
       "      <td>0.725697</td>\n",
       "      <td>0.829798</td>\n",
       "      <td>0.708578</td>\n",
       "      <td>[[1460, 200], [137, 183]]</td>\n",
       "      <td>NaN</td>\n",
       "    </tr>\n",
       "    <tr>\n",
       "      <th>10</th>\n",
       "      <td>DTC</td>\n",
       "      <td>0.672424</td>\n",
       "      <td>0.683095</td>\n",
       "      <td>0.819697</td>\n",
       "      <td>0.677406</td>\n",
       "      <td>[[1469, 191], [166, 154]]</td>\n",
       "      <td>NaN</td>\n",
       "    </tr>\n",
       "  </tbody>\n",
       "</table>\n",
       "</div>"
      ],
      "text/plain": [
       "   Model  Precision Score  Recall Score  Accuracy Score  F1 Score  \\\n",
       "0    NaN         0.880833      0.884848        0.884848  0.882532   \n",
       "1    NaN         0.872175      0.873737        0.873737  0.872925   \n",
       "2    NaN         0.869608      0.877273        0.877273  0.872309   \n",
       "3    NaN         0.862959      0.863131        0.863131  0.863045   \n",
       "4     LR         0.812169      0.748927        0.889899  0.774641   \n",
       "5     RF         0.825967      0.729047        0.890404  0.764027   \n",
       "6    SVC         0.812609      0.716905        0.884848  0.750874   \n",
       "7   SGDC         0.807493      0.697797        0.880303  0.733744   \n",
       "8    KNN         0.756213      0.689721        0.864646  0.714449   \n",
       "9     NB         0.696010      0.725697        0.829798  0.708578   \n",
       "10   DTC         0.672424      0.683095        0.819697  0.677406   \n",
       "\n",
       "                              Confusion Matrix  \\\n",
       "0    [[1561, 99, 0], [129, 191, 0], [0, 0, 0]]   \n",
       "1   [[1540, 120, 0], [130, 190, 0], [0, 0, 0]]   \n",
       "2    [[1567, 93, 0], [150, 170, 0], [0, 0, 0]]   \n",
       "3   [[1525, 135, 0], [136, 184, 0], [0, 0, 0]]   \n",
       "4                     [[1589, 71], [147, 173]]   \n",
       "5                     [[1606, 54], [163, 157]]   \n",
       "6                     [[1602, 58], [170, 150]]   \n",
       "7                     [[1606, 54], [183, 137]]   \n",
       "8                     [[1574, 86], [182, 138]]   \n",
       "9                    [[1460, 200], [137, 183]]   \n",
       "10                   [[1469, 191], [166, 154]]   \n",
       "\n",
       "                                 Model Path  \n",
       "0   ./model/7_layers_with_dropout_lumbar.h5  \n",
       "1                ./model/7_layers_lumbar.h5  \n",
       "2                ./model/5_layers_lumbar.h5  \n",
       "3                ./model/3_layers_lumbar.h5  \n",
       "4                                       NaN  \n",
       "5                                       NaN  \n",
       "6                                       NaN  \n",
       "7                                       NaN  \n",
       "8                                       NaN  \n",
       "9                                       NaN  \n",
       "10                                      NaN  "
      ]
     },
     "execution_count": 8,
     "metadata": {},
     "output_type": "execute_result"
    }
   ],
   "source": [
    "eval_df = pd.concat([sklearn_eval, dp_eval])\n",
    "eval_df = eval_df.sort_values(by=['F1 Score'], ascending=False).reset_index(drop=True)\n",
    "eval_df.to_csv(f\"evaluation.csv\", sep=',', encoding='utf-8', index=False)\n",
    "eval_df"
   ]
  },
  {
   "cell_type": "code",
   "execution_count": 9,
   "id": "c1039ff1",
   "metadata": {},
   "outputs": [
    {
     "data": {
      "text/plain": [
       "(array([0.91532258, 0.70901639]),\n",
       " array([0.95722892, 0.540625  ]),\n",
       " array([0.93580683, 0.61347518]))"
      ]
     },
     "execution_count": 9,
     "metadata": {},
     "output_type": "execute_result"
    }
   ],
   "source": [
    "best_model = sklearn_models[\"LR\"]\n",
    "y_predictions = best_model.predict(test_x)\n",
    "\n",
    "p_score = precision_score(test_y, y_predictions, labels=[0, 1], average=None)\n",
    "r_score = recall_score(test_y, y_predictions, labels=[0, 1], average=None)\n",
    "f1_score_result = f1_score(test_y, y_predictions, labels=[0, 1], average=None)\n",
    "\n",
    "p_score, r_score, f1_score_result"
   ]
  },
  {
   "cell_type": "code",
   "execution_count": 10,
   "id": "dc8ad6d1",
   "metadata": {},
   "outputs": [
    {
     "data": {
      "text/plain": [
       "0.7745"
      ]
     },
     "execution_count": 10,
     "metadata": {},
     "output_type": "execute_result"
    }
   ],
   "source": [
    "(0.936 + 0.613) / 2"
   ]
  },
  {
   "cell_type": "code",
   "execution_count": 11,
   "id": "9f999593",
   "metadata": {},
   "outputs": [
    {
     "name": "stdout",
     "output_type": "stream",
     "text": [
      "62/62 [==============================] - 0s 4ms/step\n"
     ]
    },
    {
     "data": {
      "text/plain": [
       "(array([0.92366864, 0.65862069]),\n",
       " array([0.94036145, 0.596875  ]),\n",
       " array([0.9319403 , 0.62622951]))"
      ]
     },
     "execution_count": 11,
     "metadata": {},
     "output_type": "execute_result"
    }
   ],
   "source": [
    "best_model01 = sevenD_model\n",
    "y_predictions = best_model01.predict(test_x)\n",
    "\n",
    "# convert continuous values to discrete labels using a threshold of 0.5\n",
    "y_predictions_labels = (y_predictions >= 0.5).argmax(axis=-1)\n",
    "\n",
    "p_score = precision_score(test_y, y_predictions_labels, labels=[0, 1], average=None)\n",
    "r_score = recall_score(test_y, y_predictions_labels, labels=[0, 1], average=None)\n",
    "f1_score_result = f1_score(test_y, y_predictions_labels, labels=[0, 1], average=None)\n",
    "\n",
    "p_score, r_score, f1_score_result"
   ]
  },
  {
   "cell_type": "code",
   "execution_count": 12,
   "id": "a0dbab42",
   "metadata": {},
   "outputs": [
    {
     "data": {
      "text/plain": [
       "0.779"
      ]
     },
     "execution_count": 12,
     "metadata": {},
     "output_type": "execute_result"
    }
   ],
   "source": [
    "(0.932 + 0.626) / 2"
   ]
  },
  {
   "cell_type": "code",
   "execution_count": 27,
   "id": "579e92f8",
   "metadata": {},
   "outputs": [
    {
     "data": {
      "text/plain": [
       "<AxesSubplot:>"
      ]
     },
     "execution_count": 27,
     "metadata": {},
     "output_type": "execute_result"
    },
    {
     "data": {
      "image/png": "[encoded data removed]",
      "text/plain": [
       "<Figure size 1000x600 with 2 Axes>"
      ]
     },
     "metadata": {},
     "output_type": "display_data"
    }
   ],
   "source": [
    "LR_cm = dp_eval[dp_eval[\"Model Path\"] == './model/7_layers_with_dropout_lumbar.h5'][\"Confusion Matrix\"].values[0]\n",
    "\n",
    "\n",
    "cm_array_df = pd.DataFrame(LR_cm, index=[\"LC\", \"LE\", \"None\"], columns=[\"LC\", \"LE\", \"None\"])\n",
    "\n",
    "fig, ax = plt.subplots(figsize=(10, 6))\n",
    "sns.heatmap(cm_array_df, linewidths=1, annot=True, ax=ax, fmt='g')"
   ]
  },
  {
   "cell_type": "code",
   "execution_count": 19,
   "id": "95b8406c",
   "metadata": {},
   "outputs": [],
   "source": [
    "def to_labels(y_pred, y_pred_proba, threshold):\n",
    "    '''Return prediction taking confidence threshold into account'''\n",
    "    results = []\n",
    "\n",
    "    for index, predicted_class in enumerate(y_pred):\n",
    "        prediction_probabilities = y_pred_proba[index]\n",
    "        class_prediction_probability = round(prediction_probabilities[np.argmax(prediction_probabilities)], 2)\n",
    "\n",
    "        results.append(predicted_class if class_prediction_probability >= threshold else -1)\n",
    "    \n",
    "    return results\n",
    "\n",
    "\n",
    "def calculate_correlation_score_confidence(test_x, test_y):\n",
    "    '''Calculate correlation between Precision score/Recall score/F1 score and confidence threshold'''\n",
    "    y_predictions = best_model01.predict(test_x)\n",
    "    y_predict_logits = y_predictions\n",
    "    y_predict_proba = tf.nn.softmax(y_predictions)\n",
    "\n",
    "    thresholds = list(np.arange(0, 1.01, 0.01))\n",
    "    f1_scores = []\n",
    "    for threshold in thresholds:\n",
    "        y_pred_bin = (y_predict_proba[:,1] > threshold).numpy().astype(int)\n",
    "        f1 = f1_score(test_y, y_pred_bin, average=None)\n",
    "        f1_scores.append(f1)\n",
    "\n",
    "    return thresholds, f1_scores"
   ]
  },
  {
   "cell_type": "code",
   "execution_count": 23,
   "id": "380f369f",
   "metadata": {},
   "outputs": [
    {
     "name": "stdout",
     "output_type": "stream",
     "text": [
      "62/62 [==============================] - 0s 3ms/step\n"
     ]
    },
    {
     "data": {
      "image/png": "[encoded data removed]",
      "text/plain": [
       "<Figure size 800x600 with 1 Axes>"
      ]
     },
     "metadata": {},
     "output_type": "display_data"
    }
   ],
   "source": [
    "thresholds, f1_scores = calculate_correlation_score_confidence(test_x, test_y)\n",
    "\n",
    "first_class = [ el[0] for el in f1_scores ]\n",
    "second_class = [ el[1] for el in f1_scores ]\n",
    "all_classes = [(el[0] + el[1]) / 2 for el in f1_scores]\n",
    "\n",
    "fig, ax = plt.subplots(figsize=(8,6))\n",
    "plt.plot(thresholds, first_class, label = \"F1 Score - Correct class\")\n",
    "plt.plot(thresholds, second_class, label = \"F1 Score - Incorrect class\")\n",
    "plt.plot(thresholds, all_classes, label = \"F1 Score - All classes\", linewidth=2.0, color=\"blue\")\n",
    "plt.legend(loc = 'lower left')\n",
    "plt.ylim([0.4, 1])\n",
    "plt.xlim([0.025, 1])\n",
    "plt.xlabel(\"Threshold\", fontsize = 12)\n",
    "plt.ylabel(\"Score\", fontsize = 12)\n",
    "# plt.axvline(thresholds[np.argmin(abs(precision-recall))], color=\"k\", ls = \"--\")\n",
    "# plt.title(label = F\"Threshold = {thresholds[np.argmin(abs(precision-recall))]:.3f}\", fontsize = 12)\n",
    "plt.show()"
   ]
  },
  {
   "cell_type": "code",
   "execution_count": 29,
   "id": "cd9b9af4",
   "metadata": {},
   "outputs": [
    {
     "name": "stdout",
     "output_type": "stream",
     "text": [
      "62/62 [==============================] - 0s 3ms/step\n",
      "Optimal Threshold: 0.01025671698153019\n"
     ]
    },
    {
     "data": {
      "image/png": "[encoded data removed]",
      "text/plain": [
       "<Figure size 800x550 with 1 Axes>"
      ]
     },
     "metadata": {},
     "output_type": "display_data"
    }
   ],
   "source": [
    "# calculate the fpr and tpr for all thresholds of the classification\n",
    "probs = best_model01.predict(test_x)\n",
    "preds = probs[:,1]\n",
    "fpr, tpr, threshold = roc_curve(test_y, preds)\n",
    "roc_auc = auc(fpr, tpr)\n",
    "\n",
    "optimal_idx = np.argmax(tpr - fpr)\n",
    "optimal_threshold = threshold[optimal_idx]\n",
    "print(f\"Optimal Threshold: {optimal_threshold}\")\n",
    "\n",
    "# method I: plt\n",
    "plt.plot(fpr, tpr, 'b', label = 'AUC = %0.2f' % roc_auc)\n",
    "plt.plot([0, 1], [0, 1],'r--', label=\"7 Layer with dropout\")\n",
    "plt.legend(loc=4)\n",
    "plt.ylabel('True Positive Rate')\n",
    "plt.xlabel('False Positive Rate')\n",
    "plt.show()"
   ]
  },
  {
   "cell_type": "code",
   "execution_count": null,
   "id": "45e9a185",
   "metadata": {},
   "outputs": [],
   "source": []
  }
 ],
 "metadata": {
  "kernelspec": {
   "display_name": "Python 3 (ipykernel)",
   "language": "python",
   "name": "python3"
  },
  "language_info": {
   "codemirror_mode": {
    "name": "ipython",
    "version": 3
   },
   "file_extension": ".py",
   "mimetype": "text/x-python",
   "name": "python",
   "nbconvert_exporter": "python",
   "pygments_lexer": "ipython3",
   "version": "3.9.13"
  }
 },
 "nbformat": 4,
 "nbformat_minor": 5
}
