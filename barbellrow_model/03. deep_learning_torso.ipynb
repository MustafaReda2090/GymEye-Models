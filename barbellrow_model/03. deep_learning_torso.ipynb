{
 "cells": [
  {
   "cell_type": "code",
   "execution_count": 1,
   "id": "6a42c3e3",
   "metadata": {},
   "outputs": [],
   "source": [
    "# Data visualization\n",
    "import numpy as np\n",
    "import pandas as pd \n",
    "\n",
    "# Keras\n",
    "from keras.models import Sequential\n",
    "from keras.layers import Dense\n",
    "from keras.layers import Dropout\n",
    "from keras.optimizers import Adam\n",
    "from keras.utils.np_utils import to_categorical\n",
    "from keras.callbacks import EarlyStopping\n",
    "import keras_tuner as kt\n",
    "\n",
    "# Train-Test\n",
    "from sklearn.model_selection import train_test_split\n",
    "# Classification Report\n",
    "from sklearn.metrics import confusion_matrix, precision_recall_fscore_support\n",
    "\n",
    "import pickle\n",
    "\n",
    "import warnings\n",
    "warnings.filterwarnings('ignore')"
   ]
  },
  {
   "cell_type": "code",
   "execution_count": 2,
   "id": "46bd5a70",
   "metadata": {},
   "outputs": [],
   "source": [
    "# Determine important landmarks for barbell row\n",
    "IMPORTANT_LMS = [\n",
    "    \"NOSE\",\n",
    "    \"LEFT_SHOULDER\",\n",
    "    \"RIGHT_SHOULDER\",\n",
    "    \"LEFT_ELBOW\",\n",
    "    \"RIGHT_ELBOW\",\n",
    "    \"LEFT_WRIST\",\n",
    "    \"RIGHT_WRIST\",\n",
    "    \"LEFT_HIP\",\n",
    "    \"RIGHT_HIP\",\n",
    "    \"LEFT_KNEE\",\n",
    "    \"RIGHT_KNEE\",\n",
    "    \"LEFT_ANKLE\",\n",
    "    \"RIGHT_ANKLE\",\n",
    "]\n",
    "\n",
    "# Generate all columns of the data frame\n",
    "HEADERS = [\"label\"]  # Label column\n",
    "\n",
    "for lm in IMPORTANT_LMS:\n",
    "    HEADERS += [f\"{lm.lower()}_x\", f\"{lm.lower()}_y\", f\"{lm.lower()}_z\", f\"{lm.lower()}_v\"]"
   ]
  },
  {
   "cell_type": "code",
   "execution_count": 3,
   "id": "07672209",
   "metadata": {},
   "outputs": [
    {
     "name": "stdout",
     "output_type": "stream",
     "text": [
      "Headers: ['label', 'nose_x', 'nose_y', 'nose_z', 'nose_v', 'left_shoulder_x', 'left_shoulder_y', 'left_shoulder_z', 'left_shoulder_v', 'right_shoulder_x', 'right_shoulder_y', 'right_shoulder_z', 'right_shoulder_v', 'left_elbow_x', 'left_elbow_y', 'left_elbow_z', 'left_elbow_v', 'right_elbow_x', 'right_elbow_y', 'right_elbow_z', 'right_elbow_v', 'left_wrist_x', 'left_wrist_y', 'left_wrist_z', 'left_wrist_v', 'right_wrist_x', 'right_wrist_y', 'right_wrist_z', 'right_wrist_v', 'left_hip_x', 'left_hip_y', 'left_hip_z', 'left_hip_v', 'right_hip_x', 'right_hip_y', 'right_hip_z', 'right_hip_v', 'left_knee_x', 'left_knee_y', 'left_knee_z', 'left_knee_v', 'right_knee_x', 'right_knee_y', 'right_knee_z', 'right_knee_v', 'left_ankle_x', 'left_ankle_y', 'left_ankle_z', 'left_ankle_v', 'right_ankle_x', 'right_ankle_y', 'right_ankle_z', 'right_ankle_v']\n",
      "Number of rows: 6938 \n",
      "Number of columns: 53\n",
      "\n",
      "Labels: \n",
      "torso_correct    6255\n",
      "torso_error       683\n",
      "Name: label, dtype: int64\n",
      "\n",
      "Missing values: False\n",
      "\n",
      "Duplicate Rows : 0\n"
     ]
    }
   ],
   "source": [
    "def describe_dataset(dataset_path: str):\n",
    "    '''\n",
    "    Describe dataset\n",
    "    '''\n",
    "\n",
    "    data = pd.read_csv(dataset_path)\n",
    "    print(f\"Headers: {list(data.columns.values)}\")\n",
    "    print(f'Number of rows: {data.shape[0]} \\nNumber of columns: {data.shape[1]}\\n')\n",
    "    print(f\"Labels: \\n{data['label'].value_counts()}\\n\")\n",
    "    print(f\"Missing values: {data.isnull().values.any()}\\n\")\n",
    "    \n",
    "    duplicate = data[data.duplicated()]\n",
    "    print(f\"Duplicate Rows : {len(duplicate.sum(axis=1))}\")\n",
    "\n",
    "    return data\n",
    "\n",
    "\n",
    "# Remove duplicate rows (optional)\n",
    "def remove_duplicate_rows(dataset_path: str):\n",
    "    '''\n",
    "    Remove duplicated data from the dataset then save it to another files\n",
    "    '''\n",
    "    \n",
    "    df = pd.read_csv(dataset_path)\n",
    "    df.drop_duplicates(keep=\"first\", inplace=True)\n",
    "    df.to_csv(f\"cleaned_train.csv\", sep=',', encoding='utf-8', index=False)\n",
    "\n",
    "\n",
    "def round_up_metric_results(results) -> list:\n",
    "    '''Round up metrics results such as precision score, recall score, ...'''\n",
    "    return list(map(lambda el: round(el, 3), results))\n",
    "\n",
    "\n",
    "df01 = describe_dataset(\"./torso_train.csv\")"
   ]
  },
  {
   "cell_type": "code",
   "execution_count": 4,
   "id": "19822105",
   "metadata": {},
   "outputs": [
    {
     "name": "stdout",
     "output_type": "stream",
     "text": [
      "Headers: ['label', 'nose_x', 'nose_y', 'nose_z', 'nose_v', 'left_shoulder_x', 'left_shoulder_y', 'left_shoulder_z', 'left_shoulder_v', 'right_shoulder_x', 'right_shoulder_y', 'right_shoulder_z', 'right_shoulder_v', 'left_elbow_x', 'left_elbow_y', 'left_elbow_z', 'left_elbow_v', 'right_elbow_x', 'right_elbow_y', 'right_elbow_z', 'right_elbow_v', 'left_wrist_x', 'left_wrist_y', 'left_wrist_z', 'left_wrist_v', 'right_wrist_x', 'right_wrist_y', 'right_wrist_z', 'right_wrist_v', 'left_hip_x', 'left_hip_y', 'left_hip_z', 'left_hip_v', 'right_hip_x', 'right_hip_y', 'right_hip_z', 'right_hip_v', 'left_knee_x', 'left_knee_y', 'left_knee_z', 'left_knee_v', 'right_knee_x', 'right_knee_y', 'right_knee_z', 'right_knee_v', 'left_ankle_x', 'left_ankle_y', 'left_ankle_z', 'left_ankle_v', 'right_ankle_x', 'right_ankle_y', 'right_ankle_z', 'right_ankle_v']\n",
      "Number of rows: 6938 \n",
      "Number of columns: 53\n",
      "\n",
      "Labels: \n",
      "torso_correct    6255\n",
      "torso_error       683\n",
      "Name: label, dtype: int64\n",
      "\n",
      "Missing values: False\n",
      "\n",
      "Duplicate Rows : 0\n"
     ]
    }
   ],
   "source": [
    "# load dataset\n",
    "df = describe_dataset(\"./torso_train.csv\")\n",
    "# Categorizing label\n",
    "df.loc[df[\"label\"] == \"torso_correct\", \"label\"] = 0\n",
    "df.loc[df[\"label\"] == \"torso_error\", \"label\"] = 1"
   ]
  },
  {
   "cell_type": "code",
   "execution_count": 5,
   "id": "664bb0a3",
   "metadata": {},
   "outputs": [],
   "source": [
    "# Standard Scaling of features\n",
    "# Dump input scaler\n",
    "with open(\"./model/input_scaler_torso.pkl\", \"rb\") as f2:\n",
    "    sc = pickle.load(f2)   \n",
    "\n",
    "x = df.drop(\"label\", axis = 1)\n",
    "x = pd.DataFrame(sc.transform(x))\n",
    "\n",
    "y = df[\"label\"]\n",
    "\n",
    "# # Converting prediction to categorical\n",
    "y_cat = to_categorical(y)"
   ]
  },
  {
   "cell_type": "code",
   "execution_count": 6,
   "id": "c45320f6",
   "metadata": {},
   "outputs": [],
   "source": [
    "x_train, x_test, y_train, y_test = train_test_split(x.values, y_cat, test_size=0.2, random_state=1234)"
   ]
  },
  {
   "cell_type": "code",
   "execution_count": 7,
   "id": "d59b44dd",
   "metadata": {},
   "outputs": [],
   "source": [
    "stop_early = EarlyStopping(monitor='loss', patience=3)\n",
    "\n",
    "# Final Results\n",
    "final_models = {}"
   ]
  },
  {
   "cell_type": "code",
   "execution_count": 8,
   "id": "287de27d",
   "metadata": {},
   "outputs": [],
   "source": [
    "def describe_model(model):\n",
    "    '''\n",
    "    Describe Model architecture\n",
    "    '''\n",
    "    print(f\"Describe models architecture\")\n",
    "    for i, layer in enumerate(model.layers):\n",
    "        number_of_units = layer.units if hasattr(layer, 'units') else 0\n",
    "\n",
    "        if hasattr(layer, \"activation\"):\n",
    "            print(f\"Layer-{i + 1}: {number_of_units} units, func: \", layer.activation)\n",
    "        else:\n",
    "            print(f\"Layer-{i + 1}: {number_of_units} units, func: None\")\n",
    "            \n",
    "\n",
    "def get_best_model(tuner):\n",
    "    '''\n",
    "    Describe and return the best model found from keras tuner\n",
    "    '''\n",
    "    best_hps = tuner.get_best_hyperparameters(num_trials=1)[0]\n",
    "    best_model = tuner.hypermodel.build(best_hps)\n",
    "\n",
    "    describe_model(best_model)\n",
    "\n",
    "    print(\"\\nOther params:\")\n",
    "    ignore_params = [\"tuner\", \"activation\", \"layer\", \"epoch\"]\n",
    "    for param, value in best_hps.values.items():\n",
    "        if not any(word in param for word in ignore_params):\n",
    "            print(f\"{param}: {value}\")\n",
    "\n",
    "    return best_model"
   ]
  },
  {
   "cell_type": "code",
   "execution_count": 9,
   "id": "5652a397",
   "metadata": {},
   "outputs": [],
   "source": [
    "def model_3l_builder(hp):\n",
    "    model = Sequential()\n",
    "    model.add(Dense(52, input_dim = 52, activation = \"relu\"))\n",
    "\n",
    "    hp_activation = hp.Choice('activation', values=['relu', 'tanh'])\n",
    "    hp_layer_1 = hp.Int('layer_1', min_value=32, max_value=512, step=32)\n",
    "    hp_learning_rate = hp.Choice('learning_rate', values=[1e-2, 1e-3, 1e-4])\n",
    "\n",
    "    model.add(Dense(units=hp_layer_1, activation=hp_activation))\n",
    "    model.add(Dense(2, activation = \"softmax\"))\n",
    "\n",
    "    model.compile(optimizer=Adam(learning_rate=hp_learning_rate), loss=\"categorical_crossentropy\", metrics = [\"accuracy\"])\n",
    "    \n",
    "    return model"
   ]
  },
  {
   "cell_type": "code",
   "execution_count": 10,
   "id": "eb61be94",
   "metadata": {},
   "outputs": [
    {
     "name": "stdout",
     "output_type": "stream",
     "text": [
      "Trial 26 Complete [00h 00m 06s]\n",
      "accuracy: 0.9590991139411926\n",
      "\n",
      "Best accuracy So Far: 0.9724324345588684\n",
      "Total elapsed time: 00h 01m 02s\n",
      "INFO:tensorflow:Oracle triggered exit\n"
     ]
    }
   ],
   "source": [
    "tuner_3l_torso = kt.Hyperband(\n",
    "    model_3l_builder,\n",
    "    objective='accuracy',\n",
    "    max_epochs=10,\n",
    "    directory='keras_tuner_dir',\n",
    "    project_name='keras_tuner_demo_7'\n",
    ")\n",
    "tuner_3l_torso.search(x_train, y_train, epochs=10, callbacks=[stop_early])"
   ]
  },
  {
   "cell_type": "code",
   "execution_count": 11,
   "id": "9c5608bb",
   "metadata": {},
   "outputs": [
    {
     "name": "stdout",
     "output_type": "stream",
     "text": [
      "Describe models architecture\n",
      "Layer-1: 52 units, func:  <function relu at 0x0000015F64858940>\n",
      "Layer-2: 352 units, func:  <function relu at 0x0000015F64858940>\n",
      "Layer-3: 2 units, func:  <function softmax at 0x0000015F64850EE0>\n",
      "\n",
      "Other params:\n",
      "learning_rate: 0.001\n",
      "Epoch 1/100\n",
      "555/555 [==============================] - 2s 3ms/step - loss: 0.2103 - accuracy: 0.9137 - val_loss: 0.1642 - val_accuracy: 0.9344\n",
      "Epoch 2/100\n",
      "555/555 [==============================] - 2s 4ms/step - loss: 0.1327 - accuracy: 0.9418 - val_loss: 0.1353 - val_accuracy: 0.9388\n",
      "Epoch 3/100\n",
      "555/555 [==============================] - 2s 3ms/step - loss: 0.1216 - accuracy: 0.9508 - val_loss: 0.1227 - val_accuracy: 0.9474\n",
      "Epoch 4/100\n",
      "555/555 [==============================] - 2s 3ms/step - loss: 0.0979 - accuracy: 0.9613 - val_loss: 0.1368 - val_accuracy: 0.9438\n",
      "Epoch 5/100\n",
      "555/555 [==============================] - 2s 3ms/step - loss: 0.0879 - accuracy: 0.9641 - val_loss: 0.1295 - val_accuracy: 0.9503\n",
      "Epoch 6/100\n",
      "555/555 [==============================] - 1s 3ms/step - loss: 0.0784 - accuracy: 0.9694 - val_loss: 0.1151 - val_accuracy: 0.9532\n",
      "Epoch 7/100\n",
      "555/555 [==============================] - 1s 3ms/step - loss: 0.0742 - accuracy: 0.9701 - val_loss: 0.1289 - val_accuracy: 0.9532\n",
      "Epoch 8/100\n",
      "555/555 [==============================] - 2s 3ms/step - loss: 0.0806 - accuracy: 0.9697 - val_loss: 0.1106 - val_accuracy: 0.9597\n",
      "Epoch 9/100\n",
      "555/555 [==============================] - 2s 3ms/step - loss: 0.0610 - accuracy: 0.9771 - val_loss: 0.1304 - val_accuracy: 0.9517\n",
      "Epoch 10/100\n",
      "555/555 [==============================] - 2s 3ms/step - loss: 0.0525 - accuracy: 0.9807 - val_loss: 0.1182 - val_accuracy: 0.9582\n",
      "Epoch 11/100\n",
      "555/555 [==============================] - 2s 4ms/step - loss: 0.0501 - accuracy: 0.9809 - val_loss: 0.1500 - val_accuracy: 0.9532\n",
      "Epoch 12/100\n",
      "555/555 [==============================] - 2s 3ms/step - loss: 0.0453 - accuracy: 0.9845 - val_loss: 0.1376 - val_accuracy: 0.9575\n",
      "Epoch 13/100\n",
      "555/555 [==============================] - 2s 3ms/step - loss: 0.0349 - accuracy: 0.9888 - val_loss: 0.1894 - val_accuracy: 0.9553\n",
      "Epoch 14/100\n",
      "555/555 [==============================] - 2s 3ms/step - loss: 0.0360 - accuracy: 0.9881 - val_loss: 0.1492 - val_accuracy: 0.9589\n",
      "Epoch 15/100\n",
      "555/555 [==============================] - 1s 3ms/step - loss: 0.0398 - accuracy: 0.9849 - val_loss: 0.1632 - val_accuracy: 0.9510\n",
      "Epoch 16/100\n",
      "555/555 [==============================] - 1s 3ms/step - loss: 0.0264 - accuracy: 0.9917 - val_loss: 0.1619 - val_accuracy: 0.9597\n",
      "Epoch 17/100\n",
      "555/555 [==============================] - 2s 3ms/step - loss: 0.0368 - accuracy: 0.9876 - val_loss: 0.1904 - val_accuracy: 0.9539\n",
      "Epoch 18/100\n",
      "555/555 [==============================] - 2s 3ms/step - loss: 0.0378 - accuracy: 0.9863 - val_loss: 0.1839 - val_accuracy: 0.9575\n",
      "Epoch 19/100\n",
      "555/555 [==============================] - 2s 3ms/step - loss: 0.0218 - accuracy: 0.9928 - val_loss: 0.1545 - val_accuracy: 0.9654\n",
      "Epoch 20/100\n",
      "555/555 [==============================] - 1s 3ms/step - loss: 0.0144 - accuracy: 0.9948 - val_loss: 0.1723 - val_accuracy: 0.9611\n",
      "Epoch 21/100\n",
      "555/555 [==============================] - 2s 3ms/step - loss: 0.0164 - accuracy: 0.9946 - val_loss: 0.2031 - val_accuracy: 0.9561\n",
      "Epoch 22/100\n",
      "555/555 [==============================] - 2s 3ms/step - loss: 0.0257 - accuracy: 0.9897 - val_loss: 0.2100 - val_accuracy: 0.9553\n",
      "Epoch 23/100\n",
      "555/555 [==============================] - 2s 3ms/step - loss: 0.0184 - accuracy: 0.9944 - val_loss: 0.2129 - val_accuracy: 0.9568\n"
     ]
    },
    {
     "data": {
      "text/plain": [
       "<keras.callbacks.History at 0x15f676aeeb0>"
      ]
     },
     "execution_count": 11,
     "metadata": {},
     "output_type": "execute_result"
    }
   ],
   "source": [
    "model_3l = get_best_model(tuner_3l_torso)\n",
    "model_3l.fit(x_train, y_train, epochs=100, batch_size=10, validation_data=(x_test, y_test), callbacks=[stop_early])"
   ]
  },
  {
   "cell_type": "code",
   "execution_count": 12,
   "id": "8ed3817a",
   "metadata": {},
   "outputs": [],
   "source": [
    "final_models[\"3_layers_torso\"] = model_3l"
   ]
  },
  {
   "cell_type": "code",
   "execution_count": 13,
   "id": "005f6f1c",
   "metadata": {},
   "outputs": [],
   "source": [
    "def model_5l_builder(hp):\n",
    "    model = Sequential()\n",
    "    model.add(Dense(52, input_dim = 52, activation = \"relu\"))\n",
    "\n",
    "    hp_activation = hp.Choice('activation', values=['relu', 'tanh'])\n",
    "    hp_layer_1 = hp.Int('layer_1', min_value=32, max_value=512, step=32)\n",
    "    hp_layer_2 = hp.Int('layer_2', min_value=32, max_value=512, step=32)\n",
    "    hp_layer_3 = hp.Int('layer_3', min_value=32, max_value=512, step=32)\n",
    "    hp_learning_rate = hp.Choice('learning_rate', values=[1e-2, 1e-3, 1e-4])\n",
    "\n",
    "    model.add(Dense(units=hp_layer_1, activation=hp_activation))\n",
    "    model.add(Dense(units=hp_layer_2, activation=hp_activation))\n",
    "    model.add(Dense(units=hp_layer_3, activation=hp_activation))\n",
    "    model.add(Dense(2, activation = \"softmax\"))\n",
    "\n",
    "    model.compile(optimizer=Adam(learning_rate=hp_learning_rate), loss=\"categorical_crossentropy\", metrics = [\"accuracy\"])\n",
    "    \n",
    "    return model"
   ]
  },
  {
   "cell_type": "code",
   "execution_count": 15,
   "id": "910f4f26",
   "metadata": {
    "scrolled": true
   },
   "outputs": [
    {
     "name": "stdout",
     "output_type": "stream",
     "text": [
      "Trial 30 Complete [00h 00m 10s]\n",
      "accuracy: 0.9810810685157776\n",
      "\n",
      "Best accuracy So Far: 0.9834234118461609\n",
      "Total elapsed time: 00h 02m 11s\n",
      "INFO:tensorflow:Oracle triggered exit\n"
     ]
    }
   ],
   "source": [
    "import keras\n",
    "tuner_5l_torso = kt.Hyperband(\n",
    "    model_5l_builder,\n",
    "    objective='accuracy',\n",
    "    max_epochs=10,\n",
    "    directory='keras_tuner_dir',\n",
    "    project_name='keras_tuner_demo_8'\n",
    ")\n",
    "\n",
    "tuner_5l_torso.search(\n",
    "    x_train, \n",
    "    y_train, \n",
    "    epochs=10, \n",
    "    callbacks=[keras.callbacks.EarlyStopping(patience=5)]\n",
    ")"
   ]
  },
  {
   "cell_type": "code",
   "execution_count": 16,
   "id": "ea5d084f",
   "metadata": {},
   "outputs": [
    {
     "name": "stdout",
     "output_type": "stream",
     "text": [
      "Describe models architecture\n",
      "Layer-1: 52 units, func:  <function relu at 0x0000015F64858940>\n",
      "Layer-2: 288 units, func:  <function relu at 0x0000015F64858940>\n",
      "Layer-3: 288 units, func:  <function relu at 0x0000015F64858940>\n",
      "Layer-4: 224 units, func:  <function relu at 0x0000015F64858940>\n",
      "Layer-5: 2 units, func:  <function softmax at 0x0000015F64850EE0>\n",
      "\n",
      "Other params:\n",
      "learning_rate: 0.001\n",
      "Epoch 1/100\n",
      "555/555 [==============================] - 3s 4ms/step - loss: 0.2091 - accuracy: 0.9139 - val_loss: 0.1495 - val_accuracy: 0.9301\n",
      "Epoch 2/100\n",
      "555/555 [==============================] - 2s 4ms/step - loss: 0.1381 - accuracy: 0.9389 - val_loss: 0.1366 - val_accuracy: 0.9395\n",
      "Epoch 3/100\n",
      "555/555 [==============================] - 2s 3ms/step - loss: 0.1151 - accuracy: 0.9481 - val_loss: 0.1348 - val_accuracy: 0.9460\n",
      "Epoch 4/100\n",
      "555/555 [==============================] - 2s 3ms/step - loss: 0.1029 - accuracy: 0.9596 - val_loss: 0.1429 - val_accuracy: 0.9445\n",
      "Epoch 5/100\n",
      "555/555 [==============================] - 2s 3ms/step - loss: 0.0991 - accuracy: 0.9605 - val_loss: 0.1423 - val_accuracy: 0.9517\n",
      "Epoch 6/100\n",
      "555/555 [==============================] - 2s 3ms/step - loss: 0.0814 - accuracy: 0.9670 - val_loss: 0.1316 - val_accuracy: 0.9553\n",
      "Epoch 7/100\n",
      "555/555 [==============================] - 2s 3ms/step - loss: 0.0760 - accuracy: 0.9686 - val_loss: 0.1427 - val_accuracy: 0.9561\n",
      "Epoch 8/100\n",
      "555/555 [==============================] - 2s 3ms/step - loss: 0.0819 - accuracy: 0.9712 - val_loss: 0.1371 - val_accuracy: 0.9604\n",
      "Epoch 9/100\n",
      "555/555 [==============================] - 2s 3ms/step - loss: 0.0657 - accuracy: 0.9742 - val_loss: 0.1455 - val_accuracy: 0.9568\n",
      "Epoch 10/100\n",
      "555/555 [==============================] - 2s 4ms/step - loss: 0.0651 - accuracy: 0.9771 - val_loss: 0.1326 - val_accuracy: 0.9532\n",
      "Epoch 11/100\n",
      "555/555 [==============================] - 2s 3ms/step - loss: 0.0488 - accuracy: 0.9813 - val_loss: 0.1541 - val_accuracy: 0.9510\n",
      "Epoch 12/100\n",
      "555/555 [==============================] - 2s 3ms/step - loss: 0.0480 - accuracy: 0.9804 - val_loss: 0.1920 - val_accuracy: 0.9532\n",
      "Epoch 13/100\n",
      "555/555 [==============================] - 2s 3ms/step - loss: 0.0478 - accuracy: 0.9823 - val_loss: 0.1728 - val_accuracy: 0.9633\n",
      "Epoch 14/100\n",
      "555/555 [==============================] - 2s 3ms/step - loss: 0.0475 - accuracy: 0.9849 - val_loss: 0.1559 - val_accuracy: 0.9611\n",
      "Epoch 15/100\n",
      "555/555 [==============================] - 2s 3ms/step - loss: 0.0365 - accuracy: 0.9859 - val_loss: 0.1627 - val_accuracy: 0.9561\n",
      "Epoch 16/100\n",
      "555/555 [==============================] - 2s 3ms/step - loss: 0.0334 - accuracy: 0.9885 - val_loss: 0.1854 - val_accuracy: 0.9633\n",
      "Epoch 17/100\n",
      "555/555 [==============================] - 2s 4ms/step - loss: 0.0312 - accuracy: 0.9895 - val_loss: 0.1788 - val_accuracy: 0.9618\n",
      "Epoch 18/100\n",
      "555/555 [==============================] - 2s 4ms/step - loss: 0.0292 - accuracy: 0.9890 - val_loss: 0.2365 - val_accuracy: 0.9517\n",
      "Epoch 19/100\n",
      "555/555 [==============================] - 2s 4ms/step - loss: 0.0351 - accuracy: 0.9879 - val_loss: 0.1686 - val_accuracy: 0.9589\n",
      "Epoch 20/100\n",
      "555/555 [==============================] - 2s 4ms/step - loss: 0.0218 - accuracy: 0.9917 - val_loss: 0.2153 - val_accuracy: 0.9618\n",
      "Epoch 21/100\n",
      "555/555 [==============================] - 2s 4ms/step - loss: 0.0276 - accuracy: 0.9917 - val_loss: 0.2524 - val_accuracy: 0.9510\n",
      "Epoch 22/100\n",
      "555/555 [==============================] - 2s 4ms/step - loss: 0.0255 - accuracy: 0.9926 - val_loss: 0.2169 - val_accuracy: 0.9597\n",
      "Epoch 23/100\n",
      "555/555 [==============================] - 2s 3ms/step - loss: 0.0308 - accuracy: 0.9899 - val_loss: 0.2142 - val_accuracy: 0.9568\n"
     ]
    },
    {
     "data": {
      "text/plain": [
       "<keras.callbacks.History at 0x15f6d24ff10>"
      ]
     },
     "execution_count": 16,
     "metadata": {},
     "output_type": "execute_result"
    }
   ],
   "source": [
    "model_5l = get_best_model(tuner_5l_torso)\n",
    "model_5l.fit(x_train, y_train, epochs=100, batch_size=10, validation_data=(x_test, y_test), callbacks=[stop_early])"
   ]
  },
  {
   "cell_type": "code",
   "execution_count": 17,
   "id": "149bcf41",
   "metadata": {},
   "outputs": [],
   "source": [
    "final_models[\"5_layers_torso\"] = model_5l\n"
   ]
  },
  {
   "cell_type": "code",
   "execution_count": 18,
   "id": "c3b22311",
   "metadata": {},
   "outputs": [],
   "source": [
    "def model_7lD_builder(hp):\n",
    "    model = Sequential()\n",
    "    model.add(Dense(52, input_dim = 52, activation = \"relu\"))\n",
    "\n",
    "    hp_activation = hp.Choice('activation', values=['relu', 'tanh'])\n",
    "    hp_layer_1 = hp.Int('layer_1', min_value=32, max_value=512, step=32)\n",
    "    hp_layer_2 = hp.Int('layer_2', min_value=32, max_value=512, step=32)\n",
    "    hp_layer_3 = hp.Int('layer_3', min_value=32, max_value=512, step=32)\n",
    "    hp_dropout_1 = hp.Float('dropout_1', min_value=0.1, max_value=0.5, step=0.1)\n",
    "    hp_dropout_2 = hp.Float('dropout_2', min_value=0.1, max_value=0.5, step=0.1)\n",
    "    hp_learning_rate = hp.Choice('learning_rate', values=[1e-2, 1e-3, 1e-4])\n",
    "\n",
    "    model.add(Dense(units=hp_layer_1, activation=hp_activation))\n",
    "    model.add(Dropout(rate=hp_dropout_1))\n",
    "    model.add(Dense(units=hp_layer_2, activation=hp_activation))\n",
    "    model.add(Dropout(rate=hp_dropout_2))\n",
    "    model.add(Dense(units=hp_layer_3, activation=hp_activation))\n",
    "    model.add(Dense(2, activation = \"softmax\"))\n",
    "\n",
    "    model.compile(optimizer=Adam(learning_rate=hp_learning_rate), loss=\"categorical_crossentropy\", metrics = [\"accuracy\"])\n",
    "    \n",
    "    return model"
   ]
  },
  {
   "cell_type": "code",
   "execution_count": 20,
   "id": "77e2d2f9",
   "metadata": {},
   "outputs": [
    {
     "name": "stdout",
     "output_type": "stream",
     "text": [
      "Trial 30 Complete [00h 00m 10s]\n",
      "accuracy: 0.9363964200019836\n",
      "\n",
      "Best accuracy So Far: 0.9726126194000244\n",
      "Total elapsed time: 00h 02m 17s\n",
      "INFO:tensorflow:Oracle triggered exit\n"
     ]
    }
   ],
   "source": [
    "tuner_7lD_torso = kt.Hyperband(\n",
    "    model_7lD_builder,\n",
    "    objective='accuracy',\n",
    "    max_epochs=10,\n",
    "    directory='keras_tuner_dir',\n",
    "    project_name='keras_tuner_demo_9'\n",
    ")\n",
    "tuner_7lD_torso.search(x_train, y_train, epochs=10, callbacks=[keras.callbacks.EarlyStopping(patience=5)])"
   ]
  },
  {
   "cell_type": "code",
   "execution_count": 21,
   "id": "930bce8a",
   "metadata": {},
   "outputs": [
    {
     "name": "stdout",
     "output_type": "stream",
     "text": [
      "Describe models architecture\n",
      "Layer-1: 52 units, func:  <function relu at 0x0000015F64858940>\n",
      "Layer-2: 96 units, func:  <function relu at 0x0000015F64858940>\n",
      "Layer-3: 0 units, func: None\n",
      "Layer-4: 320 units, func:  <function relu at 0x0000015F64858940>\n",
      "Layer-5: 0 units, func: None\n",
      "Layer-6: 256 units, func:  <function relu at 0x0000015F64858940>\n",
      "Layer-7: 2 units, func:  <function softmax at 0x0000015F64850EE0>\n",
      "\n",
      "Other params:\n",
      "dropout_1: 0.2\n",
      "dropout_2: 0.5\n",
      "learning_rate: 0.001\n",
      "Epoch 1/100\n",
      "555/555 [==============================] - 3s 4ms/step - loss: 0.2252 - accuracy: 0.9137 - val_loss: 0.1541 - val_accuracy: 0.9316\n",
      "Epoch 2/100\n",
      "555/555 [==============================] - 2s 3ms/step - loss: 0.1615 - accuracy: 0.9368 - val_loss: 0.1603 - val_accuracy: 0.9316\n",
      "Epoch 3/100\n",
      "555/555 [==============================] - 2s 4ms/step - loss: 0.1307 - accuracy: 0.9465 - val_loss: 0.1761 - val_accuracy: 0.9251\n",
      "Epoch 4/100\n",
      "555/555 [==============================] - 2s 4ms/step - loss: 0.1297 - accuracy: 0.9492 - val_loss: 0.1354 - val_accuracy: 0.9395\n",
      "Epoch 5/100\n",
      "555/555 [==============================] - 2s 4ms/step - loss: 0.1071 - accuracy: 0.9541 - val_loss: 0.1341 - val_accuracy: 0.9409\n",
      "Epoch 6/100\n",
      "555/555 [==============================] - 2s 3ms/step - loss: 0.1006 - accuracy: 0.9582 - val_loss: 0.1269 - val_accuracy: 0.9561\n",
      "Epoch 7/100\n",
      "555/555 [==============================] - 2s 3ms/step - loss: 0.0891 - accuracy: 0.9652 - val_loss: 0.1388 - val_accuracy: 0.9517\n",
      "Epoch 8/100\n",
      "555/555 [==============================] - 2s 4ms/step - loss: 0.0843 - accuracy: 0.9663 - val_loss: 0.1429 - val_accuracy: 0.9532\n",
      "Epoch 9/100\n",
      "555/555 [==============================] - 2s 4ms/step - loss: 0.0798 - accuracy: 0.9694 - val_loss: 0.1270 - val_accuracy: 0.9539\n",
      "Epoch 10/100\n",
      "555/555 [==============================] - 2s 4ms/step - loss: 0.0760 - accuracy: 0.9690 - val_loss: 0.1819 - val_accuracy: 0.9481\n",
      "Epoch 11/100\n",
      "555/555 [==============================] - 2s 4ms/step - loss: 0.0777 - accuracy: 0.9717 - val_loss: 0.1444 - val_accuracy: 0.9568\n",
      "Epoch 12/100\n",
      "555/555 [==============================] - 2s 4ms/step - loss: 0.0697 - accuracy: 0.9739 - val_loss: 0.1272 - val_accuracy: 0.9539\n",
      "Epoch 13/100\n",
      "555/555 [==============================] - 2s 4ms/step - loss: 0.0615 - accuracy: 0.9762 - val_loss: 0.1797 - val_accuracy: 0.9474\n",
      "Epoch 14/100\n",
      "555/555 [==============================] - 2s 3ms/step - loss: 0.0578 - accuracy: 0.9795 - val_loss: 0.1507 - val_accuracy: 0.9539\n",
      "Epoch 15/100\n",
      "555/555 [==============================] - 2s 4ms/step - loss: 0.0589 - accuracy: 0.9766 - val_loss: 0.1631 - val_accuracy: 0.9532\n",
      "Epoch 16/100\n",
      "555/555 [==============================] - 2s 4ms/step - loss: 0.0544 - accuracy: 0.9796 - val_loss: 0.1859 - val_accuracy: 0.9474\n",
      "Epoch 17/100\n",
      "555/555 [==============================] - 2s 4ms/step - loss: 0.0609 - accuracy: 0.9778 - val_loss: 0.1557 - val_accuracy: 0.9589\n",
      "Epoch 18/100\n",
      "555/555 [==============================] - 2s 3ms/step - loss: 0.0475 - accuracy: 0.9829 - val_loss: 0.1439 - val_accuracy: 0.9539\n",
      "Epoch 19/100\n",
      "555/555 [==============================] - 2s 3ms/step - loss: 0.0429 - accuracy: 0.9850 - val_loss: 0.2072 - val_accuracy: 0.9553\n",
      "Epoch 20/100\n",
      "555/555 [==============================] - 2s 4ms/step - loss: 0.0422 - accuracy: 0.9847 - val_loss: 0.1694 - val_accuracy: 0.9561\n",
      "Epoch 21/100\n",
      "555/555 [==============================] - 2s 4ms/step - loss: 0.0384 - accuracy: 0.9861 - val_loss: 0.2073 - val_accuracy: 0.9611\n",
      "Epoch 22/100\n",
      "555/555 [==============================] - 2s 3ms/step - loss: 0.0498 - accuracy: 0.9825 - val_loss: 0.1607 - val_accuracy: 0.9568\n",
      "Epoch 23/100\n",
      "555/555 [==============================] - 2s 4ms/step - loss: 0.0316 - accuracy: 0.9877 - val_loss: 0.2515 - val_accuracy: 0.9640\n",
      "Epoch 24/100\n",
      "555/555 [==============================] - 2s 3ms/step - loss: 0.0370 - accuracy: 0.9843 - val_loss: 0.1851 - val_accuracy: 0.9553\n",
      "Epoch 25/100\n",
      "555/555 [==============================] - 2s 3ms/step - loss: 0.0374 - accuracy: 0.9870 - val_loss: 0.2775 - val_accuracy: 0.9524\n",
      "Epoch 26/100\n",
      "555/555 [==============================] - 2s 4ms/step - loss: 0.0431 - accuracy: 0.9845 - val_loss: 0.2193 - val_accuracy: 0.9604\n"
     ]
    },
    {
     "data": {
      "text/plain": [
       "<keras.callbacks.History at 0x15f67740040>"
      ]
     },
     "execution_count": 21,
     "metadata": {},
     "output_type": "execute_result"
    }
   ],
   "source": [
    "model_7lD = get_best_model(tuner_7lD_torso)\n",
    "model_7lD.fit(x_train, y_train, epochs=100, batch_size=10, validation_data=(x_test, y_test), callbacks=[stop_early])"
   ]
  },
  {
   "cell_type": "code",
   "execution_count": 22,
   "id": "1f6019ad",
   "metadata": {},
   "outputs": [],
   "source": [
    "final_models[\"7_layers_with_dropout_torso\"] = model_7lD"
   ]
  },
  {
   "cell_type": "code",
   "execution_count": 23,
   "id": "db3f3a75",
   "metadata": {},
   "outputs": [],
   "source": [
    "def model_7l_builder(hp):\n",
    "    model = Sequential()\n",
    "    model.add(Dense(52, input_dim = 52, activation = \"relu\"))\n",
    "\n",
    "    hp_activation = hp.Choice('activation', values=['relu', 'tanh'])\n",
    "    hp_layer_1 = hp.Int('layer_1', min_value=32, max_value=512, step=32)\n",
    "    hp_layer_2 = hp.Int('layer_2', min_value=32, max_value=512, step=32)\n",
    "    hp_layer_3 = hp.Int('layer_3', min_value=32, max_value=512, step=32)\n",
    "    hp_layer_4 = hp.Int('layer_4', min_value=32, max_value=512, step=32)\n",
    "    hp_layer_5 = hp.Int('layer_5', min_value=32, max_value=512, step=32)\n",
    "    hp_learning_rate = hp.Choice('learning_rate', values=[1e-2, 1e-3, 1e-4])\n",
    "\n",
    "    model.add(Dense(units=hp_layer_1, activation=hp_activation))\n",
    "    model.add(Dense(units=hp_layer_2, activation=hp_activation))\n",
    "    model.add(Dense(units=hp_layer_3, activation=hp_activation))\n",
    "    model.add(Dense(units=hp_layer_4, activation=hp_activation))\n",
    "    model.add(Dense(units=hp_layer_5, activation=hp_activation))\n",
    "    model.add(Dense(2, activation = \"softmax\"))\n",
    "\n",
    "    model.compile(optimizer=Adam(learning_rate=hp_learning_rate), loss=\"categorical_crossentropy\", metrics = [\"accuracy\"])\n",
    "    \n",
    "    return model"
   ]
  },
  {
   "cell_type": "code",
   "execution_count": 24,
   "id": "d6876162",
   "metadata": {
    "scrolled": true
   },
   "outputs": [
    {
     "name": "stdout",
     "output_type": "stream",
     "text": [
      "Trial 30 Complete [00h 00m 07s]\n",
      "accuracy: 0.9598197937011719\n",
      "\n",
      "Best accuracy So Far: 0.9814414381980896\n",
      "Total elapsed time: 00h 02m 28s\n",
      "INFO:tensorflow:Oracle triggered exit\n"
     ]
    }
   ],
   "source": [
    "tuner_7l_torso = kt.Hyperband(\n",
    "    model_7l_builder,\n",
    "    objective='accuracy',\n",
    "    max_epochs=10,\n",
    "    directory='keras_tuner_dir',\n",
    "    project_name='keras_tuner_demo_10'\n",
    ")\n",
    "tuner_7l_torso.search(x_train, y_train, epochs=10, callbacks=[keras.callbacks.EarlyStopping(patience=5)])"
   ]
  },
  {
   "cell_type": "code",
   "execution_count": 25,
   "id": "a3eac66b",
   "metadata": {},
   "outputs": [
    {
     "name": "stdout",
     "output_type": "stream",
     "text": [
      "Describe models architecture\n",
      "Layer-1: 52 units, func:  <function relu at 0x0000015F64858940>\n",
      "Layer-2: 224 units, func:  <function relu at 0x0000015F64858940>\n",
      "Layer-3: 416 units, func:  <function relu at 0x0000015F64858940>\n",
      "Layer-4: 288 units, func:  <function relu at 0x0000015F64858940>\n",
      "Layer-5: 512 units, func:  <function relu at 0x0000015F64858940>\n",
      "Layer-6: 128 units, func:  <function relu at 0x0000015F64858940>\n",
      "Layer-7: 2 units, func:  <function softmax at 0x0000015F64850EE0>\n",
      "\n",
      "Other params:\n",
      "learning_rate: 0.0001\n",
      "Epoch 1/100\n",
      "555/555 [==============================] - 4s 7ms/step - loss: 0.2417 - accuracy: 0.9094 - val_loss: 0.1660 - val_accuracy: 0.9258\n",
      "Epoch 2/100\n",
      "555/555 [==============================] - 3s 5ms/step - loss: 0.1509 - accuracy: 0.9328 - val_loss: 0.1462 - val_accuracy: 0.9359\n",
      "Epoch 3/100\n",
      "555/555 [==============================] - 3s 5ms/step - loss: 0.1206 - accuracy: 0.9485 - val_loss: 0.1493 - val_accuracy: 0.9395\n",
      "Epoch 4/100\n",
      "555/555 [==============================] - 3s 5ms/step - loss: 0.1112 - accuracy: 0.9548 - val_loss: 0.1516 - val_accuracy: 0.9373\n",
      "Epoch 5/100\n",
      "555/555 [==============================] - 3s 5ms/step - loss: 0.0902 - accuracy: 0.9636 - val_loss: 0.1344 - val_accuracy: 0.9474\n",
      "Epoch 6/100\n",
      "555/555 [==============================] - 3s 5ms/step - loss: 0.0750 - accuracy: 0.9695 - val_loss: 0.1435 - val_accuracy: 0.9539\n",
      "Epoch 7/100\n",
      "555/555 [==============================] - 3s 5ms/step - loss: 0.0639 - accuracy: 0.9766 - val_loss: 0.1439 - val_accuracy: 0.9517\n",
      "Epoch 8/100\n",
      "555/555 [==============================] - 3s 5ms/step - loss: 0.0555 - accuracy: 0.9796 - val_loss: 0.1585 - val_accuracy: 0.9510\n",
      "Epoch 9/100\n",
      "555/555 [==============================] - 3s 5ms/step - loss: 0.0423 - accuracy: 0.9850 - val_loss: 0.1444 - val_accuracy: 0.9532\n",
      "Epoch 10/100\n",
      "555/555 [==============================] - 3s 5ms/step - loss: 0.0430 - accuracy: 0.9831 - val_loss: 0.1796 - val_accuracy: 0.9344\n",
      "Epoch 11/100\n",
      "555/555 [==============================] - 3s 6ms/step - loss: 0.0309 - accuracy: 0.9897 - val_loss: 0.1749 - val_accuracy: 0.9553\n",
      "Epoch 12/100\n",
      "555/555 [==============================] - 3s 5ms/step - loss: 0.0313 - accuracy: 0.9886 - val_loss: 0.1599 - val_accuracy: 0.9575\n",
      "Epoch 13/100\n",
      "555/555 [==============================] - 3s 5ms/step - loss: 0.0231 - accuracy: 0.9917 - val_loss: 0.1696 - val_accuracy: 0.9604\n",
      "Epoch 14/100\n",
      "555/555 [==============================] - 4s 6ms/step - loss: 0.0229 - accuracy: 0.9915 - val_loss: 0.1870 - val_accuracy: 0.9510\n",
      "Epoch 15/100\n",
      "555/555 [==============================] - 3s 6ms/step - loss: 0.0204 - accuracy: 0.9914 - val_loss: 0.2040 - val_accuracy: 0.9561\n",
      "Epoch 16/100\n",
      "555/555 [==============================] - 3s 5ms/step - loss: 0.0163 - accuracy: 0.9948 - val_loss: 0.1893 - val_accuracy: 0.9611\n",
      "Epoch 17/100\n",
      "555/555 [==============================] - 3s 6ms/step - loss: 0.0123 - accuracy: 0.9968 - val_loss: 0.2060 - val_accuracy: 0.9553\n",
      "Epoch 18/100\n",
      "555/555 [==============================] - 3s 5ms/step - loss: 0.0192 - accuracy: 0.9937 - val_loss: 0.1883 - val_accuracy: 0.9640\n",
      "Epoch 19/100\n",
      "555/555 [==============================] - 3s 5ms/step - loss: 0.0086 - accuracy: 0.9980 - val_loss: 0.1953 - val_accuracy: 0.9597\n",
      "Epoch 20/100\n",
      "555/555 [==============================] - 4s 6ms/step - loss: 0.0112 - accuracy: 0.9966 - val_loss: 0.2152 - val_accuracy: 0.9582\n",
      "Epoch 21/100\n",
      "555/555 [==============================] - 3s 6ms/step - loss: 0.0219 - accuracy: 0.9928 - val_loss: 0.1861 - val_accuracy: 0.9640\n",
      "Epoch 22/100\n",
      "555/555 [==============================] - 3s 6ms/step - loss: 0.0093 - accuracy: 0.9971 - val_loss: 0.2211 - val_accuracy: 0.9604\n"
     ]
    },
    {
     "data": {
      "text/plain": [
       "<keras.callbacks.History at 0x15f6d4f9af0>"
      ]
     },
     "execution_count": 25,
     "metadata": {},
     "output_type": "execute_result"
    }
   ],
   "source": [
    "model_7l = get_best_model(tuner_7l_torso)\n",
    "model_7l.fit(x_train, y_train, epochs=100, batch_size=10, validation_data=(x_test, y_test), callbacks=[stop_early])"
   ]
  },
  {
   "cell_type": "code",
   "execution_count": 26,
   "id": "8ea96f75",
   "metadata": {},
   "outputs": [],
   "source": [
    "final_models[\"7_layers_torso\"] = model_7l"
   ]
  },
  {
   "cell_type": "code",
   "execution_count": 27,
   "id": "74e84527",
   "metadata": {},
   "outputs": [
    {
     "name": "stdout",
     "output_type": "stream",
     "text": [
      "3_layers_torso: Describe models architecture\n",
      "Layer-1: 52 units, func:  <function relu at 0x0000015F64858940>\n",
      "Layer-2: 352 units, func:  <function relu at 0x0000015F64858940>\n",
      "Layer-3: 2 units, func:  <function softmax at 0x0000015F64850EE0>\n",
      "\n",
      "5_layers_torso: Describe models architecture\n",
      "Layer-1: 52 units, func:  <function relu at 0x0000015F64858940>\n",
      "Layer-2: 288 units, func:  <function relu at 0x0000015F64858940>\n",
      "Layer-3: 288 units, func:  <function relu at 0x0000015F64858940>\n",
      "Layer-4: 224 units, func:  <function relu at 0x0000015F64858940>\n",
      "Layer-5: 2 units, func:  <function softmax at 0x0000015F64850EE0>\n",
      "\n",
      "7_layers_with_dropout_torso: Describe models architecture\n",
      "Layer-1: 52 units, func:  <function relu at 0x0000015F64858940>\n",
      "Layer-2: 96 units, func:  <function relu at 0x0000015F64858940>\n",
      "Layer-3: 0 units, func: None\n",
      "Layer-4: 320 units, func:  <function relu at 0x0000015F64858940>\n",
      "Layer-5: 0 units, func: None\n",
      "Layer-6: 256 units, func:  <function relu at 0x0000015F64858940>\n",
      "Layer-7: 2 units, func:  <function softmax at 0x0000015F64850EE0>\n",
      "\n",
      "7_layers_torso: Describe models architecture\n",
      "Layer-1: 52 units, func:  <function relu at 0x0000015F64858940>\n",
      "Layer-2: 224 units, func:  <function relu at 0x0000015F64858940>\n",
      "Layer-3: 416 units, func:  <function relu at 0x0000015F64858940>\n",
      "Layer-4: 288 units, func:  <function relu at 0x0000015F64858940>\n",
      "Layer-5: 512 units, func:  <function relu at 0x0000015F64858940>\n",
      "Layer-6: 128 units, func:  <function relu at 0x0000015F64858940>\n",
      "Layer-7: 2 units, func:  <function softmax at 0x0000015F64850EE0>\n",
      "\n"
     ]
    }
   ],
   "source": [
    "for name, model in final_models.items():\n",
    "    print(f\"{name}: \", end=\"\")\n",
    "    describe_model(model)\n",
    "    print()"
   ]
  },
  {
   "cell_type": "code",
   "execution_count": 28,
   "id": "cfe190cc",
   "metadata": {},
   "outputs": [
    {
     "data": {
      "text/html": [
       "<div>\n",
       "<style scoped>\n",
       "    .dataframe tbody tr th:only-of-type {\n",
       "        vertical-align: middle;\n",
       "    }\n",
       "\n",
       "    .dataframe tbody tr th {\n",
       "        vertical-align: top;\n",
       "    }\n",
       "\n",
       "    .dataframe thead th {\n",
       "        text-align: right;\n",
       "    }\n",
       "</style>\n",
       "<table border=\"1\" class=\"dataframe\">\n",
       "  <thead>\n",
       "    <tr style=\"text-align: right;\">\n",
       "      <th></th>\n",
       "      <th>Model</th>\n",
       "      <th>Precision Score</th>\n",
       "      <th>Recall Score</th>\n",
       "      <th>F1 score</th>\n",
       "      <th>Confusion Matrix</th>\n",
       "    </tr>\n",
       "  </thead>\n",
       "  <tbody>\n",
       "    <tr>\n",
       "      <th>0</th>\n",
       "      <td>7_layers_with_dropout_torso</td>\n",
       "      <td>[0.977, 0.783]</td>\n",
       "      <td>[0.979, 0.764]</td>\n",
       "      <td>[0.978, 0.774]</td>\n",
       "      <td>[[1239, 26], [29, 94]]</td>\n",
       "    </tr>\n",
       "    <tr>\n",
       "      <th>1</th>\n",
       "      <td>7_layers_torso</td>\n",
       "      <td>[0.971, 0.827]</td>\n",
       "      <td>[0.986, 0.699]</td>\n",
       "      <td>[0.978, 0.758]</td>\n",
       "      <td>[[1247, 18], [37, 86]]</td>\n",
       "    </tr>\n",
       "    <tr>\n",
       "      <th>2</th>\n",
       "      <td>3_layers_torso</td>\n",
       "      <td>[0.975, 0.765]</td>\n",
       "      <td>[0.978, 0.74]</td>\n",
       "      <td>[0.976, 0.752]</td>\n",
       "      <td>[[1237, 28], [32, 91]]</td>\n",
       "    </tr>\n",
       "    <tr>\n",
       "      <th>3</th>\n",
       "      <td>5_layers_torso</td>\n",
       "      <td>[0.968, 0.812]</td>\n",
       "      <td>[0.985, 0.667]</td>\n",
       "      <td>[0.976, 0.732]</td>\n",
       "      <td>[[1246, 19], [41, 82]]</td>\n",
       "    </tr>\n",
       "  </tbody>\n",
       "</table>\n",
       "</div>"
      ],
      "text/plain": [
       "                         Model Precision Score    Recall Score  \\\n",
       "0  7_layers_with_dropout_torso  [0.977, 0.783]  [0.979, 0.764]   \n",
       "1               7_layers_torso  [0.971, 0.827]  [0.986, 0.699]   \n",
       "2               3_layers_torso  [0.975, 0.765]   [0.978, 0.74]   \n",
       "3               5_layers_torso  [0.968, 0.812]  [0.985, 0.667]   \n",
       "\n",
       "         F1 score        Confusion Matrix  \n",
       "0  [0.978, 0.774]  [[1239, 26], [29, 94]]  \n",
       "1  [0.978, 0.758]  [[1247, 18], [37, 86]]  \n",
       "2  [0.976, 0.752]  [[1237, 28], [32, 91]]  \n",
       "3  [0.976, 0.732]  [[1246, 19], [41, 82]]  "
      ]
     },
     "execution_count": 28,
     "metadata": {},
     "output_type": "execute_result"
    }
   ],
   "source": [
    "train_set_results = []\n",
    "\n",
    "for name, model in final_models.items():\n",
    "    # Evaluate model\n",
    "    predict_x = model.predict(x_test, verbose=False) \n",
    "    y_pred_class = np.argmax(predict_x, axis=1)\n",
    "    y_test_class = np.argmax(y_test, axis=1)\n",
    "\n",
    "    cm = confusion_matrix(y_test_class, y_pred_class, labels=[0, 1])\n",
    "    (p_score, r_score, f_score, _) = precision_recall_fscore_support(y_test_class, y_pred_class, labels=[0, 1])\n",
    "    \n",
    "    train_set_results.append(( name, round_up_metric_results(p_score), round_up_metric_results(r_score), round_up_metric_results(f_score), cm ))\n",
    "\n",
    "train_set_results.sort(key=lambda k: sum(k[3]), reverse=True)\n",
    "pd.DataFrame(train_set_results, columns=[\"Model\", \"Precision Score\", \"Recall Score\", \"F1 score\", \"Confusion Matrix\"])"
   ]
  },
  {
   "cell_type": "code",
   "execution_count": 29,
   "id": "0635247e",
   "metadata": {},
   "outputs": [
    {
     "name": "stdout",
     "output_type": "stream",
     "text": [
      "Headers: ['label', 'nose_x', 'nose_y', 'nose_z', 'nose_v', 'left_shoulder_x', 'left_shoulder_y', 'left_shoulder_z', 'left_shoulder_v', 'right_shoulder_x', 'right_shoulder_y', 'right_shoulder_z', 'right_shoulder_v', 'left_elbow_x', 'left_elbow_y', 'left_elbow_z', 'left_elbow_v', 'right_elbow_x', 'right_elbow_y', 'right_elbow_z', 'right_elbow_v', 'left_wrist_x', 'left_wrist_y', 'left_wrist_z', 'left_wrist_v', 'right_wrist_x', 'right_wrist_y', 'right_wrist_z', 'right_wrist_v', 'left_hip_x', 'left_hip_y', 'left_hip_z', 'left_hip_v', 'right_hip_x', 'right_hip_y', 'right_hip_z', 'right_hip_v', 'left_knee_x', 'left_knee_y', 'left_knee_z', 'left_knee_v', 'right_knee_x', 'right_knee_y', 'right_knee_z', 'right_knee_v', 'left_ankle_x', 'left_ankle_y', 'left_ankle_z', 'left_ankle_v', 'right_ankle_x', 'right_ankle_y', 'right_ankle_z', 'right_ankle_v']\n",
      "Number of rows: 2449 \n",
      "Number of columns: 53\n",
      "\n",
      "Labels: \n",
      "torso_correct    2229\n",
      "torso_error       220\n",
      "Name: label, dtype: int64\n",
      "\n",
      "Missing values: False\n",
      "\n",
      "Duplicate Rows : 0\n"
     ]
    }
   ],
   "source": [
    "# load dataset\n",
    "test_df = describe_dataset(\"./torso_test.csv\")\n",
    "\n",
    "# Categorizing label\n",
    "test_df.loc[test_df[\"label\"] == \"torso_correct\", \"label\"] = 0\n",
    "test_df.loc[test_df[\"label\"] == \"torso_error\", \"label\"] = 1"
   ]
  },
  {
   "cell_type": "code",
   "execution_count": 30,
   "id": "45e13f2c",
   "metadata": {},
   "outputs": [],
   "source": [
    "# Standard Scaling of features\n",
    "test_x = test_df.drop(\"label\", axis = 1)\n",
    "test_x = pd.DataFrame(sc.transform(test_x))\n",
    "\n",
    "test_y = test_df[\"label\"]\n",
    "\n",
    "# # Converting prediction to categorical\n",
    "test_y_cat = to_categorical(test_y)"
   ]
  },
  {
   "cell_type": "code",
   "execution_count": 31,
   "id": "4094fcb5",
   "metadata": {},
   "outputs": [
    {
     "data": {
      "text/html": [
       "<div>\n",
       "<style scoped>\n",
       "    .dataframe tbody tr th:only-of-type {\n",
       "        vertical-align: middle;\n",
       "    }\n",
       "\n",
       "    .dataframe tbody tr th {\n",
       "        vertical-align: top;\n",
       "    }\n",
       "\n",
       "    .dataframe thead th {\n",
       "        text-align: right;\n",
       "    }\n",
       "</style>\n",
       "<table border=\"1\" class=\"dataframe\">\n",
       "  <thead>\n",
       "    <tr style=\"text-align: right;\">\n",
       "      <th></th>\n",
       "      <th>Model</th>\n",
       "      <th>Precision Score</th>\n",
       "      <th>Recall Score</th>\n",
       "      <th>F1 score</th>\n",
       "      <th>Confusion Matrix</th>\n",
       "    </tr>\n",
       "  </thead>\n",
       "  <tbody>\n",
       "    <tr>\n",
       "      <th>0</th>\n",
       "      <td>3_layers_torso</td>\n",
       "      <td>[0.96, 0.655]</td>\n",
       "      <td>[0.969, 0.586]</td>\n",
       "      <td>[0.965, 0.619]</td>\n",
       "      <td>[[2161, 68], [91, 129]]</td>\n",
       "    </tr>\n",
       "    <tr>\n",
       "      <th>1</th>\n",
       "      <td>7_layers_with_dropout_torso</td>\n",
       "      <td>[0.954, 0.685]</td>\n",
       "      <td>[0.976, 0.523]</td>\n",
       "      <td>[0.965, 0.593]</td>\n",
       "      <td>[[2176, 53], [105, 115]]</td>\n",
       "    </tr>\n",
       "    <tr>\n",
       "      <th>2</th>\n",
       "      <td>5_layers_torso</td>\n",
       "      <td>[0.942, 0.672]</td>\n",
       "      <td>[0.981, 0.391]</td>\n",
       "      <td>[0.961, 0.494]</td>\n",
       "      <td>[[2187, 42], [134, 86]]</td>\n",
       "    </tr>\n",
       "    <tr>\n",
       "      <th>3</th>\n",
       "      <td>7_layers_torso</td>\n",
       "      <td>[0.942, 0.647]</td>\n",
       "      <td>[0.979, 0.391]</td>\n",
       "      <td>[0.96, 0.487]</td>\n",
       "      <td>[[2182, 47], [134, 86]]</td>\n",
       "    </tr>\n",
       "  </tbody>\n",
       "</table>\n",
       "</div>"
      ],
      "text/plain": [
       "                         Model Precision Score    Recall Score  \\\n",
       "0               3_layers_torso   [0.96, 0.655]  [0.969, 0.586]   \n",
       "1  7_layers_with_dropout_torso  [0.954, 0.685]  [0.976, 0.523]   \n",
       "2               5_layers_torso  [0.942, 0.672]  [0.981, 0.391]   \n",
       "3               7_layers_torso  [0.942, 0.647]  [0.979, 0.391]   \n",
       "\n",
       "         F1 score          Confusion Matrix  \n",
       "0  [0.965, 0.619]   [[2161, 68], [91, 129]]  \n",
       "1  [0.965, 0.593]  [[2176, 53], [105, 115]]  \n",
       "2  [0.961, 0.494]   [[2187, 42], [134, 86]]  \n",
       "3   [0.96, 0.487]   [[2182, 47], [134, 86]]  "
      ]
     },
     "execution_count": 31,
     "metadata": {},
     "output_type": "execute_result"
    }
   ],
   "source": [
    "test_set_results = []\n",
    "\n",
    "for name, model in final_models.items():\n",
    "    # Evaluate model\n",
    "    predict_x = model.predict(test_x, verbose=False) \n",
    "    y_pred_class = np.argmax(predict_x, axis=1)\n",
    "    y_test_class = np.argmax(test_y_cat, axis=1)\n",
    "\n",
    "    cm = confusion_matrix(y_test_class, y_pred_class, labels=[0, 1])\n",
    "    (p_score, r_score, f_score, _) = precision_recall_fscore_support(y_test_class, y_pred_class, labels=[0, 1])\n",
    "    \n",
    "    test_set_results.append(( name, round_up_metric_results(p_score), round_up_metric_results(r_score), round_up_metric_results(f_score), cm ))\n",
    "\n",
    "test_set_results.sort(key=lambda k: k[1] + k[2] + k[3], reverse=True)\n",
    "pd.DataFrame(test_set_results, columns=[\"Model\", \"Precision Score\", \"Recall Score\", \"F1 score\", \"Confusion Matrix\"])"
   ]
  },
  {
   "cell_type": "code",
   "execution_count": 32,
   "id": "d0dcf762",
   "metadata": {},
   "outputs": [],
   "source": [
    "final_models[\"3_layers_torso\"].save(\"./model/barbell_torso_dp.h5\")"
   ]
  },
  {
   "cell_type": "code",
   "execution_count": 33,
   "id": "17313461",
   "metadata": {},
   "outputs": [],
   "source": [
    "for model_name, model in final_models.items():\n",
    "    model.save(f\"./model/{model_name}.h5\")"
   ]
  }
 ],
 "metadata": {
  "kernelspec": {
   "display_name": "Python 3 (ipykernel)",
   "language": "python",
   "name": "python3"
  },
  "language_info": {
   "codemirror_mode": {
    "name": "ipython",
    "version": 3
   },
   "file_extension": ".py",
   "mimetype": "text/x-python",
   "name": "python",
   "nbconvert_exporter": "python",
   "pygments_lexer": "ipython3",
   "version": "3.9.13"
  }
 },
 "nbformat": 4,
 "nbformat_minor": 5
}
