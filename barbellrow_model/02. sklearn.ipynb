{
 "cells": [
  {
   "cell_type": "code",
   "execution_count": 1,
   "id": "3c58e043",
   "metadata": {},
   "outputs": [],
   "source": [
    "import mediapipe as mp\n",
    "import cv2\n",
    "import pandas as pd\n",
    "import pickle\n",
    "\n",
    "from sklearn.model_selection import train_test_split\n",
    "from sklearn.linear_model import LogisticRegression, SGDClassifier\n",
    "from sklearn.svm import SVC\n",
    "from sklearn.neighbors import KNeighborsClassifier\n",
    "from sklearn.tree import DecisionTreeClassifier\n",
    "from sklearn.ensemble import RandomForestClassifier\n",
    "from sklearn.naive_bayes import GaussianNB\n",
    "from sklearn.metrics import precision_score, accuracy_score, f1_score, recall_score, confusion_matrix\n",
    "from sklearn.preprocessing import StandardScaler\n",
    "from sklearn.calibration import CalibratedClassifierCV\n",
    "\n",
    "import warnings\n",
    "warnings.filterwarnings('ignore')\n",
    "\n",
    "# Drawing helpers\n",
    "mp_drawing = mp.solutions.drawing_utils\n",
    "mp_pose = mp.solutions.pose"
   ]
  },
  {
   "cell_type": "code",
   "execution_count": 2,
   "id": "ac953fc9",
   "metadata": {},
   "outputs": [],
   "source": [
    "def rescale_frame(frame, percent=50):\n",
    "    '''\n",
    "    Rescale a frame to a certain percentage compare to its original frame\n",
    "    '''\n",
    "    width = int(frame.shape[1] * percent/ 100)\n",
    "    height = int(frame.shape[0] * percent/ 100)\n",
    "    dim = (width, height)\n",
    "    return cv2.resize(frame, dim, interpolation = cv2.INTER_AREA)\n",
    "\n",
    "\n",
    "def describe_dataset(dataset_path: str):\n",
    "    '''\n",
    "    Describe dataset\n",
    "    '''\n",
    "\n",
    "    data = pd.read_csv(dataset_path)\n",
    "    print(f\"Headers: {list(data.columns.values)}\")\n",
    "    print(f'Number of rows: {data.shape[0]} \\nNumber of columns: {data.shape[1]}\\n')\n",
    "    print(f\"Labels: \\n{data['label'].value_counts()}\\n\")\n",
    "    print(f\"Missing values: {data.isnull().values.any()}\\n\")\n",
    "    \n",
    "    duplicate = data[data.duplicated()]\n",
    "    print(f\"Duplicate Rows : {len(duplicate.sum(axis=1))}\")\n",
    "\n",
    "    return data\n",
    "\n",
    "\n",
    "def round_up_metric_results(results) -> list:\n",
    "    '''Round up metrics results such as precision score, recall score, ...'''\n",
    "    return list(map(lambda el: round(el, 3), results))"
   ]
  },
  {
   "cell_type": "code",
   "execution_count": 3,
   "id": "08d0fbb1",
   "metadata": {
    "scrolled": true
   },
   "outputs": [
    {
     "name": "stdout",
     "output_type": "stream",
     "text": [
      "Headers: ['label', 'nose_x', 'nose_y', 'nose_z', 'nose_v', 'left_shoulder_x', 'left_shoulder_y', 'left_shoulder_z', 'left_shoulder_v', 'right_shoulder_x', 'right_shoulder_y', 'right_shoulder_z', 'right_shoulder_v', 'left_elbow_x', 'left_elbow_y', 'left_elbow_z', 'left_elbow_v', 'right_elbow_x', 'right_elbow_y', 'right_elbow_z', 'right_elbow_v', 'left_wrist_x', 'left_wrist_y', 'left_wrist_z', 'left_wrist_v', 'right_wrist_x', 'right_wrist_y', 'right_wrist_z', 'right_wrist_v', 'left_hip_x', 'left_hip_y', 'left_hip_z', 'left_hip_v', 'right_hip_x', 'right_hip_y', 'right_hip_z', 'right_hip_v', 'left_knee_x', 'left_knee_y', 'left_knee_z', 'left_knee_v', 'right_knee_x', 'right_knee_y', 'right_knee_z', 'right_knee_v', 'left_ankle_x', 'left_ankle_y', 'left_ankle_z', 'left_ankle_v', 'right_ankle_x', 'right_ankle_y', 'right_ankle_z', 'right_ankle_v']\n",
      "Number of rows: 5891 \n",
      "Number of columns: 53\n",
      "\n",
      "Labels: \n",
      "lumbar_correct    5001\n",
      "lumbar_error       890\n",
      "Name: label, dtype: int64\n",
      "\n",
      "Missing values: False\n",
      "\n",
      "Duplicate Rows : 0\n"
     ]
    }
   ],
   "source": [
    "# load dataset\n",
    "df = describe_dataset(\"./lumbar_train.csv\")\n",
    "\n",
    "# Categorizing label\n",
    "df.loc[df[\"label\"] == \"lumbar_correct\", \"label\"] = 0\n",
    "df.loc[df[\"label\"] == \"lumbar_error\", \"label\"] = 1"
   ]
  },
  {
   "cell_type": "code",
   "execution_count": 4,
   "id": "80b94fb8",
   "metadata": {},
   "outputs": [
    {
     "name": "stdout",
     "output_type": "stream",
     "text": [
      "Headers: ['label', 'nose_x', 'nose_y', 'nose_z', 'nose_v', 'left_shoulder_x', 'left_shoulder_y', 'left_shoulder_z', 'left_shoulder_v', 'right_shoulder_x', 'right_shoulder_y', 'right_shoulder_z', 'right_shoulder_v', 'left_elbow_x', 'left_elbow_y', 'left_elbow_z', 'left_elbow_v', 'right_elbow_x', 'right_elbow_y', 'right_elbow_z', 'right_elbow_v', 'left_wrist_x', 'left_wrist_y', 'left_wrist_z', 'left_wrist_v', 'right_wrist_x', 'right_wrist_y', 'right_wrist_z', 'right_wrist_v', 'left_hip_x', 'left_hip_y', 'left_hip_z', 'left_hip_v', 'right_hip_x', 'right_hip_y', 'right_hip_z', 'right_hip_v', 'left_knee_x', 'left_knee_y', 'left_knee_z', 'left_knee_v', 'right_knee_x', 'right_knee_y', 'right_knee_z', 'right_knee_v', 'left_ankle_x', 'left_ankle_y', 'left_ankle_z', 'left_ankle_v', 'right_ankle_x', 'right_ankle_y', 'right_ankle_z', 'right_ankle_v']\n",
      "Number of rows: 6938 \n",
      "Number of columns: 53\n",
      "\n",
      "Labels: \n",
      "torso_correct    6255\n",
      "torso_error       683\n",
      "Name: label, dtype: int64\n",
      "\n",
      "Missing values: False\n",
      "\n",
      "Duplicate Rows : 0\n"
     ]
    }
   ],
   "source": [
    "# load dataset\n",
    "df02 = describe_dataset(\"./torso_train.csv\")\n",
    "\n",
    "# Categorizing label\n",
    "df02.loc[df02[\"label\"] == \"torso_correct\", \"label\"] = 2\n",
    "df02.loc[df02[\"label\"] == \"torso_error\", \"label\"] = 3"
   ]
  },
  {
   "cell_type": "code",
   "execution_count": 5,
   "id": "f5d48b3d",
   "metadata": {},
   "outputs": [],
   "source": [
    "# Extract features and class\n",
    "X = df.drop(\"label\", axis=1)\n",
    "y = df[\"label\"].astype(\"int\")"
   ]
  },
  {
   "cell_type": "code",
   "execution_count": 6,
   "id": "1965d543",
   "metadata": {},
   "outputs": [],
   "source": [
    "# Extract features and class\n",
    "a = df02.drop(\"label\", axis=1)\n",
    "b = df02[\"label\"].astype(\"int\")"
   ]
  },
  {
   "cell_type": "code",
   "execution_count": 7,
   "id": "c9fcbba1",
   "metadata": {},
   "outputs": [],
   "source": [
    "sc = StandardScaler()\n",
    "X = pd.DataFrame(sc.fit_transform(X))"
   ]
  },
  {
   "cell_type": "code",
   "execution_count": 8,
   "id": "abac8149",
   "metadata": {},
   "outputs": [],
   "source": [
    "sc02 = StandardScaler()\n",
    "a = pd.DataFrame(sc02.fit_transform(a))"
   ]
  },
  {
   "cell_type": "code",
   "execution_count": 9,
   "id": "226fd649",
   "metadata": {},
   "outputs": [
    {
     "data": {
      "text/plain": [
       "785     1\n",
       "3810    0\n",
       "2123    0\n",
       "3859    0\n",
       "5756    0\n",
       "       ..\n",
       "664     1\n",
       "3276    0\n",
       "1318    0\n",
       "723     1\n",
       "2863    0\n",
       "Name: label, Length: 4712, dtype: int32"
      ]
     },
     "execution_count": 9,
     "metadata": {},
     "output_type": "execute_result"
    }
   ],
   "source": [
    "X_train, X_test, y_train, y_test = train_test_split(X, y, test_size=0.2, random_state=1234)\n",
    "y_train"
   ]
  },
  {
   "cell_type": "code",
   "execution_count": 10,
   "id": "7ee5f949",
   "metadata": {},
   "outputs": [
    {
     "data": {
      "text/plain": [
       "4113    2\n",
       "6770    2\n",
       "2532    2\n",
       "2322    2\n",
       "6680    2\n",
       "       ..\n",
       "664     3\n",
       "3276    2\n",
       "1318    2\n",
       "723     2\n",
       "2863    2\n",
       "Name: label, Length: 5550, dtype: int32"
      ]
     },
     "execution_count": 10,
     "metadata": {},
     "output_type": "execute_result"
    }
   ],
   "source": [
    "a_train, a_test, b_train, b_test = train_test_split(a, b, test_size=0.2, random_state=1234)\n",
    "b_train"
   ]
  },
  {
   "cell_type": "code",
   "execution_count": 11,
   "id": "bb5b0cbe",
   "metadata": {},
   "outputs": [
    {
     "data": {
      "text/html": [
       "<div>\n",
       "<style scoped>\n",
       "    .dataframe tbody tr th:only-of-type {\n",
       "        vertical-align: middle;\n",
       "    }\n",
       "\n",
       "    .dataframe tbody tr th {\n",
       "        vertical-align: top;\n",
       "    }\n",
       "\n",
       "    .dataframe thead th {\n",
       "        text-align: right;\n",
       "    }\n",
       "</style>\n",
       "<table border=\"1\" class=\"dataframe\">\n",
       "  <thead>\n",
       "    <tr style=\"text-align: right;\">\n",
       "      <th></th>\n",
       "      <th>Model</th>\n",
       "      <th>Precision Score</th>\n",
       "      <th>Accuracy score</th>\n",
       "      <th>Recall Score</th>\n",
       "      <th>F1 score</th>\n",
       "      <th>Confusion Matrix</th>\n",
       "    </tr>\n",
       "  </thead>\n",
       "  <tbody>\n",
       "    <tr>\n",
       "      <th>0</th>\n",
       "      <td>RF</td>\n",
       "      <td>[0.934, 0.893]</td>\n",
       "      <td>0.929601</td>\n",
       "      <td>[0.987, 0.609]</td>\n",
       "      <td>[0.96, 0.724]</td>\n",
       "      <td>[[987, 13], [70, 109]]</td>\n",
       "    </tr>\n",
       "    <tr>\n",
       "      <th>1</th>\n",
       "      <td>KNN</td>\n",
       "      <td>[0.934, 0.859]</td>\n",
       "      <td>0.926209</td>\n",
       "      <td>[0.982, 0.615]</td>\n",
       "      <td>[0.958, 0.717]</td>\n",
       "      <td>[[982, 18], [69, 110]]</td>\n",
       "    </tr>\n",
       "    <tr>\n",
       "      <th>2</th>\n",
       "      <td>SVC</td>\n",
       "      <td>[0.926, 0.847]</td>\n",
       "      <td>0.917727</td>\n",
       "      <td>[0.982, 0.559]</td>\n",
       "      <td>[0.953, 0.673]</td>\n",
       "      <td>[[982, 18], [79, 100]]</td>\n",
       "    </tr>\n",
       "    <tr>\n",
       "      <th>3</th>\n",
       "      <td>LR</td>\n",
       "      <td>[0.92, 0.701]</td>\n",
       "      <td>0.894826</td>\n",
       "      <td>[0.959, 0.536]</td>\n",
       "      <td>[0.939, 0.608]</td>\n",
       "      <td>[[959, 41], [83, 96]]</td>\n",
       "    </tr>\n",
       "    <tr>\n",
       "      <th>4</th>\n",
       "      <td>DTC</td>\n",
       "      <td>[0.919, 0.588]</td>\n",
       "      <td>0.872774</td>\n",
       "      <td>[0.932, 0.542]</td>\n",
       "      <td>[0.926, 0.564]</td>\n",
       "      <td>[[932, 68], [82, 97]]</td>\n",
       "    </tr>\n",
       "    <tr>\n",
       "      <th>5</th>\n",
       "      <td>SGDC</td>\n",
       "      <td>[0.902, 0.8]</td>\n",
       "      <td>0.893978</td>\n",
       "      <td>[0.982, 0.402]</td>\n",
       "      <td>[0.94, 0.535]</td>\n",
       "      <td>[[982, 18], [107, 72]]</td>\n",
       "    </tr>\n",
       "    <tr>\n",
       "      <th>6</th>\n",
       "      <td>NB</td>\n",
       "      <td>[0.934, 0.481]</td>\n",
       "      <td>0.840543</td>\n",
       "      <td>[0.874, 0.654]</td>\n",
       "      <td>[0.903, 0.555]</td>\n",
       "      <td>[[874, 126], [62, 117]]</td>\n",
       "    </tr>\n",
       "  </tbody>\n",
       "</table>\n",
       "</div>"
      ],
      "text/plain": [
       "  Model Precision Score  Accuracy score    Recall Score        F1 score  \\\n",
       "0    RF  [0.934, 0.893]        0.929601  [0.987, 0.609]   [0.96, 0.724]   \n",
       "1   KNN  [0.934, 0.859]        0.926209  [0.982, 0.615]  [0.958, 0.717]   \n",
       "2   SVC  [0.926, 0.847]        0.917727  [0.982, 0.559]  [0.953, 0.673]   \n",
       "3    LR   [0.92, 0.701]        0.894826  [0.959, 0.536]  [0.939, 0.608]   \n",
       "4   DTC  [0.919, 0.588]        0.872774  [0.932, 0.542]  [0.926, 0.564]   \n",
       "5  SGDC    [0.902, 0.8]        0.893978  [0.982, 0.402]   [0.94, 0.535]   \n",
       "6    NB  [0.934, 0.481]        0.840543  [0.874, 0.654]  [0.903, 0.555]   \n",
       "\n",
       "          Confusion Matrix  \n",
       "0   [[987, 13], [70, 109]]  \n",
       "1   [[982, 18], [69, 110]]  \n",
       "2   [[982, 18], [79, 100]]  \n",
       "3    [[959, 41], [83, 96]]  \n",
       "4    [[932, 68], [82, 97]]  \n",
       "5   [[982, 18], [107, 72]]  \n",
       "6  [[874, 126], [62, 117]]  "
      ]
     },
     "execution_count": 11,
     "metadata": {},
     "output_type": "execute_result"
    }
   ],
   "source": [
    "algorithms =[(\"LR\", LogisticRegression()),\n",
    "         (\"SVC\", SVC(probability=True)),\n",
    "         ('KNN',KNeighborsClassifier()),\n",
    "         (\"DTC\", DecisionTreeClassifier()),\n",
    "         (\"SGDC\", CalibratedClassifierCV(SGDClassifier())),\n",
    "         (\"NB\", GaussianNB()),\n",
    "         ('RF', RandomForestClassifier()),]\n",
    "\n",
    "models = {}\n",
    "final_results = []\n",
    "\n",
    "for name, model in algorithms:\n",
    "    trained_model = model.fit(X_train, y_train)\n",
    "    models[name] = trained_model\n",
    "\n",
    "    # Evaluate model\n",
    "    model_results = model.predict(X_test)\n",
    "\n",
    "    p_score = precision_score(y_test, model_results, average=None, labels=[0, 1])\n",
    "    a_score = accuracy_score(y_test, model_results)\n",
    "    r_score = recall_score(y_test, model_results, average=None, labels=[0, 1])\n",
    "    f1_score_result = f1_score(y_test, model_results, average=None, labels=[0, 1])\n",
    "    cm = confusion_matrix(y_test, model_results, labels=[0, 1])\n",
    "    final_results.append(( name,  round_up_metric_results(p_score), a_score, round_up_metric_results(r_score), round_up_metric_results(f1_score_result), cm))\n",
    "\n",
    "# Sort results by F1 score\n",
    "final_results.sort(key=lambda k: sum(k[4]), reverse=True)\n",
    "pd.DataFrame(final_results, columns=[\"Model\", \"Precision Score\", \"Accuracy score\", \"Recall Score\", \"F1 score\", \"Confusion Matrix\"])"
   ]
  },
  {
   "cell_type": "code",
   "execution_count": 12,
   "id": "5d8a1dbc",
   "metadata": {},
   "outputs": [
    {
     "data": {
      "text/html": [
       "<div>\n",
       "<style scoped>\n",
       "    .dataframe tbody tr th:only-of-type {\n",
       "        vertical-align: middle;\n",
       "    }\n",
       "\n",
       "    .dataframe tbody tr th {\n",
       "        vertical-align: top;\n",
       "    }\n",
       "\n",
       "    .dataframe thead th {\n",
       "        text-align: right;\n",
       "    }\n",
       "</style>\n",
       "<table border=\"1\" class=\"dataframe\">\n",
       "  <thead>\n",
       "    <tr style=\"text-align: right;\">\n",
       "      <th></th>\n",
       "      <th>Model</th>\n",
       "      <th>Precision Score</th>\n",
       "      <th>Accuracy score</th>\n",
       "      <th>Recall Score</th>\n",
       "      <th>F1 score</th>\n",
       "      <th>Confusion Matrix</th>\n",
       "    </tr>\n",
       "  </thead>\n",
       "  <tbody>\n",
       "    <tr>\n",
       "      <th>0</th>\n",
       "      <td>RF</td>\n",
       "      <td>[0.934, 0.893]</td>\n",
       "      <td>0.929601</td>\n",
       "      <td>[0.987, 0.609]</td>\n",
       "      <td>[0.96, 0.724]</td>\n",
       "      <td>[[987, 13], [70, 109]]</td>\n",
       "    </tr>\n",
       "    <tr>\n",
       "      <th>1</th>\n",
       "      <td>KNN</td>\n",
       "      <td>[0.934, 0.859]</td>\n",
       "      <td>0.926209</td>\n",
       "      <td>[0.982, 0.615]</td>\n",
       "      <td>[0.958, 0.717]</td>\n",
       "      <td>[[982, 18], [69, 110]]</td>\n",
       "    </tr>\n",
       "    <tr>\n",
       "      <th>2</th>\n",
       "      <td>SVC</td>\n",
       "      <td>[0.926, 0.847]</td>\n",
       "      <td>0.917727</td>\n",
       "      <td>[0.982, 0.559]</td>\n",
       "      <td>[0.953, 0.673]</td>\n",
       "      <td>[[982, 18], [79, 100]]</td>\n",
       "    </tr>\n",
       "    <tr>\n",
       "      <th>3</th>\n",
       "      <td>LR</td>\n",
       "      <td>[0.92, 0.701]</td>\n",
       "      <td>0.894826</td>\n",
       "      <td>[0.959, 0.536]</td>\n",
       "      <td>[0.939, 0.608]</td>\n",
       "      <td>[[959, 41], [83, 96]]</td>\n",
       "    </tr>\n",
       "    <tr>\n",
       "      <th>4</th>\n",
       "      <td>DTC</td>\n",
       "      <td>[0.919, 0.588]</td>\n",
       "      <td>0.872774</td>\n",
       "      <td>[0.932, 0.542]</td>\n",
       "      <td>[0.926, 0.564]</td>\n",
       "      <td>[[932, 68], [82, 97]]</td>\n",
       "    </tr>\n",
       "    <tr>\n",
       "      <th>5</th>\n",
       "      <td>SGDC</td>\n",
       "      <td>[0.902, 0.8]</td>\n",
       "      <td>0.893978</td>\n",
       "      <td>[0.982, 0.402]</td>\n",
       "      <td>[0.94, 0.535]</td>\n",
       "      <td>[[982, 18], [107, 72]]</td>\n",
       "    </tr>\n",
       "    <tr>\n",
       "      <th>6</th>\n",
       "      <td>NB</td>\n",
       "      <td>[0.934, 0.481]</td>\n",
       "      <td>0.840543</td>\n",
       "      <td>[0.874, 0.654]</td>\n",
       "      <td>[0.903, 0.555]</td>\n",
       "      <td>[[874, 126], [62, 117]]</td>\n",
       "    </tr>\n",
       "  </tbody>\n",
       "</table>\n",
       "</div>"
      ],
      "text/plain": [
       "  Model Precision Score  Accuracy score    Recall Score        F1 score  \\\n",
       "0    RF  [0.934, 0.893]        0.929601  [0.987, 0.609]   [0.96, 0.724]   \n",
       "1   KNN  [0.934, 0.859]        0.926209  [0.982, 0.615]  [0.958, 0.717]   \n",
       "2   SVC  [0.926, 0.847]        0.917727  [0.982, 0.559]  [0.953, 0.673]   \n",
       "3    LR   [0.92, 0.701]        0.894826  [0.959, 0.536]  [0.939, 0.608]   \n",
       "4   DTC  [0.919, 0.588]        0.872774  [0.932, 0.542]  [0.926, 0.564]   \n",
       "5  SGDC    [0.902, 0.8]        0.893978  [0.982, 0.402]   [0.94, 0.535]   \n",
       "6    NB  [0.934, 0.481]        0.840543  [0.874, 0.654]  [0.903, 0.555]   \n",
       "\n",
       "          Confusion Matrix  \n",
       "0   [[987, 13], [70, 109]]  \n",
       "1   [[982, 18], [69, 110]]  \n",
       "2   [[982, 18], [79, 100]]  \n",
       "3    [[959, 41], [83, 96]]  \n",
       "4    [[932, 68], [82, 97]]  \n",
       "5   [[982, 18], [107, 72]]  \n",
       "6  [[874, 126], [62, 117]]  "
      ]
     },
     "execution_count": 12,
     "metadata": {},
     "output_type": "execute_result"
    }
   ],
   "source": [
    "algorithms02 =[(\"LR\", LogisticRegression()),\n",
    "         (\"SVC\", SVC(probability=True)),\n",
    "         ('KNN',KNeighborsClassifier()),\n",
    "         (\"DTC\", DecisionTreeClassifier()),\n",
    "         (\"SGDC\", CalibratedClassifierCV(SGDClassifier())),\n",
    "         (\"NB\", GaussianNB()),\n",
    "         ('RF', RandomForestClassifier()),]\n",
    "\n",
    "models02 = {}\n",
    "final_results02 = []\n",
    "\n",
    "for name, model in algorithms02:\n",
    "    trained_model02 = model.fit(a_train, b_train)\n",
    "    models02[name] = trained_model02\n",
    "\n",
    "    # Evaluate model\n",
    "    model_results02 = model.predict(a_test)\n",
    "\n",
    "    p_score = precision_score(b_test, model_results02, average=None, labels=[2, 3])\n",
    "    a_score = accuracy_score(b_test, model_results02)\n",
    "    r_score = recall_score(b_test, model_results02, average=None, labels=[2, 3])\n",
    "    f1_score_result = f1_score(b_test, model_results02, average=None, labels=[2, 3])\n",
    "    cm = confusion_matrix(b_test, model_results02, labels=[2, 3])\n",
    "    final_results02.append(( name,  round_up_metric_results(p_score), a_score, round_up_metric_results(r_score), round_up_metric_results(f1_score_result), cm))\n",
    "\n",
    "# Sort results by F1 score\n",
    "final_results02.sort(key=lambda k: sum(k[4]), reverse=True)\n",
    "pd.DataFrame(final_results, columns=[\"Model\", \"Precision Score\", \"Accuracy score\", \"Recall Score\", \"F1 score\", \"Confusion Matrix\"])"
   ]
  },
  {
   "cell_type": "code",
   "execution_count": 13,
   "id": "9ec481da",
   "metadata": {},
   "outputs": [],
   "source": [
    "with open(\"./model/all_sklearn_lumbar.pkl\", \"wb\") as f:\n",
    "    pickle.dump(models, f)"
   ]
  },
  {
   "cell_type": "code",
   "execution_count": 14,
   "id": "b841030b",
   "metadata": {},
   "outputs": [],
   "source": [
    "with open(\"./model/all_sklearn_torso.pkl\", \"wb\") as f:\n",
    "    pickle.dump(models02, f)"
   ]
  },
  {
   "cell_type": "code",
   "execution_count": 15,
   "id": "d19b0251",
   "metadata": {},
   "outputs": [],
   "source": [
    "with open(\"./model/RF_lumbar_model.pkl\", \"wb\") as f:\n",
    "    pickle.dump(models[\"RF\"], f)"
   ]
  },
  {
   "cell_type": "code",
   "execution_count": 16,
   "id": "4ebfc9a3",
   "metadata": {},
   "outputs": [],
   "source": [
    "with open(\"./model/RF_torso_model.pkl\", \"wb\") as f:\n",
    "    pickle.dump(models02[\"RF\"], f)"
   ]
  },
  {
   "cell_type": "code",
   "execution_count": 17,
   "id": "e3a4c82d",
   "metadata": {},
   "outputs": [],
   "source": [
    "with open(\"./model/KNN_lumbar_model.pkl\", \"wb\") as f:\n",
    "    pickle.dump(models[\"KNN\"], f)"
   ]
  },
  {
   "cell_type": "code",
   "execution_count": 18,
   "id": "1a21cbee",
   "metadata": {},
   "outputs": [],
   "source": [
    "with open(\"./model/KNN_torso_model.pkl\", \"wb\") as f:\n",
    "    pickle.dump(models02[\"KNN\"], f)"
   ]
  },
  {
   "cell_type": "code",
   "execution_count": 19,
   "id": "4bb0e7a3",
   "metadata": {},
   "outputs": [],
   "source": [
    "with open(\"./model/SVC_lumbar_model.pkl\", \"wb\") as f:\n",
    "    pickle.dump(models[\"SVC\"], f)"
   ]
  },
  {
   "cell_type": "code",
   "execution_count": 20,
   "id": "a41dfb87",
   "metadata": {},
   "outputs": [],
   "source": [
    "with open(\"./model/SVC_torso_model.pkl\", \"wb\") as f:\n",
    "    pickle.dump(models02[\"SVC\"], f)"
   ]
  },
  {
   "cell_type": "code",
   "execution_count": 21,
   "id": "b5969d9d",
   "metadata": {},
   "outputs": [],
   "source": [
    "with open(\"./model/input_scaler_lumbar.pkl\", \"wb\") as f:\n",
    "    pickle.dump(sc, f)"
   ]
  },
  {
   "cell_type": "code",
   "execution_count": 22,
   "id": "c5a02d32",
   "metadata": {},
   "outputs": [],
   "source": [
    "with open(\"./model/input_scaler_torso.pkl\", \"wb\") as f:\n",
    "    pickle.dump(sc02, f)"
   ]
  }
 ],
 "metadata": {
  "kernelspec": {
   "display_name": "Python 3 (ipykernel)",
   "language": "python",
   "name": "python3"
  },
  "language_info": {
   "codemirror_mode": {
    "name": "ipython",
    "version": 3
   },
   "file_extension": ".py",
   "mimetype": "text/x-python",
   "name": "python",
   "nbconvert_exporter": "python",
   "pygments_lexer": "ipython3",
   "version": "3.9.13"
  }
 },
 "nbformat": 4,
 "nbformat_minor": 5
}
