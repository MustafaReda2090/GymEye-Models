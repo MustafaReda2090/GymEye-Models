{
 "cells": [
  {
   "cell_type": "code",
   "execution_count": 2,
   "id": "2cd57151",
   "metadata": {},
   "outputs": [],
   "source": [
    "import csv\n",
    "\n",
    "# Define the path to the input CSV file\n",
    "input_file = \"test.csv\"\n",
    "\n",
    "# Define the path to the output CSV file\n",
    "output_file = \"torso_test.csv\"\n",
    "\n",
    "# Open the input CSV file and read the rows\n",
    "with open(input_file, 'r') as file:\n",
    "    reader = csv.reader(file)\n",
    "    rows = list(reader)\n",
    "\n",
    "# Extract the column names from the first row\n",
    "column_names = rows[0]\n",
    "\n",
    "# Find the index of the label column\n",
    "label_column_index = column_names.index(\"label\")\n",
    "\n",
    "# Filter the rows to only contain \"torso_correct\" and \"torso_error\" labels\n",
    "selected_rows = [row for row in rows[1:] if row[label_column_index] in [\"torso_correct\", \"torso_error\"]]\n",
    "\n",
    "# Open the output CSV file and write the column names and selected rows\n",
    "with open(output_file, 'w', newline='') as file:\n",
    "    writer = csv.writer(file)\n",
    "    writer.writerow(column_names)\n",
    "    for row in selected_rows:\n",
    "        writer.writerow(row)"
   ]
  },
  {
   "cell_type": "code",
   "execution_count": null,
   "id": "508172cf",
   "metadata": {},
   "outputs": [],
   "source": []
  }
 ],
 "metadata": {
  "kernelspec": {
   "display_name": "Python 3 (ipykernel)",
   "language": "python",
   "name": "python3"
  },
  "language_info": {
   "codemirror_mode": {
    "name": "ipython",
    "version": 3
   },
   "file_extension": ".py",
   "mimetype": "text/x-python",
   "name": "python",
   "nbconvert_exporter": "python",
   "pygments_lexer": "ipython3",
   "version": "3.9.13"
  }
 },
 "nbformat": 4,
 "nbformat_minor": 5
}
