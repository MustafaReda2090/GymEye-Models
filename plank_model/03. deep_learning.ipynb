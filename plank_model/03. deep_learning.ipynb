{
 "cells": [
  {
   "cell_type": "code",
   "execution_count": 1,
   "id": "47a038ab",
   "metadata": {},
   "outputs": [],
   "source": [
    "# Data visualization\n",
    "import numpy as np\n",
    "import pandas as pd \n",
    "\n",
    "# Keras\n",
    "from keras.models import Sequential\n",
    "from keras.layers import Dense\n",
    "from keras.layers import Dropout\n",
    "from keras.optimizers import Adam\n",
    "from keras.utils.np_utils import to_categorical\n",
    "from keras.callbacks import EarlyStopping\n",
    "import keras_tuner as kt\n",
    "\n",
    "# Train-Test\n",
    "from sklearn.model_selection import train_test_split\n",
    "# Classification Report\n",
    "from sklearn.metrics import confusion_matrix, precision_recall_fscore_support\n",
    "\n",
    "import pickle\n",
    "\n",
    "import warnings\n",
    "warnings.filterwarnings('ignore')"
   ]
  },
  {
   "cell_type": "code",
   "execution_count": 2,
   "id": "332e44b0",
   "metadata": {},
   "outputs": [],
   "source": [
    "# Determine important landmarks for plank\n",
    "IMPORTANT_LMS = [\n",
    "    \"NOSE\",\n",
    "    \"LEFT_SHOULDER\",\n",
    "    \"RIGHT_SHOULDER\",\n",
    "    \"LEFT_ELBOW\",\n",
    "    \"RIGHT_ELBOW\",\n",
    "    \"LEFT_WRIST\",\n",
    "    \"RIGHT_WRIST\",\n",
    "    \"LEFT_HIP\",\n",
    "    \"RIGHT_HIP\",\n",
    "    \"LEFT_KNEE\",\n",
    "    \"RIGHT_KNEE\",\n",
    "    \"LEFT_ANKLE\",\n",
    "    \"RIGHT_ANKLE\",\n",
    "    \"LEFT_HEEL\",\n",
    "    \"RIGHT_HEEL\",\n",
    "    \"LEFT_FOOT_INDEX\",\n",
    "    \"RIGHT_FOOT_INDEX\",\n",
    "]\n",
    "\n",
    "# Generate all columns of the data frame\n",
    "\n",
    "HEADERS = [\"label\"] # Label column\n",
    "\n",
    "for lm in IMPORTANT_LMS:\n",
    "    HEADERS += [f\"{lm.lower()}_x\", f\"{lm.lower()}_y\", f\"{lm.lower()}_z\", f\"{lm.lower()}_v\"]"
   ]
  },
  {
   "cell_type": "code",
   "execution_count": 3,
   "id": "9811f225",
   "metadata": {},
   "outputs": [
    {
     "name": "stdout",
     "output_type": "stream",
     "text": [
      "Headers: ['label', 'nose_x', 'nose_y', 'nose_z', 'nose_v', 'left_shoulder_x', 'left_shoulder_y', 'left_shoulder_z', 'left_shoulder_v', 'right_shoulder_x', 'right_shoulder_y', 'right_shoulder_z', 'right_shoulder_v', 'left_elbow_x', 'left_elbow_y', 'left_elbow_z', 'left_elbow_v', 'right_elbow_x', 'right_elbow_y', 'right_elbow_z', 'right_elbow_v', 'left_wrist_x', 'left_wrist_y', 'left_wrist_z', 'left_wrist_v', 'right_wrist_x', 'right_wrist_y', 'right_wrist_z', 'right_wrist_v', 'left_hip_x', 'left_hip_y', 'left_hip_z', 'left_hip_v', 'right_hip_x', 'right_hip_y', 'right_hip_z', 'right_hip_v', 'left_knee_x', 'left_knee_y', 'left_knee_z', 'left_knee_v', 'right_knee_x', 'right_knee_y', 'right_knee_z', 'right_knee_v', 'left_ankle_x', 'left_ankle_y', 'left_ankle_z', 'left_ankle_v', 'right_ankle_x', 'right_ankle_y', 'right_ankle_z', 'right_ankle_v', 'left_heel_x', 'left_heel_y', 'left_heel_z', 'left_heel_v', 'right_heel_x', 'right_heel_y', 'right_heel_z', 'right_heel_v', 'left_foot_index_x', 'left_foot_index_y', 'left_foot_index_z', 'left_foot_index_v', 'right_foot_index_x', 'right_foot_index_y', 'right_foot_index_z', 'right_foot_index_v']\n",
      "Number of rows: 1058 \n",
      "Number of columns: 69\n",
      "\n",
      "Labels: \n",
      "C    398\n",
      "H    367\n",
      "L    293\n",
      "Name: label, dtype: int64\n",
      "\n",
      "Missing values: False\n",
      "\n",
      "Duplicate Rows : 0\n"
     ]
    }
   ],
   "source": [
    "def describe_dataset(dataset_path: str):\n",
    "    '''\n",
    "    Describe dataset\n",
    "    '''\n",
    "\n",
    "    data = pd.read_csv(dataset_path)\n",
    "    print(f\"Headers: {list(data.columns.values)}\")\n",
    "    print(f'Number of rows: {data.shape[0]} \\nNumber of columns: {data.shape[1]}\\n')\n",
    "    print(f\"Labels: \\n{data['label'].value_counts()}\\n\")\n",
    "    print(f\"Missing values: {data.isnull().values.any()}\\n\")\n",
    "    \n",
    "    duplicate = data[data.duplicated()]\n",
    "    print(f\"Duplicate Rows : {len(duplicate.sum(axis=1))}\")\n",
    "\n",
    "    return data\n",
    "\n",
    "\n",
    "# Remove duplicate rows (optional)\n",
    "def remove_duplicate_rows(dataset_path: str):\n",
    "    '''\n",
    "    Remove duplicated data from the dataset then save it to another files\n",
    "    '''\n",
    "    \n",
    "    df = pd.read_csv(dataset_path)\n",
    "    df.drop_duplicates(keep=\"first\", inplace=True)\n",
    "    df.to_csv(f\"cleaned_train.csv\", sep=',', encoding='utf-8', index=False)\n",
    "\n",
    "\n",
    "def round_up_metric_results(results) -> list:\n",
    "    '''Round up metrics results such as precision score, recall score, ...'''\n",
    "    return list(map(lambda el: round(el, 3), results))\n",
    "\n",
    "\n",
    "df = describe_dataset(\"./CSV_dataset/train.csv\")"
   ]
  },
  {
   "cell_type": "code",
   "execution_count": 4,
   "id": "aa0302e9",
   "metadata": {},
   "outputs": [
    {
     "name": "stdout",
     "output_type": "stream",
     "text": [
      "Number of rows: 1058 \n",
      "Number of columns: 69\n",
      "\n",
      "Labels: \n",
      "0    398\n",
      "1    367\n",
      "2    293\n",
      "Name: label, dtype: int64\n",
      "\n"
     ]
    }
   ],
   "source": [
    "# load dataset\n",
    "df = pd.read_csv(\"./CSV_dataset/train.csv\")\n",
    "\n",
    "# Categorizing label\n",
    "df.loc[df[\"label\"] == \"C\", \"label\"] = 0\n",
    "df.loc[df[\"label\"] == \"H\", \"label\"] = 1\n",
    "df.loc[df[\"label\"] == \"L\", \"label\"] = 2\n",
    "\n",
    "print(f'Number of rows: {df.shape[0]} \\nNumber of columns: {df.shape[1]}\\n')\n",
    "print(f\"Labels: \\n{df['label'].value_counts()}\\n\")"
   ]
  },
  {
   "cell_type": "code",
   "execution_count": 5,
   "id": "07beec59",
   "metadata": {},
   "outputs": [],
   "source": [
    "# Standard Scaling of features\n",
    "# Dump input scaler\n",
    "with open(\"C:/Users/Alrowad/Exercise-correction/plank_model/models/input_scaler.pkl\", \"rb\") as f2:\n",
    "    sc = pickle.load(f2)\n",
    "\n",
    "x = df.drop(\"label\", axis = 1)\n",
    "x = pd.DataFrame(sc.transform(x))\n",
    "\n",
    "y = df[\"label\"]\n",
    "\n",
    "# # Converting prediction to categorical\n",
    "y_cat = to_categorical(y)"
   ]
  },
  {
   "cell_type": "code",
   "execution_count": 6,
   "id": "7b7f1129",
   "metadata": {},
   "outputs": [],
   "source": [
    "x_train, x_test, y_train, y_test = train_test_split(x.values, y_cat, test_size=0.2, random_state=1234)"
   ]
  },
  {
   "cell_type": "code",
   "execution_count": 7,
   "id": "1d166661",
   "metadata": {},
   "outputs": [],
   "source": [
    "stop_early = EarlyStopping(monitor='loss', patience=3)\n",
    "\n",
    "# Final Results\n",
    "final_models = {}"
   ]
  },
  {
   "cell_type": "code",
   "execution_count": 8,
   "id": "423ad826",
   "metadata": {},
   "outputs": [],
   "source": [
    "def describe_model(model):\n",
    "    '''\n",
    "    Describe Model architecture\n",
    "    '''\n",
    "    print(f\"Describe models architecture\")\n",
    "    for i, layer in enumerate(model.layers):\n",
    "        number_of_units = layer.units if hasattr(layer, 'units') else 0\n",
    "\n",
    "        if hasattr(layer, \"activation\"):\n",
    "            print(f\"Layer-{i + 1}: {number_of_units} units, func: \", layer.activation)\n",
    "        else:\n",
    "            print(f\"Layer-{i + 1}: {number_of_units} units, func: None\")\n",
    "            \n",
    "\n",
    "def get_best_model(tuner):\n",
    "    '''\n",
    "    Describe and return the best model found from keras tuner\n",
    "    '''\n",
    "    best_hps = tuner.get_best_hyperparameters(num_trials=1)[0]\n",
    "    best_model = tuner.hypermodel.build(best_hps)\n",
    "\n",
    "    describe_model(best_model)\n",
    "\n",
    "    print(\"\\nOther params:\")\n",
    "    ignore_params = [\"tuner\", \"activation\", \"layer\"]\n",
    "    for param, value in best_hps.values.items():\n",
    "        if not any(word in param for word in ignore_params):\n",
    "            print(f\"{param}: {value}\")\n",
    "\n",
    "    return best_model"
   ]
  },
  {
   "cell_type": "code",
   "execution_count": 9,
   "id": "ed19424c",
   "metadata": {},
   "outputs": [],
   "source": [
    "def model_3l_builder(hp):\n",
    "    model = Sequential()\n",
    "    model.add(Dense(68, input_dim = 68, activation = \"relu\"))\n",
    "\n",
    "    hp_activation = hp.Choice('activation', values=['relu', 'tanh'])\n",
    "    hp_layer_1 = hp.Int('layer_1', min_value=32, max_value=512, step=32)\n",
    "    hp_learning_rate = hp.Choice('learning_rate', values=[1e-2, 1e-3, 1e-4])\n",
    "\n",
    "    model.add(Dense(units=hp_layer_1, activation=hp_activation))\n",
    "    model.add(Dense(3, activation = \"softmax\"))\n",
    "\n",
    "    model.compile(optimizer=Adam(learning_rate=hp_learning_rate), loss=\"categorical_crossentropy\", metrics = [\"accuracy\"])\n",
    "    \n",
    "    return model"
   ]
  },
  {
   "cell_type": "code",
   "execution_count": 10,
   "id": "8e534085",
   "metadata": {},
   "outputs": [
    {
     "name": "stdout",
     "output_type": "stream",
     "text": [
      "Trial 30 Complete [00h 00m 02s]\n",
      "accuracy: 0.8640661835670471\n",
      "\n",
      "Best accuracy So Far: 0.991725742816925\n",
      "Total elapsed time: 00h 00m 38s\n",
      "INFO:tensorflow:Oracle triggered exit\n"
     ]
    }
   ],
   "source": [
    "tuner_3l = kt.Hyperband(\n",
    "    model_3l_builder,\n",
    "    objective='accuracy',\n",
    "    max_epochs=10,\n",
    "    directory='keras_tuner_dir',\n",
    "    project_name='keras_tuner_demo'\n",
    ")\n",
    "tuner_3l.search(x_train, y_train, epochs=10, callbacks=[stop_early])"
   ]
  },
  {
   "cell_type": "code",
   "execution_count": 11,
   "id": "6f3150b1",
   "metadata": {},
   "outputs": [
    {
     "name": "stdout",
     "output_type": "stream",
     "text": [
      "Describe models architecture\n",
      "Layer-1: 68 units, func:  <function relu at 0x000001CA7D808DC0>\n",
      "Layer-2: 384 units, func:  <function tanh at 0x000001CA7D80E160>\n",
      "Layer-3: 3 units, func:  <function softmax at 0x000001CA7D8083A0>\n",
      "\n",
      "Other params:\n",
      "learning_rate: 0.001\n",
      "Epoch 1/100\n",
      "85/85 [==============================] - 1s 6ms/step - loss: 0.4413 - accuracy: 0.8534 - val_loss: 0.1690 - val_accuracy: 0.9528\n",
      "Epoch 2/100\n",
      "85/85 [==============================] - 0s 3ms/step - loss: 0.1360 - accuracy: 0.9574 - val_loss: 0.0931 - val_accuracy: 0.9717\n",
      "Epoch 3/100\n",
      "85/85 [==============================] - 0s 3ms/step - loss: 0.0896 - accuracy: 0.9787 - val_loss: 0.0759 - val_accuracy: 0.9764\n",
      "Epoch 4/100\n",
      "85/85 [==============================] - 0s 3ms/step - loss: 0.0787 - accuracy: 0.9811 - val_loss: 0.0905 - val_accuracy: 0.9670\n",
      "Epoch 5/100\n",
      "85/85 [==============================] - 0s 3ms/step - loss: 0.0596 - accuracy: 0.9835 - val_loss: 0.0688 - val_accuracy: 0.9764\n",
      "Epoch 6/100\n",
      "85/85 [==============================] - 0s 3ms/step - loss: 0.0560 - accuracy: 0.9882 - val_loss: 0.0676 - val_accuracy: 0.9811\n",
      "Epoch 7/100\n",
      "85/85 [==============================] - 0s 3ms/step - loss: 0.0565 - accuracy: 0.9858 - val_loss: 0.0697 - val_accuracy: 0.9811\n",
      "Epoch 8/100\n",
      "85/85 [==============================] - 0s 3ms/step - loss: 0.0388 - accuracy: 0.9894 - val_loss: 0.0766 - val_accuracy: 0.9811\n",
      "Epoch 9/100\n",
      "85/85 [==============================] - 0s 3ms/step - loss: 0.0514 - accuracy: 0.9894 - val_loss: 0.0801 - val_accuracy: 0.9764\n",
      "Epoch 10/100\n",
      "85/85 [==============================] - 0s 3ms/step - loss: 0.0418 - accuracy: 0.9894 - val_loss: 0.0640 - val_accuracy: 0.9811\n",
      "Epoch 11/100\n",
      "85/85 [==============================] - 0s 3ms/step - loss: 0.0384 - accuracy: 0.9917 - val_loss: 0.0693 - val_accuracy: 0.9811\n",
      "Epoch 12/100\n",
      "85/85 [==============================] - 0s 3ms/step - loss: 0.0317 - accuracy: 0.9929 - val_loss: 0.0657 - val_accuracy: 0.9811\n",
      "Epoch 13/100\n",
      "85/85 [==============================] - 0s 3ms/step - loss: 0.0317 - accuracy: 0.9941 - val_loss: 0.0919 - val_accuracy: 0.9811\n",
      "Epoch 14/100\n",
      "85/85 [==============================] - 0s 3ms/step - loss: 0.0391 - accuracy: 0.9953 - val_loss: 0.0948 - val_accuracy: 0.9764\n",
      "Epoch 15/100\n",
      "85/85 [==============================] - 0s 3ms/step - loss: 0.0398 - accuracy: 0.9917 - val_loss: 0.0972 - val_accuracy: 0.9764\n"
     ]
    },
    {
     "data": {
      "text/plain": [
       "<keras.callbacks.History at 0x1ca02660f70>"
      ]
     },
     "execution_count": 11,
     "metadata": {},
     "output_type": "execute_result"
    }
   ],
   "source": [
    "model_3l = get_best_model(tuner_3l)\n",
    "model_3l.fit(x_train, y_train, epochs=100, batch_size=10, validation_data=(x_test, y_test), callbacks=[stop_early])"
   ]
  },
  {
   "cell_type": "code",
   "execution_count": 12,
   "id": "d3f20f90",
   "metadata": {},
   "outputs": [],
   "source": [
    "final_models[\"3_layers\"] = model_3l"
   ]
  },
  {
   "cell_type": "code",
   "execution_count": 13,
   "id": "daf403ff",
   "metadata": {},
   "outputs": [],
   "source": [
    "def model_5l_builder(hp):\n",
    "    model = Sequential()\n",
    "    model.add(Dense(68, input_dim = 68, activation = \"relu\"))\n",
    "\n",
    "    hp_activation = hp.Choice('activation', values=['relu', 'tanh'])\n",
    "    hp_layer_1 = hp.Int('layer_1', min_value=32, max_value=512, step=32)\n",
    "    hp_layer_2 = hp.Int('layer_2', min_value=32, max_value=512, step=32)\n",
    "    hp_layer_3 = hp.Int('layer_3', min_value=32, max_value=512, step=32)\n",
    "    hp_learning_rate = hp.Choice('learning_rate', values=[1e-2, 1e-3, 1e-4])\n",
    "\n",
    "    model.add(Dense(units=hp_layer_1, activation=hp_activation))\n",
    "    model.add(Dense(units=hp_layer_2, activation=hp_activation))\n",
    "    model.add(Dense(units=hp_layer_3, activation=hp_activation))\n",
    "    model.add(Dense(3, activation = \"softmax\"))\n",
    "\n",
    "    model.compile(optimizer=Adam(learning_rate=hp_learning_rate), loss=\"categorical_crossentropy\", metrics = [\"accuracy\"])\n",
    "    \n",
    "    return model"
   ]
  },
  {
   "cell_type": "code",
   "execution_count": 14,
   "id": "3a3eb8ad",
   "metadata": {},
   "outputs": [
    {
     "name": "stdout",
     "output_type": "stream",
     "text": [
      "Trial 30 Complete [00h 00m 03s]\n",
      "accuracy: 0.9728132486343384\n",
      "\n",
      "Best accuracy So Far: 0.9952718615531921\n",
      "Total elapsed time: 00h 00m 53s\n",
      "INFO:tensorflow:Oracle triggered exit\n"
     ]
    }
   ],
   "source": [
    "import keras\n",
    "tuner_5l = kt.Hyperband(\n",
    "    model_5l_builder,\n",
    "    objective='accuracy',\n",
    "    max_epochs=10,\n",
    "    directory='keras_tuner_dir',\n",
    "    project_name='keras_tuner_demo_1'\n",
    ")\n",
    "\n",
    "tuner_5l.search(\n",
    "    x_train, \n",
    "    y_train, \n",
    "    epochs=10, \n",
    "    callbacks=[keras.callbacks.EarlyStopping(patience=5)]\n",
    ")"
   ]
  },
  {
   "cell_type": "code",
   "execution_count": 15,
   "id": "82a30c39",
   "metadata": {},
   "outputs": [
    {
     "name": "stdout",
     "output_type": "stream",
     "text": [
      "Describe models architecture\n",
      "Layer-1: 68 units, func:  <function relu at 0x000001CA7D808DC0>\n",
      "Layer-2: 96 units, func:  <function relu at 0x000001CA7D808DC0>\n",
      "Layer-3: 416 units, func:  <function relu at 0x000001CA7D808DC0>\n",
      "Layer-4: 384 units, func:  <function relu at 0x000001CA7D808DC0>\n",
      "Layer-5: 3 units, func:  <function softmax at 0x000001CA7D8083A0>\n",
      "\n",
      "Other params:\n",
      "learning_rate: 0.001\n",
      "Epoch 1/100\n",
      "85/85 [==============================] - 1s 7ms/step - loss: 0.3406 - accuracy: 0.8948 - val_loss: 0.1275 - val_accuracy: 0.9717\n",
      "Epoch 2/100\n",
      "85/85 [==============================] - 0s 5ms/step - loss: 0.1141 - accuracy: 0.9622 - val_loss: 0.0607 - val_accuracy: 0.9858\n",
      "Epoch 3/100\n",
      "85/85 [==============================] - 0s 5ms/step - loss: 0.0518 - accuracy: 0.9858 - val_loss: 0.1849 - val_accuracy: 0.9151\n",
      "Epoch 4/100\n",
      "85/85 [==============================] - 0s 5ms/step - loss: 0.0826 - accuracy: 0.9811 - val_loss: 0.0723 - val_accuracy: 0.9858\n",
      "Epoch 5/100\n",
      "85/85 [==============================] - 0s 5ms/step - loss: 0.0399 - accuracy: 0.9894 - val_loss: 0.0696 - val_accuracy: 0.9858\n",
      "Epoch 6/100\n",
      "85/85 [==============================] - 0s 4ms/step - loss: 0.0388 - accuracy: 0.9870 - val_loss: 0.0734 - val_accuracy: 0.9858\n",
      "Epoch 7/100\n",
      "85/85 [==============================] - 0s 4ms/step - loss: 0.0426 - accuracy: 0.9917 - val_loss: 0.0747 - val_accuracy: 0.9858\n",
      "Epoch 8/100\n",
      "85/85 [==============================] - 0s 4ms/step - loss: 0.0455 - accuracy: 0.9870 - val_loss: 0.1229 - val_accuracy: 0.9717\n",
      "Epoch 9/100\n",
      "85/85 [==============================] - 0s 4ms/step - loss: 0.0567 - accuracy: 0.9846 - val_loss: 0.1392 - val_accuracy: 0.9670\n"
     ]
    },
    {
     "data": {
      "text/plain": [
       "<keras.callbacks.History at 0x1ca047153a0>"
      ]
     },
     "execution_count": 15,
     "metadata": {},
     "output_type": "execute_result"
    }
   ],
   "source": [
    "model_5l = get_best_model(tuner_5l)\n",
    "model_5l.fit(x_train, y_train, epochs=100, batch_size=10, validation_data=(x_test, y_test), callbacks=[stop_early])"
   ]
  },
  {
   "cell_type": "code",
   "execution_count": 16,
   "id": "aeca4a43",
   "metadata": {},
   "outputs": [],
   "source": [
    "final_models[\"5_layers\"] = model_5l"
   ]
  },
  {
   "cell_type": "code",
   "execution_count": 17,
   "id": "8055c72a",
   "metadata": {},
   "outputs": [],
   "source": [
    "def model_7lD_builder(hp):\n",
    "    model = Sequential()\n",
    "    model.add(Dense(68, input_dim = 68, activation = \"relu\"))\n",
    "\n",
    "    hp_activation = hp.Choice('activation', values=['relu', 'tanh'])\n",
    "    hp_layer_1 = hp.Int('layer_1', min_value=32, max_value=512, step=32)\n",
    "    hp_layer_2 = hp.Int('layer_2', min_value=32, max_value=512, step=32)\n",
    "    hp_layer_3 = hp.Int('layer_3', min_value=32, max_value=512, step=32)\n",
    "    hp_dropout_1 = hp.Float('dropout_1', min_value=0.1, max_value=0.5, step=0.1)\n",
    "    hp_dropout_2 = hp.Float('dropout_2', min_value=0.1, max_value=0.5, step=0.1)\n",
    "    hp_learning_rate = hp.Choice('learning_rate', values=[1e-2, 1e-3, 1e-4])\n",
    "\n",
    "    model.add(Dense(units=hp_layer_1, activation=hp_activation))\n",
    "    model.add(Dropout(rate=hp_dropout_1))\n",
    "    model.add(Dense(units=hp_layer_2, activation=hp_activation))\n",
    "    model.add(Dropout(rate=hp_dropout_2))\n",
    "    model.add(Dense(units=hp_layer_3, activation=hp_activation))\n",
    "    model.add(Dense(3, activation = \"softmax\"))\n",
    "\n",
    "    model.compile(optimizer=Adam(learning_rate=hp_learning_rate), loss=\"categorical_crossentropy\", metrics = [\"accuracy\"])\n",
    "    \n",
    "    return model"
   ]
  },
  {
   "cell_type": "code",
   "execution_count": 18,
   "id": "f9d146c7",
   "metadata": {},
   "outputs": [
    {
     "name": "stdout",
     "output_type": "stream",
     "text": [
      "Trial 30 Complete [00h 00m 05s]\n",
      "accuracy: 0.9728132486343384\n",
      "\n",
      "Best accuracy So Far: 0.9905437231063843\n",
      "Total elapsed time: 00h 00m 59s\n",
      "INFO:tensorflow:Oracle triggered exit\n"
     ]
    }
   ],
   "source": [
    "def get_early_stopping_callback():\n",
    "    return keras.callbacks.EarlyStopping(\n",
    "        monitor='val_loss',\n",
    "        patience=3\n",
    "    )\n",
    "\n",
    "tuner_7lD = kt.Hyperband(\n",
    "    model_7lD_builder,\n",
    "    objective='accuracy',\n",
    "    max_epochs=10,\n",
    "    directory='keras_tuner_dir',\n",
    "    project_name='keras_tuner_demo_4'\n",
    ")\n",
    "tuner_7lD.search(x_train, y_train, epochs=10, callbacks=[get_early_stopping_callback()])"
   ]
  },
  {
   "cell_type": "code",
   "execution_count": 19,
   "id": "3707a16c",
   "metadata": {},
   "outputs": [
    {
     "name": "stdout",
     "output_type": "stream",
     "text": [
      "Describe models architecture\n",
      "Layer-1: 68 units, func:  <function relu at 0x000001CA7D808DC0>\n",
      "Layer-2: 96 units, func:  <function tanh at 0x000001CA7D80E160>\n",
      "Layer-3: 0 units, func: None\n",
      "Layer-4: 32 units, func:  <function tanh at 0x000001CA7D80E160>\n",
      "Layer-5: 0 units, func: None\n",
      "Layer-6: 128 units, func:  <function tanh at 0x000001CA7D80E160>\n",
      "Layer-7: 3 units, func:  <function softmax at 0x000001CA7D8083A0>\n",
      "\n",
      "Other params:\n",
      "dropout_1: 0.1\n",
      "dropout_2: 0.1\n",
      "learning_rate: 0.001\n",
      "Epoch 1/100\n",
      "85/85 [==============================] - 1s 5ms/step - loss: 0.4502 - accuracy: 0.8215 - val_loss: 0.1225 - val_accuracy: 0.9764\n",
      "Epoch 2/100\n",
      "85/85 [==============================] - 0s 3ms/step - loss: 0.1353 - accuracy: 0.9563 - val_loss: 0.0812 - val_accuracy: 0.9811\n",
      "Epoch 3/100\n",
      "85/85 [==============================] - 0s 3ms/step - loss: 0.0745 - accuracy: 0.9835 - val_loss: 0.0572 - val_accuracy: 0.9764\n",
      "Epoch 4/100\n",
      "85/85 [==============================] - 0s 3ms/step - loss: 0.0677 - accuracy: 0.9823 - val_loss: 0.0778 - val_accuracy: 0.9764\n",
      "Epoch 5/100\n",
      "85/85 [==============================] - 0s 3ms/step - loss: 0.0734 - accuracy: 0.9811 - val_loss: 0.0678 - val_accuracy: 0.9811\n",
      "Epoch 6/100\n",
      "85/85 [==============================] - 0s 3ms/step - loss: 0.0596 - accuracy: 0.9858 - val_loss: 0.0720 - val_accuracy: 0.9811\n",
      "Epoch 7/100\n",
      "85/85 [==============================] - 0s 4ms/step - loss: 0.0599 - accuracy: 0.9882 - val_loss: 0.0570 - val_accuracy: 0.9811\n",
      "Epoch 8/100\n",
      "85/85 [==============================] - 0s 3ms/step - loss: 0.0392 - accuracy: 0.9929 - val_loss: 0.0726 - val_accuracy: 0.9764\n",
      "Epoch 9/100\n",
      "85/85 [==============================] - 0s 3ms/step - loss: 0.0416 - accuracy: 0.9882 - val_loss: 0.0610 - val_accuracy: 0.9858\n",
      "Epoch 10/100\n",
      "85/85 [==============================] - 0s 3ms/step - loss: 0.0562 - accuracy: 0.9835 - val_loss: 0.0753 - val_accuracy: 0.9764\n",
      "Epoch 11/100\n",
      "85/85 [==============================] - 0s 3ms/step - loss: 0.0751 - accuracy: 0.9858 - val_loss: 0.0636 - val_accuracy: 0.9811\n"
     ]
    },
    {
     "data": {
      "text/plain": [
       "<keras.callbacks.History at 0x1ca05a5df40>"
      ]
     },
     "execution_count": 19,
     "metadata": {},
     "output_type": "execute_result"
    }
   ],
   "source": [
    "model_7lD = get_best_model(tuner_7lD)\n",
    "model_7lD.fit(x_train, y_train, epochs=100, batch_size=10, validation_data=(x_test, y_test), callbacks=[stop_early])"
   ]
  },
  {
   "cell_type": "code",
   "execution_count": 20,
   "id": "fdd0e7b7",
   "metadata": {},
   "outputs": [],
   "source": [
    "final_models[\"7_layers_with_dropout\"] = model_7lD"
   ]
  },
  {
   "cell_type": "code",
   "execution_count": 21,
   "id": "d1af7184",
   "metadata": {},
   "outputs": [],
   "source": [
    "def model_7l_builder(hp):\n",
    "    model = Sequential()\n",
    "    model.add(Dense(68, input_dim = 68, activation = \"relu\"))\n",
    "\n",
    "    hp_activation = hp.Choice('activation', values=['relu', 'tanh'])\n",
    "    hp_layer_1 = hp.Int('layer_1', min_value=32, max_value=512, step=32)\n",
    "    hp_layer_2 = hp.Int('layer_2', min_value=32, max_value=512, step=32)\n",
    "    hp_layer_3 = hp.Int('layer_3', min_value=32, max_value=512, step=32)\n",
    "    hp_layer_4 = hp.Int('layer_4', min_value=32, max_value=512, step=32)\n",
    "    hp_layer_5 = hp.Int('layer_5', min_value=32, max_value=512, step=32)\n",
    "    hp_learning_rate = hp.Choice('learning_rate', values=[1e-2, 1e-3, 1e-4])\n",
    "\n",
    "    model.add(Dense(units=hp_layer_1, activation=hp_activation))\n",
    "    model.add(Dense(units=hp_layer_2, activation=hp_activation))\n",
    "    model.add(Dense(units=hp_layer_3, activation=hp_activation))\n",
    "    model.add(Dense(units=hp_layer_4, activation=hp_activation))\n",
    "    model.add(Dense(units=hp_layer_5, activation=hp_activation))\n",
    "    model.add(Dense(3, activation = \"softmax\"))\n",
    "\n",
    "    model.compile(optimizer=Adam(learning_rate=hp_learning_rate), loss=\"categorical_crossentropy\", metrics = [\"accuracy\"])\n",
    "    \n",
    "    return model"
   ]
  },
  {
   "cell_type": "code",
   "execution_count": 22,
   "id": "cfe35bc0",
   "metadata": {},
   "outputs": [
    {
     "name": "stdout",
     "output_type": "stream",
     "text": [
      "Trial 30 Complete [00h 00m 04s]\n",
      "accuracy: 0.9834515452384949\n",
      "\n",
      "Best accuracy So Far: 0.9929078221321106\n",
      "Total elapsed time: 00h 01m 06s\n",
      "INFO:tensorflow:Oracle triggered exit\n"
     ]
    }
   ],
   "source": [
    "tuner_7l = kt.Hyperband(\n",
    "    model_7l_builder,\n",
    "    objective='accuracy',\n",
    "    max_epochs=10,\n",
    "    directory='keras_tuner_dir',\n",
    "    project_name='keras_tuner_demo_5'\n",
    ")\n",
    "tuner_7l.search(x_train, y_train, epochs=10, callbacks=[keras.callbacks.EarlyStopping(patience=5)])"
   ]
  },
  {
   "cell_type": "code",
   "execution_count": 23,
   "id": "4891972e",
   "metadata": {},
   "outputs": [
    {
     "name": "stdout",
     "output_type": "stream",
     "text": [
      "Describe models architecture\n",
      "Layer-1: 68 units, func:  <function relu at 0x000001CA7D808DC0>\n",
      "Layer-2: 512 units, func:  <function relu at 0x000001CA7D808DC0>\n",
      "Layer-3: 512 units, func:  <function relu at 0x000001CA7D808DC0>\n",
      "Layer-4: 32 units, func:  <function relu at 0x000001CA7D808DC0>\n",
      "Layer-5: 224 units, func:  <function relu at 0x000001CA7D808DC0>\n",
      "Layer-6: 128 units, func:  <function relu at 0x000001CA7D808DC0>\n",
      "Layer-7: 3 units, func:  <function softmax at 0x000001CA7D8083A0>\n",
      "\n",
      "Other params:\n",
      "learning_rate: 0.001\n",
      "Epoch 1/100\n",
      "85/85 [==============================] - 1s 9ms/step - loss: 0.3936 - accuracy: 0.8522 - val_loss: 0.1055 - val_accuracy: 0.9670\n",
      "Epoch 2/100\n",
      "85/85 [==============================] - 1s 7ms/step - loss: 0.1419 - accuracy: 0.9610 - val_loss: 0.1257 - val_accuracy: 0.9528\n",
      "Epoch 3/100\n",
      "85/85 [==============================] - 1s 7ms/step - loss: 0.1132 - accuracy: 0.9657 - val_loss: 0.0744 - val_accuracy: 0.9764\n",
      "Epoch 4/100\n",
      "85/85 [==============================] - 1s 8ms/step - loss: 0.0731 - accuracy: 0.9846 - val_loss: 0.0381 - val_accuracy: 0.9858\n",
      "Epoch 5/100\n",
      "85/85 [==============================] - 1s 8ms/step - loss: 0.0768 - accuracy: 0.9787 - val_loss: 0.0500 - val_accuracy: 0.9906\n",
      "Epoch 6/100\n",
      "85/85 [==============================] - 1s 8ms/step - loss: 0.0811 - accuracy: 0.9823 - val_loss: 0.0794 - val_accuracy: 0.9811\n",
      "Epoch 7/100\n",
      "85/85 [==============================] - 1s 9ms/step - loss: 0.0583 - accuracy: 0.9882 - val_loss: 0.0826 - val_accuracy: 0.9811\n",
      "Epoch 8/100\n",
      "85/85 [==============================] - 1s 7ms/step - loss: 0.0888 - accuracy: 0.9764 - val_loss: 0.0835 - val_accuracy: 0.9623\n",
      "Epoch 9/100\n",
      "85/85 [==============================] - 1s 8ms/step - loss: 0.0714 - accuracy: 0.9835 - val_loss: 0.2016 - val_accuracy: 0.9670\n",
      "Epoch 10/100\n",
      "85/85 [==============================] - 1s 8ms/step - loss: 0.0816 - accuracy: 0.9811 - val_loss: 0.0480 - val_accuracy: 0.9858\n"
     ]
    },
    {
     "data": {
      "text/plain": [
       "<keras.callbacks.History at 0x1ca06b00f10>"
      ]
     },
     "execution_count": 23,
     "metadata": {},
     "output_type": "execute_result"
    }
   ],
   "source": [
    "model_7l = get_best_model(tuner_7l)\n",
    "model_7l.fit(x_train, y_train, epochs=100, batch_size=10, validation_data=(x_test, y_test), callbacks=[stop_early])"
   ]
  },
  {
   "cell_type": "code",
   "execution_count": 24,
   "id": "417ab363",
   "metadata": {},
   "outputs": [],
   "source": [
    "final_models[\"7_layers\"] = model_7l"
   ]
  },
  {
   "cell_type": "code",
   "execution_count": 25,
   "id": "493bfaf1",
   "metadata": {},
   "outputs": [
    {
     "name": "stdout",
     "output_type": "stream",
     "text": [
      "3_layers: Describe models architecture\n",
      "Layer-1: 68 units, func:  <function relu at 0x000001CA7D808DC0>\n",
      "Layer-2: 384 units, func:  <function tanh at 0x000001CA7D80E160>\n",
      "Layer-3: 3 units, func:  <function softmax at 0x000001CA7D8083A0>\n",
      "\n",
      "5_layers: Describe models architecture\n",
      "Layer-1: 68 units, func:  <function relu at 0x000001CA7D808DC0>\n",
      "Layer-2: 96 units, func:  <function relu at 0x000001CA7D808DC0>\n",
      "Layer-3: 416 units, func:  <function relu at 0x000001CA7D808DC0>\n",
      "Layer-4: 384 units, func:  <function relu at 0x000001CA7D808DC0>\n",
      "Layer-5: 3 units, func:  <function softmax at 0x000001CA7D8083A0>\n",
      "\n",
      "7_layers_with_dropout: Describe models architecture\n",
      "Layer-1: 68 units, func:  <function relu at 0x000001CA7D808DC0>\n",
      "Layer-2: 96 units, func:  <function tanh at 0x000001CA7D80E160>\n",
      "Layer-3: 0 units, func: None\n",
      "Layer-4: 32 units, func:  <function tanh at 0x000001CA7D80E160>\n",
      "Layer-5: 0 units, func: None\n",
      "Layer-6: 128 units, func:  <function tanh at 0x000001CA7D80E160>\n",
      "Layer-7: 3 units, func:  <function softmax at 0x000001CA7D8083A0>\n",
      "\n",
      "7_layers: Describe models architecture\n",
      "Layer-1: 68 units, func:  <function relu at 0x000001CA7D808DC0>\n",
      "Layer-2: 512 units, func:  <function relu at 0x000001CA7D808DC0>\n",
      "Layer-3: 512 units, func:  <function relu at 0x000001CA7D808DC0>\n",
      "Layer-4: 32 units, func:  <function relu at 0x000001CA7D808DC0>\n",
      "Layer-5: 224 units, func:  <function relu at 0x000001CA7D808DC0>\n",
      "Layer-6: 128 units, func:  <function relu at 0x000001CA7D808DC0>\n",
      "Layer-7: 3 units, func:  <function softmax at 0x000001CA7D8083A0>\n",
      "\n"
     ]
    }
   ],
   "source": [
    "for name, model in final_models.items():\n",
    "    print(f\"{name}: \", end=\"\")\n",
    "    describe_model(model)\n",
    "    print()"
   ]
  },
  {
   "cell_type": "code",
   "execution_count": 26,
   "id": "492650cd",
   "metadata": {},
   "outputs": [
    {
     "data": {
      "text/html": [
       "<div>\n",
       "<style scoped>\n",
       "    .dataframe tbody tr th:only-of-type {\n",
       "        vertical-align: middle;\n",
       "    }\n",
       "\n",
       "    .dataframe tbody tr th {\n",
       "        vertical-align: top;\n",
       "    }\n",
       "\n",
       "    .dataframe thead th {\n",
       "        text-align: right;\n",
       "    }\n",
       "</style>\n",
       "<table border=\"1\" class=\"dataframe\">\n",
       "  <thead>\n",
       "    <tr style=\"text-align: right;\">\n",
       "      <th></th>\n",
       "      <th>Model</th>\n",
       "      <th>Precision Score</th>\n",
       "      <th>Recall Score</th>\n",
       "      <th>F1 score</th>\n",
       "      <th>Confusion Matrix</th>\n",
       "    </tr>\n",
       "  </thead>\n",
       "  <tbody>\n",
       "    <tr>\n",
       "      <th>0</th>\n",
       "      <td>7_layers</td>\n",
       "      <td>[0.974, 0.988, 1.0]</td>\n",
       "      <td>[0.987, 1.0, 0.964]</td>\n",
       "      <td>[0.98, 0.994, 0.982]</td>\n",
       "      <td>[[75, 1, 0], [0, 80, 0], [2, 0, 54]]</td>\n",
       "    </tr>\n",
       "    <tr>\n",
       "      <th>1</th>\n",
       "      <td>7_layers_with_dropout</td>\n",
       "      <td>[0.962, 0.988, 1.0]</td>\n",
       "      <td>[0.987, 0.988, 0.964]</td>\n",
       "      <td>[0.974, 0.988, 0.982]</td>\n",
       "      <td>[[75, 1, 0], [1, 79, 0], [2, 0, 54]]</td>\n",
       "    </tr>\n",
       "    <tr>\n",
       "      <th>2</th>\n",
       "      <td>3_layers</td>\n",
       "      <td>[0.949, 0.988, 1.0]</td>\n",
       "      <td>[0.987, 0.988, 0.946]</td>\n",
       "      <td>[0.968, 0.988, 0.972]</td>\n",
       "      <td>[[75, 1, 0], [1, 79, 0], [3, 0, 53]]</td>\n",
       "    </tr>\n",
       "    <tr>\n",
       "      <th>3</th>\n",
       "      <td>5_layers</td>\n",
       "      <td>[0.926, 1.0, 0.981]</td>\n",
       "      <td>[0.987, 0.988, 0.911]</td>\n",
       "      <td>[0.955, 0.994, 0.944]</td>\n",
       "      <td>[[75, 0, 1], [1, 79, 0], [5, 0, 51]]</td>\n",
       "    </tr>\n",
       "  </tbody>\n",
       "</table>\n",
       "</div>"
      ],
      "text/plain": [
       "                   Model      Precision Score           Recall Score  \\\n",
       "0               7_layers  [0.974, 0.988, 1.0]    [0.987, 1.0, 0.964]   \n",
       "1  7_layers_with_dropout  [0.962, 0.988, 1.0]  [0.987, 0.988, 0.964]   \n",
       "2               3_layers  [0.949, 0.988, 1.0]  [0.987, 0.988, 0.946]   \n",
       "3               5_layers  [0.926, 1.0, 0.981]  [0.987, 0.988, 0.911]   \n",
       "\n",
       "                F1 score                      Confusion Matrix  \n",
       "0   [0.98, 0.994, 0.982]  [[75, 1, 0], [0, 80, 0], [2, 0, 54]]  \n",
       "1  [0.974, 0.988, 0.982]  [[75, 1, 0], [1, 79, 0], [2, 0, 54]]  \n",
       "2  [0.968, 0.988, 0.972]  [[75, 1, 0], [1, 79, 0], [3, 0, 53]]  \n",
       "3  [0.955, 0.994, 0.944]  [[75, 0, 1], [1, 79, 0], [5, 0, 51]]  "
      ]
     },
     "execution_count": 26,
     "metadata": {},
     "output_type": "execute_result"
    }
   ],
   "source": [
    "train_set_results = []\n",
    "\n",
    "for name, model in final_models.items():\n",
    "    # Evaluate model\n",
    "    predict_x = model.predict(x_test, verbose=False) \n",
    "    y_pred_class = np.argmax(predict_x, axis=1)\n",
    "    y_test_class = np.argmax(y_test, axis=1)\n",
    "\n",
    "    cm = confusion_matrix(y_test_class, y_pred_class, labels=[0, 1, 2])\n",
    "    (p_score, r_score, f_score, _) = precision_recall_fscore_support(y_test_class, y_pred_class, labels=[0, 1, 2])\n",
    "    \n",
    "    train_set_results.append(( name, round_up_metric_results(p_score), round_up_metric_results(r_score), round_up_metric_results(f_score), cm ))\n",
    "\n",
    "train_set_results.sort(key=lambda k: sum(k[3]), reverse=True)\n",
    "pd.DataFrame(train_set_results, columns=[\"Model\", \"Precision Score\", \"Recall Score\", \"F1 score\", \"Confusion Matrix\"])"
   ]
  },
  {
   "cell_type": "code",
   "execution_count": 27,
   "id": "6c7bb746",
   "metadata": {},
   "outputs": [
    {
     "name": "stdout",
     "output_type": "stream",
     "text": [
      "Number of rows: 419 \n",
      "Number of columns: 69\n",
      "\n",
      "Labels: \n",
      "1    165\n",
      "0    139\n",
      "2    115\n",
      "Name: label, dtype: int64\n",
      "\n"
     ]
    }
   ],
   "source": [
    "# load dataset\n",
    "test_df = pd.read_csv(\"./CSV_dataset/test.csv\")\n",
    "\n",
    "# Categorizing label\n",
    "test_df.loc[test_df[\"label\"] == \"C\", \"label\"] = 0\n",
    "test_df.loc[test_df[\"label\"] == \"H\", \"label\"] = 1\n",
    "test_df.loc[test_df[\"label\"] == \"L\", \"label\"] = 2\n",
    "\n",
    "print(f'Number of rows: {test_df.shape[0]} \\nNumber of columns: {test_df.shape[1]}\\n')\n",
    "print(f\"Labels: \\n{test_df['label'].value_counts()}\\n\")"
   ]
  },
  {
   "cell_type": "code",
   "execution_count": 28,
   "id": "bdf2d670",
   "metadata": {},
   "outputs": [],
   "source": [
    "# Standard Scaling of features\n",
    "test_x = test_df.drop(\"label\", axis = 1)\n",
    "test_x = pd.DataFrame(sc.transform(test_x))\n",
    "\n",
    "test_y = test_df[\"label\"]\n",
    "\n",
    "# # Converting prediction to categorical\n",
    "test_y_cat = to_categorical(test_y)"
   ]
  },
  {
   "cell_type": "code",
   "execution_count": 29,
   "id": "138e68c5",
   "metadata": {},
   "outputs": [
    {
     "data": {
      "text/html": [
       "<div>\n",
       "<style scoped>\n",
       "    .dataframe tbody tr th:only-of-type {\n",
       "        vertical-align: middle;\n",
       "    }\n",
       "\n",
       "    .dataframe tbody tr th {\n",
       "        vertical-align: top;\n",
       "    }\n",
       "\n",
       "    .dataframe thead th {\n",
       "        text-align: right;\n",
       "    }\n",
       "</style>\n",
       "<table border=\"1\" class=\"dataframe\">\n",
       "  <thead>\n",
       "    <tr style=\"text-align: right;\">\n",
       "      <th></th>\n",
       "      <th>Model</th>\n",
       "      <th>Precision Score</th>\n",
       "      <th>Recall Score</th>\n",
       "      <th>F1 score</th>\n",
       "      <th>Confusion Matrix</th>\n",
       "    </tr>\n",
       "  </thead>\n",
       "  <tbody>\n",
       "    <tr>\n",
       "      <th>0</th>\n",
       "      <td>7_layers_with_dropout</td>\n",
       "      <td>[0.951, 0.982, 0.991]</td>\n",
       "      <td>[0.978, 0.976, 0.965]</td>\n",
       "      <td>[0.965, 0.979, 0.978]</td>\n",
       "      <td>[[136, 2, 1], [4, 161, 0], [3, 1, 111]]</td>\n",
       "    </tr>\n",
       "    <tr>\n",
       "      <th>1</th>\n",
       "      <td>3_layers</td>\n",
       "      <td>[0.938, 0.981, 0.991]</td>\n",
       "      <td>[0.978, 0.964, 0.965]</td>\n",
       "      <td>[0.958, 0.972, 0.978]</td>\n",
       "      <td>[[136, 2, 1], [6, 159, 0], [3, 1, 111]]</td>\n",
       "    </tr>\n",
       "    <tr>\n",
       "      <th>2</th>\n",
       "      <td>7_layers</td>\n",
       "      <td>[0.924, 0.964, 0.991]</td>\n",
       "      <td>[0.957, 0.97, 0.939]</td>\n",
       "      <td>[0.94, 0.967, 0.964]</td>\n",
       "      <td>[[133, 5, 1], [5, 160, 0], [6, 1, 108]]</td>\n",
       "    </tr>\n",
       "    <tr>\n",
       "      <th>3</th>\n",
       "      <td>5_layers</td>\n",
       "      <td>[0.889, 0.987, 0.981]</td>\n",
       "      <td>[0.978, 0.952, 0.913]</td>\n",
       "      <td>[0.932, 0.969, 0.946]</td>\n",
       "      <td>[[136, 1, 2], [8, 157, 0], [9, 1, 105]]</td>\n",
       "    </tr>\n",
       "  </tbody>\n",
       "</table>\n",
       "</div>"
      ],
      "text/plain": [
       "                   Model        Precision Score           Recall Score  \\\n",
       "0  7_layers_with_dropout  [0.951, 0.982, 0.991]  [0.978, 0.976, 0.965]   \n",
       "1               3_layers  [0.938, 0.981, 0.991]  [0.978, 0.964, 0.965]   \n",
       "2               7_layers  [0.924, 0.964, 0.991]   [0.957, 0.97, 0.939]   \n",
       "3               5_layers  [0.889, 0.987, 0.981]  [0.978, 0.952, 0.913]   \n",
       "\n",
       "                F1 score                         Confusion Matrix  \n",
       "0  [0.965, 0.979, 0.978]  [[136, 2, 1], [4, 161, 0], [3, 1, 111]]  \n",
       "1  [0.958, 0.972, 0.978]  [[136, 2, 1], [6, 159, 0], [3, 1, 111]]  \n",
       "2   [0.94, 0.967, 0.964]  [[133, 5, 1], [5, 160, 0], [6, 1, 108]]  \n",
       "3  [0.932, 0.969, 0.946]  [[136, 1, 2], [8, 157, 0], [9, 1, 105]]  "
      ]
     },
     "execution_count": 29,
     "metadata": {},
     "output_type": "execute_result"
    }
   ],
   "source": [
    "test_set_results = []\n",
    "\n",
    "for name, model in final_models.items():\n",
    "    # Evaluate model\n",
    "    predict_x = model.predict(test_x, verbose=False) \n",
    "    y_pred_class = np.argmax(predict_x, axis=1)\n",
    "    y_test_class = np.argmax(test_y_cat, axis=1)\n",
    "\n",
    "    cm = confusion_matrix(y_test_class, y_pred_class, labels=[0, 1, 2])\n",
    "    (p_score, r_score, f_score, _) = precision_recall_fscore_support(y_test_class, y_pred_class, labels=[0, 1, 2])\n",
    "    \n",
    "    test_set_results.append(( name, round_up_metric_results(p_score), round_up_metric_results(r_score), round_up_metric_results(f_score), cm ))\n",
    "\n",
    "test_set_results.sort(key=lambda k: sum(k[3]), reverse=True)\n",
    "pd.DataFrame(test_set_results, columns=[\"Model\", \"Precision Score\", \"Recall Score\", \"F1 score\", \"Confusion Matrix\"])"
   ]
  },
  {
   "cell_type": "code",
   "execution_count": 30,
   "id": "bcf877ed",
   "metadata": {},
   "outputs": [],
   "source": [
    "final_models[\"7_layers_with_dropout\"].save(\"C:/Users/Alrowad/Exercise-correction/plank_model/models/plank_dp.h5\")"
   ]
  },
  {
   "cell_type": "code",
   "execution_count": 31,
   "id": "751e88b7",
   "metadata": {},
   "outputs": [],
   "source": [
    "for model_name, model in final_models.items():\n",
    "    model.save(f\"C:/Users/Alrowad/Exercise-correction/plank_model/models/{model_name}.h5\")"
   ]
  }
 ],
 "metadata": {
  "kernelspec": {
   "display_name": "Python 3 (ipykernel)",
   "language": "python",
   "name": "python3"
  },
  "language_info": {
   "codemirror_mode": {
    "name": "ipython",
    "version": 3
   },
   "file_extension": ".py",
   "mimetype": "text/x-python",
   "name": "python",
   "nbconvert_exporter": "python",
   "pygments_lexer": "ipython3",
   "version": "3.9.13"
  }
 },
 "nbformat": 4,
 "nbformat_minor": 5
}
