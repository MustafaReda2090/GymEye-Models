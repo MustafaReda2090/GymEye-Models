{
 "cells": [
  {
   "cell_type": "code",
   "execution_count": 1,
   "id": "a4246dd3",
   "metadata": {},
   "outputs": [],
   "source": [
    "# Data visualization\n",
    "import numpy as np\n",
    "import pandas as pd \n",
    "\n",
    "# Keras\n",
    "from keras.models import Sequential\n",
    "from keras.layers import Dense\n",
    "from keras.layers import Dropout\n",
    "from keras.optimizers import Adam\n",
    "from keras.utils.np_utils import to_categorical\n",
    "from keras.callbacks import EarlyStopping\n",
    "import keras_tuner as kt\n",
    "\n",
    "# Train-Test\n",
    "from sklearn.model_selection import train_test_split\n",
    "# Classification Report\n",
    "from sklearn.metrics import confusion_matrix, precision_recall_fscore_support\n",
    "\n",
    "import pickle\n",
    "\n",
    "import warnings\n",
    "warnings.filterwarnings('ignore')"
   ]
  },
  {
   "cell_type": "code",
   "execution_count": 2,
   "id": "b97b5306",
   "metadata": {},
   "outputs": [],
   "source": [
    "IMPORTANT_LMS = [\n",
    "\"NOSE\",\n",
    "\"LEFT_SHOULDER\",\n",
    "\"RIGHT_SHOULDER\",\n",
    "\"LEFT_HIP\",\n",
    "\"RIGHT_HIP\",\n",
    "\"LEFT_KNEE\",\n",
    "\"RIGHT_KNEE\",\n",
    "\"LEFT_ANKLE\",\n",
    "\"RIGHT_ANKLE\",\n",
    "]\n",
    "\n",
    "# Generate all columns of the data frame\n",
    "\n",
    "HEADERS = [\"label\"] # Label column\n",
    "\n",
    "for lm in IMPORTANT_LMS:\n",
    "    HEADERS += [f\"{lm.lower()}_x\", f\"{lm.lower()}_y\", f\"{lm.lower()}_z\", f\"{lm.lower()}_v\"]"
   ]
  },
  {
   "cell_type": "code",
   "execution_count": 3,
   "id": "594aaba9",
   "metadata": {},
   "outputs": [
    {
     "name": "stdout",
     "output_type": "stream",
     "text": [
      "Headers: ['label', 'nose_x', 'nose_y', 'nose_z', 'nose_v', 'left_shoulder_x', 'left_shoulder_y', 'left_shoulder_z', 'left_shoulder_v', 'right_shoulder_x', 'right_shoulder_y', 'right_shoulder_z', 'right_shoulder_v', 'left_hip_x', 'left_hip_y', 'left_hip_z', 'left_hip_v', 'right_hip_x', 'right_hip_y', 'right_hip_z', 'right_hip_v', 'left_knee_x', 'left_knee_y', 'left_knee_z', 'left_knee_v', 'right_knee_x', 'right_knee_y', 'right_knee_z', 'right_knee_v', 'left_ankle_x', 'left_ankle_y', 'left_ankle_z', 'left_ankle_v', 'right_ankle_x', 'right_ankle_y', 'right_ankle_z', 'right_ankle_v']\n",
      "Number of rows: 1652 \n",
      "Number of columns: 37\n",
      "\n",
      "Labels: \n",
      "shallow_squat    918\n",
      "deep_squat       734\n",
      "Name: label, dtype: int64\n",
      "\n",
      "Missing values: False\n",
      "\n",
      "Duplicate Rows : 0\n"
     ]
    }
   ],
   "source": [
    "def describe_dataset(dataset_path: str):\n",
    "    '''\n",
    "    Describe dataset\n",
    "    '''\n",
    "\n",
    "    data = pd.read_csv(dataset_path)\n",
    "    print(f\"Headers: {list(data.columns.values)}\")\n",
    "    print(f'Number of rows: {data.shape[0]} \\nNumber of columns: {data.shape[1]}\\n')\n",
    "    print(f\"Labels: \\n{data['label'].value_counts()}\\n\")\n",
    "    print(f\"Missing values: {data.isnull().values.any()}\\n\")\n",
    "    \n",
    "    duplicate = data[data.duplicated()]\n",
    "    print(f\"Duplicate Rows : {len(duplicate.sum(axis=1))}\")\n",
    "\n",
    "    return data\n",
    "\n",
    "\n",
    "# Remove duplicate rows (optional)\n",
    "def remove_duplicate_rows(dataset_path: str):\n",
    "    '''\n",
    "    Remove duplicated data from the dataset then save it to another files\n",
    "    '''\n",
    "    \n",
    "    df = pd.read_csv(dataset_path)\n",
    "    df.drop_duplicates(keep=\"first\", inplace=True)\n",
    "    df.to_csv(f\"cleaned_train.csv\", sep=',', encoding='utf-8', index=False)\n",
    "\n",
    "\n",
    "def round_up_metric_results(results) -> list:\n",
    "    '''Round up metrics results such as precision score, recall score, ...'''\n",
    "    return list(map(lambda el: round(el, 3), results))\n",
    "\n",
    "\n",
    "df = describe_dataset(\"./train.csv\")"
   ]
  },
  {
   "cell_type": "code",
   "execution_count": 4,
   "id": "cc7d9980",
   "metadata": {},
   "outputs": [
    {
     "name": "stdout",
     "output_type": "stream",
     "text": [
      "Number of rows: 1652 \n",
      "Number of columns: 37\n",
      "\n",
      "Labels: \n",
      "0    918\n",
      "1    734\n",
      "Name: label, dtype: int64\n",
      "\n"
     ]
    }
   ],
   "source": [
    "# load dataset\n",
    "df = pd.read_csv(\"./train.csv\")\n",
    "\n",
    "# Categorizing label\n",
    "df.loc[df[\"label\"] == \"shallow_squat\", \"label\"] = 0\n",
    "df.loc[df[\"label\"] == \"deep_squat\", \"label\"] = 1\n",
    "\n",
    "print(f'Number of rows: {df.shape[0]} \\nNumber of columns: {df.shape[1]}\\n')\n",
    "print(f\"Labels: \\n{df['label'].value_counts()}\\n\")"
   ]
  },
  {
   "cell_type": "code",
   "execution_count": 5,
   "id": "25d32372",
   "metadata": {},
   "outputs": [],
   "source": [
    "# Standard Scaling of features\n",
    "# Dump input scaler\n",
    "with open(\"./model/input_scaler.pkl\", \"rb\") as f2:\n",
    "    sc = pickle.load(f2)\n",
    "\n",
    "x = df.drop(\"label\", axis = 1)\n",
    "x = pd.DataFrame(sc.transform(x))\n",
    "\n",
    "y = df[\"label\"]\n",
    "\n",
    "# # Converting prediction to categorical\n",
    "y_cat = to_categorical(y)"
   ]
  },
  {
   "cell_type": "code",
   "execution_count": 6,
   "id": "7cd0944c",
   "metadata": {},
   "outputs": [],
   "source": [
    "x_train, x_test, y_train, y_test = train_test_split(x.values, y_cat, test_size=0.2, random_state=1234)"
   ]
  },
  {
   "cell_type": "code",
   "execution_count": 7,
   "id": "b829e135",
   "metadata": {},
   "outputs": [],
   "source": [
    "stop_early = EarlyStopping(monitor='loss', patience=3)\n",
    "\n",
    "# Final Results\n",
    "final_models = {}"
   ]
  },
  {
   "cell_type": "code",
   "execution_count": 8,
   "id": "e9040a6b",
   "metadata": {},
   "outputs": [],
   "source": [
    "def describe_model(model):\n",
    "    '''\n",
    "    Describe Model architecture\n",
    "    '''\n",
    "    print(f\"Describe models architecture\")\n",
    "    for i, layer in enumerate(model.layers):\n",
    "        number_of_units = layer.units if hasattr(layer, 'units') else 0\n",
    "\n",
    "        if hasattr(layer, \"activation\"):\n",
    "            print(f\"Layer-{i + 1}: {number_of_units} units, func: \", layer.activation)\n",
    "        else:\n",
    "            print(f\"Layer-{i + 1}: {number_of_units} units, func: None\")\n",
    "            \n",
    "\n",
    "def get_best_model(tuner):\n",
    "    '''\n",
    "    Describe and return the best model found from keras tuner\n",
    "    '''\n",
    "    best_hps = tuner.get_best_hyperparameters(num_trials=1)[0]\n",
    "    best_model = tuner.hypermodel.build(best_hps)\n",
    "\n",
    "    describe_model(best_model)\n",
    "\n",
    "    print(\"\\nOther params:\")\n",
    "    ignore_params = [\"tuner\", \"activation\", \"layer\"]\n",
    "    for param, value in best_hps.values.items():\n",
    "        if not any(word in param for word in ignore_params):\n",
    "            print(f\"{param}: {value}\")\n",
    "\n",
    "    return best_model"
   ]
  },
  {
   "cell_type": "code",
   "execution_count": 9,
   "id": "87b6ac60",
   "metadata": {},
   "outputs": [],
   "source": [
    "def model_3l_builder(hp):\n",
    "    model = Sequential()\n",
    "    model.add(Dense(36, input_dim = 36, activation = \"relu\"))\n",
    "\n",
    "    hp_activation = hp.Choice('activation', values=['relu', 'tanh'])\n",
    "    hp_layer_1 = hp.Int('layer_1', min_value=32, max_value=512, step=32)\n",
    "    hp_learning_rate = hp.Choice('learning_rate', values=[1e-2, 1e-3, 1e-4])\n",
    "\n",
    "    model.add(Dense(units=hp_layer_1, activation=hp_activation))\n",
    "    model.add(Dense(2, activation = \"softmax\"))\n",
    "\n",
    "    model.compile(optimizer=Adam(learning_rate=hp_learning_rate), loss=\"categorical_crossentropy\", metrics = [\"accuracy\"])\n",
    "    \n",
    "    return model"
   ]
  },
  {
   "cell_type": "code",
   "execution_count": 10,
   "id": "dd88ca75",
   "metadata": {},
   "outputs": [
    {
     "name": "stdout",
     "output_type": "stream",
     "text": [
      "INFO:tensorflow:Reloading Tuner from keras_tuner_dir\\keras_tuner_demo\\tuner0.json\n",
      "INFO:tensorflow:Oracle triggered exit\n"
     ]
    }
   ],
   "source": [
    "tuner_3l = kt.Hyperband(\n",
    "    model_3l_builder,\n",
    "    objective='accuracy',\n",
    "    max_epochs=10,\n",
    "    directory='keras_tuner_dir',\n",
    "    project_name='keras_tuner_demo'\n",
    ")\n",
    "tuner_3l.search(x_train, y_train, epochs=10, callbacks=[stop_early])"
   ]
  },
  {
   "cell_type": "code",
   "execution_count": 11,
   "id": "fa9a9c95",
   "metadata": {},
   "outputs": [
    {
     "name": "stdout",
     "output_type": "stream",
     "text": [
      "Describe models architecture\n",
      "Layer-1: 36 units, func:  <function relu at 0x000002BBCA0F4940>\n",
      "Layer-2: 128 units, func:  <function relu at 0x000002BBCA0F4940>\n",
      "Layer-3: 2 units, func:  <function softmax at 0x000002BBCA0ECEE0>\n",
      "\n",
      "Other params:\n",
      "learning_rate: 0.001\n",
      "Epoch 1/100\n",
      "133/133 [==============================] - 1s 4ms/step - loss: 0.4605 - accuracy: 0.7888 - val_loss: 0.3553 - val_accuracy: 0.8640\n",
      "Epoch 2/100\n",
      "133/133 [==============================] - 0s 2ms/step - loss: 0.3100 - accuracy: 0.8675 - val_loss: 0.2926 - val_accuracy: 0.8852\n",
      "Epoch 3/100\n",
      "133/133 [==============================] - 0s 3ms/step - loss: 0.2548 - accuracy: 0.8917 - val_loss: 0.2671 - val_accuracy: 0.8912\n",
      "Epoch 4/100\n",
      "133/133 [==============================] - 0s 3ms/step - loss: 0.2344 - accuracy: 0.8993 - val_loss: 0.2507 - val_accuracy: 0.8912\n",
      "Epoch 5/100\n",
      "133/133 [==============================] - 0s 3ms/step - loss: 0.2048 - accuracy: 0.9129 - val_loss: 0.2333 - val_accuracy: 0.9033\n",
      "Epoch 6/100\n",
      "133/133 [==============================] - 0s 3ms/step - loss: 0.1859 - accuracy: 0.9251 - val_loss: 0.2725 - val_accuracy: 0.8792\n",
      "Epoch 7/100\n",
      "133/133 [==============================] - 0s 3ms/step - loss: 0.1832 - accuracy: 0.9251 - val_loss: 0.2247 - val_accuracy: 0.9094\n",
      "Epoch 8/100\n",
      "133/133 [==============================] - 0s 3ms/step - loss: 0.1662 - accuracy: 0.9341 - val_loss: 0.2045 - val_accuracy: 0.9124\n",
      "Epoch 9/100\n",
      "133/133 [==============================] - 0s 3ms/step - loss: 0.1567 - accuracy: 0.9349 - val_loss: 0.2241 - val_accuracy: 0.9003\n",
      "Epoch 10/100\n",
      "133/133 [==============================] - 0s 3ms/step - loss: 0.1582 - accuracy: 0.9379 - val_loss: 0.2144 - val_accuracy: 0.9033\n",
      "Epoch 11/100\n",
      "133/133 [==============================] - 0s 3ms/step - loss: 0.1455 - accuracy: 0.9447 - val_loss: 0.2324 - val_accuracy: 0.8973\n",
      "Epoch 12/100\n",
      "133/133 [==============================] - 0s 3ms/step - loss: 0.1366 - accuracy: 0.9478 - val_loss: 0.2169 - val_accuracy: 0.9124\n",
      "Epoch 13/100\n",
      "133/133 [==============================] - 0s 3ms/step - loss: 0.1348 - accuracy: 0.9440 - val_loss: 0.2643 - val_accuracy: 0.8973\n",
      "Epoch 14/100\n",
      "133/133 [==============================] - 0s 3ms/step - loss: 0.1264 - accuracy: 0.9538 - val_loss: 0.2128 - val_accuracy: 0.9124\n",
      "Epoch 15/100\n",
      "133/133 [==============================] - 0s 3ms/step - loss: 0.1161 - accuracy: 0.9576 - val_loss: 0.2280 - val_accuracy: 0.9033\n",
      "Epoch 16/100\n",
      "133/133 [==============================] - 0s 2ms/step - loss: 0.1122 - accuracy: 0.9561 - val_loss: 0.2499 - val_accuracy: 0.9003\n",
      "Epoch 17/100\n",
      "133/133 [==============================] - 0s 3ms/step - loss: 0.1088 - accuracy: 0.9584 - val_loss: 0.2622 - val_accuracy: 0.8973\n",
      "Epoch 18/100\n",
      "133/133 [==============================] - 0s 3ms/step - loss: 0.1109 - accuracy: 0.9614 - val_loss: 0.2485 - val_accuracy: 0.9063\n",
      "Epoch 19/100\n",
      "133/133 [==============================] - 0s 3ms/step - loss: 0.1002 - accuracy: 0.9591 - val_loss: 0.2733 - val_accuracy: 0.9154\n",
      "Epoch 20/100\n",
      "133/133 [==============================] - 0s 3ms/step - loss: 0.1080 - accuracy: 0.9569 - val_loss: 0.2576 - val_accuracy: 0.9094\n",
      "Epoch 21/100\n",
      "133/133 [==============================] - 0s 3ms/step - loss: 0.0891 - accuracy: 0.9720 - val_loss: 0.2855 - val_accuracy: 0.8973\n",
      "Epoch 22/100\n",
      "133/133 [==============================] - 0s 3ms/step - loss: 0.0960 - accuracy: 0.9621 - val_loss: 0.2741 - val_accuracy: 0.9124\n",
      "Epoch 23/100\n",
      "133/133 [==============================] - 0s 3ms/step - loss: 0.0875 - accuracy: 0.9697 - val_loss: 0.2447 - val_accuracy: 0.9063\n",
      "Epoch 24/100\n",
      "133/133 [==============================] - 0s 3ms/step - loss: 0.0767 - accuracy: 0.9758 - val_loss: 0.2732 - val_accuracy: 0.9033\n",
      "Epoch 25/100\n",
      "133/133 [==============================] - 0s 2ms/step - loss: 0.0845 - accuracy: 0.9712 - val_loss: 0.2524 - val_accuracy: 0.9184\n",
      "Epoch 26/100\n",
      "133/133 [==============================] - 0s 3ms/step - loss: 0.0709 - accuracy: 0.9796 - val_loss: 0.2421 - val_accuracy: 0.9094\n",
      "Epoch 27/100\n",
      "133/133 [==============================] - 0s 3ms/step - loss: 0.0717 - accuracy: 0.9712 - val_loss: 0.2799 - val_accuracy: 0.9215\n",
      "Epoch 28/100\n",
      "133/133 [==============================] - 0s 2ms/step - loss: 0.0698 - accuracy: 0.9743 - val_loss: 0.2668 - val_accuracy: 0.9063\n",
      "Epoch 29/100\n",
      "133/133 [==============================] - 0s 3ms/step - loss: 0.0624 - accuracy: 0.9796 - val_loss: 0.2747 - val_accuracy: 0.9063\n",
      "Epoch 30/100\n",
      "133/133 [==============================] - 0s 2ms/step - loss: 0.0640 - accuracy: 0.9758 - val_loss: 0.2503 - val_accuracy: 0.9124\n",
      "Epoch 31/100\n",
      "133/133 [==============================] - 0s 2ms/step - loss: 0.0677 - accuracy: 0.9788 - val_loss: 0.2418 - val_accuracy: 0.9154\n",
      "Epoch 32/100\n",
      "133/133 [==============================] - 0s 3ms/step - loss: 0.0726 - accuracy: 0.9690 - val_loss: 0.2618 - val_accuracy: 0.9033\n"
     ]
    },
    {
     "data": {
      "text/plain": [
       "<keras.callbacks.History at 0x2bbcd598eb0>"
      ]
     },
     "execution_count": 11,
     "metadata": {},
     "output_type": "execute_result"
    }
   ],
   "source": [
    "model_3l = get_best_model(tuner_3l)\n",
    "model_3l.fit(x_train, y_train, epochs=100, batch_size=10, validation_data=(x_test, y_test), callbacks=[stop_early])"
   ]
  },
  {
   "cell_type": "code",
   "execution_count": 12,
   "id": "6e25e2a4",
   "metadata": {},
   "outputs": [],
   "source": [
    "final_models[\"3_layers\"] = model_3l"
   ]
  },
  {
   "cell_type": "code",
   "execution_count": 13,
   "id": "ec63ddfd",
   "metadata": {},
   "outputs": [],
   "source": [
    "def model_5l_builder(hp):\n",
    "    model = Sequential()\n",
    "    model.add(Dense(36, input_dim = 36, activation = \"relu\"))\n",
    "\n",
    "    hp_activation = hp.Choice('activation', values=['relu', 'tanh'])\n",
    "    hp_layer_1 = hp.Int('layer_1', min_value=32, max_value=512, step=32)\n",
    "    hp_layer_2 = hp.Int('layer_2', min_value=32, max_value=512, step=32)\n",
    "    hp_layer_3 = hp.Int('layer_3', min_value=32, max_value=512, step=32)\n",
    "    hp_learning_rate = hp.Choice('learning_rate', values=[1e-2, 1e-3, 1e-4])\n",
    "\n",
    "    model.add(Dense(units=hp_layer_1, activation=hp_activation))\n",
    "    model.add(Dense(units=hp_layer_2, activation=hp_activation))\n",
    "    model.add(Dense(units=hp_layer_3, activation=hp_activation))\n",
    "    model.add(Dense(2, activation = \"softmax\"))\n",
    "\n",
    "    model.compile(optimizer=Adam(learning_rate=hp_learning_rate), loss=\"categorical_crossentropy\", metrics = [\"accuracy\"])\n",
    "    \n",
    "    return model"
   ]
  },
  {
   "cell_type": "code",
   "execution_count": 14,
   "id": "e5910038",
   "metadata": {},
   "outputs": [
    {
     "name": "stdout",
     "output_type": "stream",
     "text": [
      "INFO:tensorflow:Reloading Tuner from keras_tuner_dir\\keras_tuner_demo_1\\tuner0.json\n",
      "INFO:tensorflow:Oracle triggered exit\n"
     ]
    }
   ],
   "source": [
    "import keras\n",
    "tuner_5l = kt.Hyperband(\n",
    "    model_5l_builder,\n",
    "    objective='accuracy',\n",
    "    max_epochs=10,\n",
    "    directory='keras_tuner_dir',\n",
    "    project_name='keras_tuner_demo_1'\n",
    ")\n",
    "\n",
    "tuner_5l.search(\n",
    "    x_train, \n",
    "    y_train, \n",
    "    epochs=10, \n",
    "    callbacks=[keras.callbacks.EarlyStopping(patience=5)]\n",
    ")"
   ]
  },
  {
   "cell_type": "code",
   "execution_count": 15,
   "id": "0bbec16a",
   "metadata": {},
   "outputs": [
    {
     "name": "stdout",
     "output_type": "stream",
     "text": [
      "Describe models architecture\n",
      "Layer-1: 36 units, func:  <function relu at 0x000002BBCA0F4940>\n",
      "Layer-2: 416 units, func:  <function relu at 0x000002BBCA0F4940>\n",
      "Layer-3: 128 units, func:  <function relu at 0x000002BBCA0F4940>\n",
      "Layer-4: 64 units, func:  <function relu at 0x000002BBCA0F4940>\n",
      "Layer-5: 2 units, func:  <function softmax at 0x000002BBCA0ECEE0>\n",
      "\n",
      "Other params:\n",
      "learning_rate: 0.001\n",
      "Epoch 1/100\n",
      "133/133 [==============================] - 1s 6ms/step - loss: 0.3920 - accuracy: 0.8206 - val_loss: 0.3206 - val_accuracy: 0.8520\n",
      "Epoch 2/100\n",
      "133/133 [==============================] - 0s 3ms/step - loss: 0.2691 - accuracy: 0.8880 - val_loss: 0.3166 - val_accuracy: 0.8761\n",
      "Epoch 3/100\n",
      "133/133 [==============================] - 0s 3ms/step - loss: 0.2372 - accuracy: 0.9008 - val_loss: 0.2539 - val_accuracy: 0.8882\n",
      "Epoch 4/100\n",
      "133/133 [==============================] - 0s 3ms/step - loss: 0.2079 - accuracy: 0.9092 - val_loss: 0.2573 - val_accuracy: 0.8792\n",
      "Epoch 5/100\n",
      "133/133 [==============================] - 0s 3ms/step - loss: 0.1802 - accuracy: 0.9251 - val_loss: 0.2395 - val_accuracy: 0.9094\n",
      "Epoch 6/100\n",
      "133/133 [==============================] - 0s 3ms/step - loss: 0.1544 - accuracy: 0.9394 - val_loss: 0.2276 - val_accuracy: 0.9094\n",
      "Epoch 7/100\n",
      "133/133 [==============================] - 0s 3ms/step - loss: 0.1409 - accuracy: 0.9447 - val_loss: 0.2442 - val_accuracy: 0.8973\n",
      "Epoch 8/100\n",
      "133/133 [==============================] - 0s 3ms/step - loss: 0.1510 - accuracy: 0.9410 - val_loss: 0.2337 - val_accuracy: 0.8943\n",
      "Epoch 9/100\n",
      "133/133 [==============================] - 0s 3ms/step - loss: 0.1198 - accuracy: 0.9546 - val_loss: 0.2274 - val_accuracy: 0.9003\n",
      "Epoch 10/100\n",
      "133/133 [==============================] - 0s 3ms/step - loss: 0.1187 - accuracy: 0.9576 - val_loss: 0.2397 - val_accuracy: 0.9154\n",
      "Epoch 11/100\n",
      "133/133 [==============================] - 0s 3ms/step - loss: 0.1053 - accuracy: 0.9606 - val_loss: 0.2377 - val_accuracy: 0.9033\n",
      "Epoch 12/100\n",
      "133/133 [==============================] - 0s 3ms/step - loss: 0.0911 - accuracy: 0.9644 - val_loss: 0.2948 - val_accuracy: 0.8973\n",
      "Epoch 13/100\n",
      "133/133 [==============================] - 0s 3ms/step - loss: 0.0742 - accuracy: 0.9720 - val_loss: 0.2676 - val_accuracy: 0.9154\n",
      "Epoch 14/100\n",
      "133/133 [==============================] - 0s 3ms/step - loss: 0.0816 - accuracy: 0.9727 - val_loss: 0.3188 - val_accuracy: 0.9063\n",
      "Epoch 15/100\n",
      "133/133 [==============================] - 0s 3ms/step - loss: 0.0806 - accuracy: 0.9743 - val_loss: 0.2681 - val_accuracy: 0.9275\n",
      "Epoch 16/100\n",
      "133/133 [==============================] - 0s 3ms/step - loss: 0.0829 - accuracy: 0.9690 - val_loss: 0.2663 - val_accuracy: 0.9124\n"
     ]
    },
    {
     "data": {
      "text/plain": [
       "<keras.callbacks.History at 0x2bbce89ee50>"
      ]
     },
     "execution_count": 15,
     "metadata": {},
     "output_type": "execute_result"
    }
   ],
   "source": [
    "model_5l = get_best_model(tuner_5l)\n",
    "model_5l.fit(x_train, y_train, epochs=100, batch_size=10, validation_data=(x_test, y_test), callbacks=[stop_early])"
   ]
  },
  {
   "cell_type": "code",
   "execution_count": 16,
   "id": "e1f2d655",
   "metadata": {},
   "outputs": [],
   "source": [
    "final_models[\"5_layers\"] = model_5l"
   ]
  },
  {
   "cell_type": "code",
   "execution_count": 17,
   "id": "16906e29",
   "metadata": {},
   "outputs": [],
   "source": [
    "def model_7lD_builder(hp):\n",
    "    model = Sequential()\n",
    "    model.add(Dense(36, input_dim = 36, activation = \"relu\"))\n",
    "\n",
    "    hp_activation = hp.Choice('activation', values=['relu', 'tanh'])\n",
    "    hp_layer_1 = hp.Int('layer_1', min_value=32, max_value=512, step=32)\n",
    "    hp_layer_2 = hp.Int('layer_2', min_value=32, max_value=512, step=32)\n",
    "    hp_layer_3 = hp.Int('layer_3', min_value=32, max_value=512, step=32)\n",
    "    hp_dropout_1 = hp.Float('dropout_1', min_value=0.1, max_value=0.5, step=0.1)\n",
    "    hp_dropout_2 = hp.Float('dropout_2', min_value=0.1, max_value=0.5, step=0.1)\n",
    "    hp_learning_rate = hp.Choice('learning_rate', values=[1e-2, 1e-3, 1e-4])\n",
    "\n",
    "    model.add(Dense(units=hp_layer_1, activation=hp_activation))\n",
    "    model.add(Dropout(rate=hp_dropout_1))\n",
    "    model.add(Dense(units=hp_layer_2, activation=hp_activation))\n",
    "    model.add(Dropout(rate=hp_dropout_2))\n",
    "    model.add(Dense(units=hp_layer_3, activation=hp_activation))\n",
    "    model.add(Dense(2, activation = \"softmax\"))\n",
    "\n",
    "    model.compile(optimizer=Adam(learning_rate=hp_learning_rate), loss=\"categorical_crossentropy\", metrics = [\"accuracy\"])\n",
    "    \n",
    "    return model"
   ]
  },
  {
   "cell_type": "code",
   "execution_count": 18,
   "id": "db020bbf",
   "metadata": {},
   "outputs": [
    {
     "name": "stdout",
     "output_type": "stream",
     "text": [
      "INFO:tensorflow:Reloading Tuner from keras_tuner_dir\\keras_tuner_demo_4\\tuner0.json\n",
      "INFO:tensorflow:Oracle triggered exit\n"
     ]
    }
   ],
   "source": [
    "def get_early_stopping_callback():\n",
    "    return keras.callbacks.EarlyStopping(\n",
    "        monitor='val_loss',\n",
    "        patience=3\n",
    "    )\n",
    "\n",
    "tuner_7lD = kt.Hyperband(\n",
    "    model_7lD_builder,\n",
    "    objective='accuracy',\n",
    "    max_epochs=10,\n",
    "    directory='keras_tuner_dir',\n",
    "    project_name='keras_tuner_demo_4'\n",
    ")\n",
    "tuner_7lD.search(x_train, y_train, epochs=10, callbacks=[get_early_stopping_callback()])"
   ]
  },
  {
   "cell_type": "code",
   "execution_count": 19,
   "id": "baddc9e8",
   "metadata": {},
   "outputs": [
    {
     "name": "stdout",
     "output_type": "stream",
     "text": [
      "Describe models architecture\n",
      "Layer-1: 36 units, func:  <function relu at 0x000002BBCA0F4940>\n",
      "Layer-2: 480 units, func:  <function tanh at 0x000002BBCA0F4CA0>\n",
      "Layer-3: 0 units, func: None\n",
      "Layer-4: 64 units, func:  <function tanh at 0x000002BBCA0F4CA0>\n",
      "Layer-5: 0 units, func: None\n",
      "Layer-6: 512 units, func:  <function tanh at 0x000002BBCA0F4CA0>\n",
      "Layer-7: 2 units, func:  <function softmax at 0x000002BBCA0ECEE0>\n",
      "\n",
      "Other params:\n",
      "dropout_1: 0.2\n",
      "dropout_2: 0.5\n",
      "learning_rate: 0.001\n",
      "Epoch 1/100\n",
      "133/133 [==============================] - 1s 5ms/step - loss: 0.4920 - accuracy: 0.7812 - val_loss: 0.3389 - val_accuracy: 0.8520\n",
      "Epoch 2/100\n",
      "133/133 [==============================] - 1s 4ms/step - loss: 0.3683 - accuracy: 0.8494 - val_loss: 0.3231 - val_accuracy: 0.8550\n",
      "Epoch 3/100\n",
      "133/133 [==============================] - 0s 4ms/step - loss: 0.3101 - accuracy: 0.8683 - val_loss: 0.2798 - val_accuracy: 0.8792\n",
      "Epoch 4/100\n",
      "133/133 [==============================] - 0s 4ms/step - loss: 0.2771 - accuracy: 0.8766 - val_loss: 0.2608 - val_accuracy: 0.8822\n",
      "Epoch 5/100\n",
      "133/133 [==============================] - 0s 3ms/step - loss: 0.2533 - accuracy: 0.8880 - val_loss: 0.3004 - val_accuracy: 0.8852\n",
      "Epoch 6/100\n",
      "133/133 [==============================] - 0s 3ms/step - loss: 0.2391 - accuracy: 0.9001 - val_loss: 0.2382 - val_accuracy: 0.8852\n",
      "Epoch 7/100\n",
      "133/133 [==============================] - 0s 3ms/step - loss: 0.2233 - accuracy: 0.9145 - val_loss: 0.2654 - val_accuracy: 0.8882\n",
      "Epoch 8/100\n",
      "133/133 [==============================] - 1s 4ms/step - loss: 0.2175 - accuracy: 0.9084 - val_loss: 0.2454 - val_accuracy: 0.8943\n",
      "Epoch 9/100\n",
      "133/133 [==============================] - 1s 4ms/step - loss: 0.2056 - accuracy: 0.9220 - val_loss: 0.2879 - val_accuracy: 0.8943\n",
      "Epoch 10/100\n",
      "133/133 [==============================] - 1s 4ms/step - loss: 0.1901 - accuracy: 0.9258 - val_loss: 0.2543 - val_accuracy: 0.8943\n",
      "Epoch 11/100\n",
      "133/133 [==============================] - 1s 4ms/step - loss: 0.1739 - accuracy: 0.9349 - val_loss: 0.2753 - val_accuracy: 0.8973\n",
      "Epoch 12/100\n",
      "133/133 [==============================] - 1s 4ms/step - loss: 0.1678 - accuracy: 0.9357 - val_loss: 0.2957 - val_accuracy: 0.8943\n",
      "Epoch 13/100\n",
      "133/133 [==============================] - 1s 5ms/step - loss: 0.1582 - accuracy: 0.9379 - val_loss: 0.2639 - val_accuracy: 0.9063\n",
      "Epoch 14/100\n",
      "133/133 [==============================] - 0s 4ms/step - loss: 0.1595 - accuracy: 0.9394 - val_loss: 0.2789 - val_accuracy: 0.8822\n",
      "Epoch 15/100\n",
      "133/133 [==============================] - 0s 4ms/step - loss: 0.1803 - accuracy: 0.9334 - val_loss: 0.3152 - val_accuracy: 0.9003\n",
      "Epoch 16/100\n",
      "133/133 [==============================] - 0s 3ms/step - loss: 0.1381 - accuracy: 0.9470 - val_loss: 0.2508 - val_accuracy: 0.9033\n",
      "Epoch 17/100\n",
      "133/133 [==============================] - 1s 4ms/step - loss: 0.1304 - accuracy: 0.9447 - val_loss: 0.3273 - val_accuracy: 0.8852\n",
      "Epoch 18/100\n",
      "133/133 [==============================] - 0s 4ms/step - loss: 0.1569 - accuracy: 0.9455 - val_loss: 0.2781 - val_accuracy: 0.8943\n",
      "Epoch 19/100\n",
      "133/133 [==============================] - 0s 4ms/step - loss: 0.1259 - accuracy: 0.9546 - val_loss: 0.3084 - val_accuracy: 0.9003\n",
      "Epoch 20/100\n",
      "133/133 [==============================] - 0s 3ms/step - loss: 0.1050 - accuracy: 0.9667 - val_loss: 0.3711 - val_accuracy: 0.8973\n",
      "Epoch 21/100\n",
      "133/133 [==============================] - 0s 4ms/step - loss: 0.1348 - accuracy: 0.9485 - val_loss: 0.3240 - val_accuracy: 0.8912\n",
      "Epoch 22/100\n",
      "133/133 [==============================] - 0s 3ms/step - loss: 0.1277 - accuracy: 0.9500 - val_loss: 0.2946 - val_accuracy: 0.9154\n",
      "Epoch 23/100\n",
      "133/133 [==============================] - 0s 3ms/step - loss: 0.1214 - accuracy: 0.9569 - val_loss: 0.3227 - val_accuracy: 0.9003\n"
     ]
    },
    {
     "data": {
      "text/plain": [
       "<keras.callbacks.History at 0x2bbcfa4b640>"
      ]
     },
     "execution_count": 19,
     "metadata": {},
     "output_type": "execute_result"
    }
   ],
   "source": [
    "model_7lD = get_best_model(tuner_7lD)\n",
    "model_7lD.fit(x_train, y_train, epochs=100, batch_size=10, validation_data=(x_test, y_test), callbacks=[stop_early])"
   ]
  },
  {
   "cell_type": "code",
   "execution_count": 20,
   "id": "9e5ccb68",
   "metadata": {},
   "outputs": [],
   "source": [
    "final_models[\"7_layers_with_dropout\"] = model_7lD"
   ]
  },
  {
   "cell_type": "code",
   "execution_count": 21,
   "id": "a91243e4",
   "metadata": {},
   "outputs": [],
   "source": [
    "def model_7l_builder(hp):\n",
    "    model = Sequential()\n",
    "    model.add(Dense(36, input_dim = 36, activation = \"relu\"))\n",
    "\n",
    "    hp_activation = hp.Choice('activation', values=['relu', 'tanh'])\n",
    "    hp_layer_1 = hp.Int('layer_1', min_value=32, max_value=512, step=32)\n",
    "    hp_layer_2 = hp.Int('layer_2', min_value=32, max_value=512, step=32)\n",
    "    hp_layer_3 = hp.Int('layer_3', min_value=32, max_value=512, step=32)\n",
    "    hp_layer_4 = hp.Int('layer_4', min_value=32, max_value=512, step=32)\n",
    "    hp_layer_5 = hp.Int('layer_5', min_value=32, max_value=512, step=32)\n",
    "    hp_learning_rate = hp.Choice('learning_rate', values=[1e-2, 1e-3, 1e-4])\n",
    "\n",
    "    model.add(Dense(units=hp_layer_1, activation=hp_activation))\n",
    "    model.add(Dense(units=hp_layer_2, activation=hp_activation))\n",
    "    model.add(Dense(units=hp_layer_3, activation=hp_activation))\n",
    "    model.add(Dense(units=hp_layer_4, activation=hp_activation))\n",
    "    model.add(Dense(units=hp_layer_5, activation=hp_activation))\n",
    "    model.add(Dense(2, activation = \"softmax\"))\n",
    "\n",
    "    model.compile(optimizer=Adam(learning_rate=hp_learning_rate), loss=\"categorical_crossentropy\", metrics = [\"accuracy\"])\n",
    "    \n",
    "    return model"
   ]
  },
  {
   "cell_type": "code",
   "execution_count": 22,
   "id": "ae5d9ffa",
   "metadata": {},
   "outputs": [
    {
     "name": "stdout",
     "output_type": "stream",
     "text": [
      "INFO:tensorflow:Reloading Tuner from keras_tuner_dir\\keras_tuner_demo_5\\tuner0.json\n",
      "INFO:tensorflow:Oracle triggered exit\n"
     ]
    }
   ],
   "source": [
    "tuner_7l = kt.Hyperband(\n",
    "    model_7l_builder,\n",
    "    objective='accuracy',\n",
    "    max_epochs=10,\n",
    "    directory='keras_tuner_dir',\n",
    "    project_name='keras_tuner_demo_5'\n",
    ")\n",
    "tuner_7l.search(x_train, y_train, epochs=10, callbacks=[keras.callbacks.EarlyStopping(patience=5)])"
   ]
  },
  {
   "cell_type": "code",
   "execution_count": 23,
   "id": "1361f819",
   "metadata": {},
   "outputs": [
    {
     "name": "stdout",
     "output_type": "stream",
     "text": [
      "Describe models architecture\n",
      "Layer-1: 36 units, func:  <function relu at 0x000002BBCA0F4940>\n",
      "Layer-2: 160 units, func:  <function relu at 0x000002BBCA0F4940>\n",
      "Layer-3: 128 units, func:  <function relu at 0x000002BBCA0F4940>\n",
      "Layer-4: 512 units, func:  <function relu at 0x000002BBCA0F4940>\n",
      "Layer-5: 192 units, func:  <function relu at 0x000002BBCA0F4940>\n",
      "Layer-6: 256 units, func:  <function relu at 0x000002BBCA0F4940>\n",
      "Layer-7: 2 units, func:  <function softmax at 0x000002BBCA0ECEE0>\n",
      "\n",
      "Other params:\n",
      "learning_rate: 0.001\n",
      "Epoch 1/100\n",
      "133/133 [==============================] - 1s 6ms/step - loss: 0.4246 - accuracy: 0.8024 - val_loss: 0.3497 - val_accuracy: 0.8550\n",
      "Epoch 2/100\n",
      "133/133 [==============================] - 1s 5ms/step - loss: 0.2971 - accuracy: 0.8721 - val_loss: 0.3030 - val_accuracy: 0.8610\n",
      "Epoch 3/100\n",
      "133/133 [==============================] - 1s 5ms/step - loss: 0.2566 - accuracy: 0.8925 - val_loss: 0.2721 - val_accuracy: 0.8822\n",
      "Epoch 4/100\n",
      "133/133 [==============================] - 1s 4ms/step - loss: 0.2052 - accuracy: 0.9122 - val_loss: 0.3200 - val_accuracy: 0.8973\n",
      "Epoch 5/100\n",
      "133/133 [==============================] - 1s 6ms/step - loss: 0.1883 - accuracy: 0.9190 - val_loss: 0.2650 - val_accuracy: 0.8701\n",
      "Epoch 6/100\n",
      "133/133 [==============================] - 1s 5ms/step - loss: 0.1783 - accuracy: 0.9311 - val_loss: 0.3042 - val_accuracy: 0.8882\n",
      "Epoch 7/100\n",
      "133/133 [==============================] - 1s 4ms/step - loss: 0.1547 - accuracy: 0.9364 - val_loss: 0.3305 - val_accuracy: 0.8973\n",
      "Epoch 8/100\n",
      "133/133 [==============================] - 1s 4ms/step - loss: 0.1739 - accuracy: 0.9326 - val_loss: 0.2757 - val_accuracy: 0.9033\n",
      "Epoch 9/100\n",
      "133/133 [==============================] - 1s 4ms/step - loss: 0.1249 - accuracy: 0.9538 - val_loss: 0.3298 - val_accuracy: 0.9033\n",
      "Epoch 10/100\n",
      "133/133 [==============================] - 1s 5ms/step - loss: 0.1308 - accuracy: 0.9546 - val_loss: 0.2864 - val_accuracy: 0.8943\n",
      "Epoch 11/100\n",
      "133/133 [==============================] - 1s 5ms/step - loss: 0.0942 - accuracy: 0.9652 - val_loss: 0.3682 - val_accuracy: 0.9003\n",
      "Epoch 12/100\n",
      "133/133 [==============================] - 1s 4ms/step - loss: 0.1112 - accuracy: 0.9584 - val_loss: 0.2958 - val_accuracy: 0.9154\n",
      "Epoch 13/100\n",
      "133/133 [==============================] - 1s 6ms/step - loss: 0.0913 - accuracy: 0.9621 - val_loss: 0.3170 - val_accuracy: 0.9215\n",
      "Epoch 14/100\n",
      "133/133 [==============================] - 1s 5ms/step - loss: 0.1151 - accuracy: 0.9538 - val_loss: 0.2844 - val_accuracy: 0.9094\n",
      "Epoch 15/100\n",
      "133/133 [==============================] - 1s 5ms/step - loss: 0.0976 - accuracy: 0.9629 - val_loss: 0.3802 - val_accuracy: 0.8943\n",
      "Epoch 16/100\n",
      "133/133 [==============================] - 1s 5ms/step - loss: 0.1222 - accuracy: 0.9621 - val_loss: 0.2645 - val_accuracy: 0.9094\n"
     ]
    },
    {
     "data": {
      "text/plain": [
       "<keras.callbacks.History at 0x2bbd0bec220>"
      ]
     },
     "execution_count": 23,
     "metadata": {},
     "output_type": "execute_result"
    }
   ],
   "source": [
    "model_7l = get_best_model(tuner_7l)\n",
    "model_7l.fit(x_train, y_train, epochs=100, batch_size=10, validation_data=(x_test, y_test), callbacks=[stop_early])"
   ]
  },
  {
   "cell_type": "code",
   "execution_count": 24,
   "id": "b3af0986",
   "metadata": {},
   "outputs": [],
   "source": [
    "final_models[\"7_layers\"] = model_7l"
   ]
  },
  {
   "cell_type": "code",
   "execution_count": 25,
   "id": "f5ac13d4",
   "metadata": {},
   "outputs": [
    {
     "name": "stdout",
     "output_type": "stream",
     "text": [
      "3_layers: Describe models architecture\n",
      "Layer-1: 36 units, func:  <function relu at 0x000002BBCA0F4940>\n",
      "Layer-2: 128 units, func:  <function relu at 0x000002BBCA0F4940>\n",
      "Layer-3: 2 units, func:  <function softmax at 0x000002BBCA0ECEE0>\n",
      "\n",
      "5_layers: Describe models architecture\n",
      "Layer-1: 36 units, func:  <function relu at 0x000002BBCA0F4940>\n",
      "Layer-2: 416 units, func:  <function relu at 0x000002BBCA0F4940>\n",
      "Layer-3: 128 units, func:  <function relu at 0x000002BBCA0F4940>\n",
      "Layer-4: 64 units, func:  <function relu at 0x000002BBCA0F4940>\n",
      "Layer-5: 2 units, func:  <function softmax at 0x000002BBCA0ECEE0>\n",
      "\n",
      "7_layers_with_dropout: Describe models architecture\n",
      "Layer-1: 36 units, func:  <function relu at 0x000002BBCA0F4940>\n",
      "Layer-2: 480 units, func:  <function tanh at 0x000002BBCA0F4CA0>\n",
      "Layer-3: 0 units, func: None\n",
      "Layer-4: 64 units, func:  <function tanh at 0x000002BBCA0F4CA0>\n",
      "Layer-5: 0 units, func: None\n",
      "Layer-6: 512 units, func:  <function tanh at 0x000002BBCA0F4CA0>\n",
      "Layer-7: 2 units, func:  <function softmax at 0x000002BBCA0ECEE0>\n",
      "\n",
      "7_layers: Describe models architecture\n",
      "Layer-1: 36 units, func:  <function relu at 0x000002BBCA0F4940>\n",
      "Layer-2: 160 units, func:  <function relu at 0x000002BBCA0F4940>\n",
      "Layer-3: 128 units, func:  <function relu at 0x000002BBCA0F4940>\n",
      "Layer-4: 512 units, func:  <function relu at 0x000002BBCA0F4940>\n",
      "Layer-5: 192 units, func:  <function relu at 0x000002BBCA0F4940>\n",
      "Layer-6: 256 units, func:  <function relu at 0x000002BBCA0F4940>\n",
      "Layer-7: 2 units, func:  <function softmax at 0x000002BBCA0ECEE0>\n",
      "\n"
     ]
    }
   ],
   "source": [
    "for name, model in final_models.items():\n",
    "    print(f\"{name}: \", end=\"\")\n",
    "    describe_model(model)\n",
    "    print()"
   ]
  },
  {
   "cell_type": "code",
   "execution_count": 26,
   "id": "54cb1800",
   "metadata": {},
   "outputs": [
    {
     "data": {
      "text/html": [
       "<div>\n",
       "<style scoped>\n",
       "    .dataframe tbody tr th:only-of-type {\n",
       "        vertical-align: middle;\n",
       "    }\n",
       "\n",
       "    .dataframe tbody tr th {\n",
       "        vertical-align: top;\n",
       "    }\n",
       "\n",
       "    .dataframe thead th {\n",
       "        text-align: right;\n",
       "    }\n",
       "</style>\n",
       "<table border=\"1\" class=\"dataframe\">\n",
       "  <thead>\n",
       "    <tr style=\"text-align: right;\">\n",
       "      <th></th>\n",
       "      <th>Model</th>\n",
       "      <th>Precision Score</th>\n",
       "      <th>Recall Score</th>\n",
       "      <th>F1 score</th>\n",
       "      <th>Confusion Matrix</th>\n",
       "    </tr>\n",
       "  </thead>\n",
       "  <tbody>\n",
       "    <tr>\n",
       "      <th>0</th>\n",
       "      <td>5_layers</td>\n",
       "      <td>[0.926, 0.894, 0.0]</td>\n",
       "      <td>[0.921, 0.901, 0.0]</td>\n",
       "      <td>[0.923, 0.898, 0.0]</td>\n",
       "      <td>[[175, 15, 0], [14, 127, 0], [0, 0, 0]]</td>\n",
       "    </tr>\n",
       "    <tr>\n",
       "      <th>1</th>\n",
       "      <td>7_layers</td>\n",
       "      <td>[0.917, 0.899, 0.0]</td>\n",
       "      <td>[0.926, 0.887, 0.0]</td>\n",
       "      <td>[0.921, 0.893, 0.0]</td>\n",
       "      <td>[[176, 14, 0], [16, 125, 0], [0, 0, 0]]</td>\n",
       "    </tr>\n",
       "    <tr>\n",
       "      <th>2</th>\n",
       "      <td>3_layers</td>\n",
       "      <td>[0.916, 0.887, 0.0]</td>\n",
       "      <td>[0.916, 0.887, 0.0]</td>\n",
       "      <td>[0.916, 0.887, 0.0]</td>\n",
       "      <td>[[174, 16, 0], [16, 125, 0], [0, 0, 0]]</td>\n",
       "    </tr>\n",
       "    <tr>\n",
       "      <th>3</th>\n",
       "      <td>7_layers_with_dropout</td>\n",
       "      <td>[0.907, 0.891, 0.0]</td>\n",
       "      <td>[0.921, 0.872, 0.0]</td>\n",
       "      <td>[0.914, 0.882, 0.0]</td>\n",
       "      <td>[[175, 15, 0], [18, 123, 0], [0, 0, 0]]</td>\n",
       "    </tr>\n",
       "  </tbody>\n",
       "</table>\n",
       "</div>"
      ],
      "text/plain": [
       "                   Model      Precision Score         Recall Score  \\\n",
       "0               5_layers  [0.926, 0.894, 0.0]  [0.921, 0.901, 0.0]   \n",
       "1               7_layers  [0.917, 0.899, 0.0]  [0.926, 0.887, 0.0]   \n",
       "2               3_layers  [0.916, 0.887, 0.0]  [0.916, 0.887, 0.0]   \n",
       "3  7_layers_with_dropout  [0.907, 0.891, 0.0]  [0.921, 0.872, 0.0]   \n",
       "\n",
       "              F1 score                         Confusion Matrix  \n",
       "0  [0.923, 0.898, 0.0]  [[175, 15, 0], [14, 127, 0], [0, 0, 0]]  \n",
       "1  [0.921, 0.893, 0.0]  [[176, 14, 0], [16, 125, 0], [0, 0, 0]]  \n",
       "2  [0.916, 0.887, 0.0]  [[174, 16, 0], [16, 125, 0], [0, 0, 0]]  \n",
       "3  [0.914, 0.882, 0.0]  [[175, 15, 0], [18, 123, 0], [0, 0, 0]]  "
      ]
     },
     "execution_count": 26,
     "metadata": {},
     "output_type": "execute_result"
    }
   ],
   "source": [
    "train_set_results = []\n",
    "\n",
    "for name, model in final_models.items():\n",
    "    # Evaluate model\n",
    "    predict_x = model.predict(x_test, verbose=False) \n",
    "    y_pred_class = np.argmax(predict_x, axis=1)\n",
    "    y_test_class = np.argmax(y_test, axis=1)\n",
    "\n",
    "    cm = confusion_matrix(y_test_class, y_pred_class, labels=[0, 1, 2])\n",
    "    (p_score, r_score, f_score, _) = precision_recall_fscore_support(y_test_class, y_pred_class, labels=[0, 1, 2])\n",
    "    \n",
    "    train_set_results.append(( name, round_up_metric_results(p_score), round_up_metric_results(r_score), round_up_metric_results(f_score), cm ))\n",
    "\n",
    "train_set_results.sort(key=lambda k: sum(k[3]), reverse=True)\n",
    "pd.DataFrame(train_set_results, columns=[\"Model\", \"Precision Score\", \"Recall Score\", \"F1 score\", \"Confusion Matrix\"])"
   ]
  },
  {
   "cell_type": "code",
   "execution_count": 27,
   "id": "a95e2a62",
   "metadata": {},
   "outputs": [
    {
     "name": "stdout",
     "output_type": "stream",
     "text": [
      "Number of rows: 543 \n",
      "Number of columns: 37\n",
      "\n",
      "Labels: \n",
      "0    304\n",
      "1    239\n",
      "Name: label, dtype: int64\n",
      "\n"
     ]
    }
   ],
   "source": [
    "# load dataset\n",
    "test_df = pd.read_csv(\"./test.csv\")\n",
    "\n",
    "# Categorizing label\n",
    "test_df.loc[test_df[\"label\"] == \"shallow_squat\", \"label\"] = 0\n",
    "test_df.loc[test_df[\"label\"] == \"deep_squat\", \"label\"] = 1\n",
    "\n",
    "print(f'Number of rows: {test_df.shape[0]} \\nNumber of columns: {test_df.shape[1]}\\n')\n",
    "print(f\"Labels: \\n{test_df['label'].value_counts()}\\n\")"
   ]
  },
  {
   "cell_type": "code",
   "execution_count": 28,
   "id": "d7fe7720",
   "metadata": {},
   "outputs": [],
   "source": [
    "# Standard Scaling of features\n",
    "test_x = test_df.drop(\"label\", axis = 1)\n",
    "test_x = pd.DataFrame(sc.transform(test_x))\n",
    "\n",
    "test_y = test_df[\"label\"]\n",
    "\n",
    "# # Converting prediction to categorical\n",
    "test_y_cat = to_categorical(test_y)"
   ]
  },
  {
   "cell_type": "code",
   "execution_count": 29,
   "id": "ebd32627",
   "metadata": {},
   "outputs": [
    {
     "data": {
      "text/html": [
       "<div>\n",
       "<style scoped>\n",
       "    .dataframe tbody tr th:only-of-type {\n",
       "        vertical-align: middle;\n",
       "    }\n",
       "\n",
       "    .dataframe tbody tr th {\n",
       "        vertical-align: top;\n",
       "    }\n",
       "\n",
       "    .dataframe thead th {\n",
       "        text-align: right;\n",
       "    }\n",
       "</style>\n",
       "<table border=\"1\" class=\"dataframe\">\n",
       "  <thead>\n",
       "    <tr style=\"text-align: right;\">\n",
       "      <th></th>\n",
       "      <th>Model</th>\n",
       "      <th>Precision Score</th>\n",
       "      <th>Recall Score</th>\n",
       "      <th>F1 score</th>\n",
       "      <th>Confusion Matrix</th>\n",
       "    </tr>\n",
       "  </thead>\n",
       "  <tbody>\n",
       "    <tr>\n",
       "      <th>0</th>\n",
       "      <td>3_layers</td>\n",
       "      <td>[0.913, 0.808, 0.0]</td>\n",
       "      <td>[0.832, 0.9, 0.0]</td>\n",
       "      <td>[0.871, 0.851, 0.0]</td>\n",
       "      <td>[[253, 51, 0], [24, 215, 0], [0, 0, 0]]</td>\n",
       "    </tr>\n",
       "    <tr>\n",
       "      <th>1</th>\n",
       "      <td>7_layers_with_dropout</td>\n",
       "      <td>[0.874, 0.831, 0.0]</td>\n",
       "      <td>[0.865, 0.841, 0.0]</td>\n",
       "      <td>[0.869, 0.836, 0.0]</td>\n",
       "      <td>[[263, 41, 0], [38, 201, 0], [0, 0, 0]]</td>\n",
       "    </tr>\n",
       "    <tr>\n",
       "      <th>2</th>\n",
       "      <td>7_layers</td>\n",
       "      <td>[0.88, 0.81, 0.0]</td>\n",
       "      <td>[0.842, 0.854, 0.0]</td>\n",
       "      <td>[0.861, 0.831, 0.0]</td>\n",
       "      <td>[[256, 48, 0], [35, 204, 0], [0, 0, 0]]</td>\n",
       "    </tr>\n",
       "    <tr>\n",
       "      <th>3</th>\n",
       "      <td>5_layers</td>\n",
       "      <td>[0.837, 0.801, 0.0]</td>\n",
       "      <td>[0.845, 0.791, 0.0]</td>\n",
       "      <td>[0.841, 0.796, 0.0]</td>\n",
       "      <td>[[257, 47, 0], [50, 189, 0], [0, 0, 0]]</td>\n",
       "    </tr>\n",
       "  </tbody>\n",
       "</table>\n",
       "</div>"
      ],
      "text/plain": [
       "                   Model      Precision Score         Recall Score  \\\n",
       "0               3_layers  [0.913, 0.808, 0.0]    [0.832, 0.9, 0.0]   \n",
       "1  7_layers_with_dropout  [0.874, 0.831, 0.0]  [0.865, 0.841, 0.0]   \n",
       "2               7_layers    [0.88, 0.81, 0.0]  [0.842, 0.854, 0.0]   \n",
       "3               5_layers  [0.837, 0.801, 0.0]  [0.845, 0.791, 0.0]   \n",
       "\n",
       "              F1 score                         Confusion Matrix  \n",
       "0  [0.871, 0.851, 0.0]  [[253, 51, 0], [24, 215, 0], [0, 0, 0]]  \n",
       "1  [0.869, 0.836, 0.0]  [[263, 41, 0], [38, 201, 0], [0, 0, 0]]  \n",
       "2  [0.861, 0.831, 0.0]  [[256, 48, 0], [35, 204, 0], [0, 0, 0]]  \n",
       "3  [0.841, 0.796, 0.0]  [[257, 47, 0], [50, 189, 0], [0, 0, 0]]  "
      ]
     },
     "execution_count": 29,
     "metadata": {},
     "output_type": "execute_result"
    }
   ],
   "source": [
    "test_set_results = []\n",
    "\n",
    "for name, model in final_models.items():\n",
    "    # Evaluate model\n",
    "    predict_x = model.predict(test_x, verbose=False) \n",
    "    y_pred_class = np.argmax(predict_x, axis=1)\n",
    "    y_test_class = np.argmax(test_y_cat, axis=1)\n",
    "\n",
    "    cm = confusion_matrix(y_test_class, y_pred_class, labels=[0, 1, 2])\n",
    "    (p_score, r_score, f_score, _) = precision_recall_fscore_support(y_test_class, y_pred_class, labels=[0, 1, 2])\n",
    "    \n",
    "    test_set_results.append(( name, round_up_metric_results(p_score), round_up_metric_results(r_score), round_up_metric_results(f_score), cm ))\n",
    "\n",
    "test_set_results.sort(key=lambda k: sum(k[3]), reverse=True)\n",
    "pd.DataFrame(test_set_results, columns=[\"Model\", \"Precision Score\", \"Recall Score\", \"F1 score\", \"Confusion Matrix\"])"
   ]
  },
  {
   "cell_type": "code",
   "execution_count": 30,
   "id": "6e8239a2",
   "metadata": {},
   "outputs": [],
   "source": [
    "final_models[\"3_layers\"].save(\"./model/shallow_squat_dp.h5\")"
   ]
  },
  {
   "cell_type": "code",
   "execution_count": 31,
   "id": "b8168b7f",
   "metadata": {},
   "outputs": [],
   "source": [
    "for model_name, model in final_models.items():\n",
    "    model.save(f\"./model/{model_name}.h5\")"
   ]
  },
  {
   "cell_type": "code",
   "execution_count": null,
   "id": "a4321149",
   "metadata": {},
   "outputs": [],
   "source": []
  }
 ],
 "metadata": {
  "kernelspec": {
   "display_name": "Python 3 (ipykernel)",
   "language": "python",
   "name": "python3"
  },
  "language_info": {
   "codemirror_mode": {
    "name": "ipython",
    "version": 3
   },
   "file_extension": ".py",
   "mimetype": "text/x-python",
   "name": "python",
   "nbconvert_exporter": "python",
   "pygments_lexer": "ipython3",
   "version": "3.9.13"
  }
 },
 "nbformat": 4,
 "nbformat_minor": 5
}
