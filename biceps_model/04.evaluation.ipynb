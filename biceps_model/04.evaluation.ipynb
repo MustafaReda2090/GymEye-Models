{
 "cells": [
  {
   "cell_type": "code",
   "execution_count": 25,
   "id": "2bf7e79b",
   "metadata": {},
   "outputs": [],
   "source": [
    "import numpy as np\n",
    "import pandas as pd\n",
    "import pickle\n",
    "import seaborn as sns\n",
    "import matplotlib.pyplot as plt\n",
    "import tensorflow as tf\n",
    "\n",
    "\n",
    "from sklearn.metrics import precision_score, accuracy_score, f1_score, recall_score, confusion_matrix\n",
    "\n",
    "from yellowbrick.classifier import ROCAUC\n",
    "from sklearn.metrics import roc_curve, auc\n",
    "\n",
    "\n",
    "from keras.utils.np_utils import to_categorical\n",
    "\n",
    "from tensorflow.keras.models import load_model\n",
    "\n",
    "import warnings\n",
    "warnings.filterwarnings('ignore')"
   ]
  },
  {
   "cell_type": "code",
   "execution_count": 4,
   "id": "90053f6d",
   "metadata": {},
   "outputs": [],
   "source": [
    "# Load all sklearn models\n",
    "with open(\"./model/all_sklearn.pkl\", \"rb\") as f:\n",
    "    sklearn_models = pickle.load(f)\n",
    "\n",
    "# Load all deep learning models\n",
    "three_model = load_model(\"C:/Users/Alrowad/Exercise-correction/biceps_model/model/3_layers.h5\")\n",
    "five_model = load_model(\"C:/Users/Alrowad/Exercise-correction/biceps_model/model/5_layers.h5\")\n",
    "seven_model = load_model(\"C:/Users/Alrowad/Exercise-correction/biceps_model/model/7_layers.h5\")\n",
    "sevenD_model = load_model(\"C:/Users/Alrowad/Exercise-correction/biceps_model/model/7_layers_with_dropout.h5\")\n",
    "\n",
    "# Load input scaler\n",
    "with open(\"./model/input_scaler.pkl\", \"rb\") as f:\n",
    "    sc = pickle.load(f)"
   ]
  },
  {
   "cell_type": "code",
   "execution_count": 5,
   "id": "a45ae9ac",
   "metadata": {},
   "outputs": [],
   "source": [
    "def describe_dataset(dataset_path: str):\n",
    "    '''\n",
    "    Describe dataset\n",
    "    '''\n",
    "\n",
    "    data = pd.read_csv(dataset_path)\n",
    "    print(f\"Headers: {list(data.columns.values)}\")\n",
    "    print(f'Number of rows: {data.shape[0]} \\nNumber of columns: {data.shape[1]}\\n')\n",
    "    print(f\"Labels: \\n{data['label'].value_counts()}\\n\")\n",
    "    print(f\"Missing values: {data.isnull().values.any()}\\n\")\n",
    "    \n",
    "    duplicate = data[data.duplicated()]\n",
    "    print(f\"Duplicate Rows : {len(duplicate.sum(axis=1))}\")\n",
    "\n",
    "    return data\n",
    "\n",
    "\n",
    "def round_up_metric_results(results) -> list:\n",
    "    '''Round up metrics results such as precision score, recall score, ...'''\n",
    "    return list(map(lambda el: round(el, 3), results))"
   ]
  },
  {
   "cell_type": "code",
   "execution_count": 6,
   "id": "944c65d7",
   "metadata": {},
   "outputs": [
    {
     "name": "stdout",
     "output_type": "stream",
     "text": [
      "Headers: ['label', 'nose_x', 'nose_y', 'nose_z', 'nose_v', 'left_shoulder_x', 'left_shoulder_y', 'left_shoulder_z', 'left_shoulder_v', 'right_shoulder_x', 'right_shoulder_y', 'right_shoulder_z', 'right_shoulder_v', 'right_elbow_x', 'right_elbow_y', 'right_elbow_z', 'right_elbow_v', 'left_elbow_x', 'left_elbow_y', 'left_elbow_z', 'left_elbow_v', 'right_wrist_x', 'right_wrist_y', 'right_wrist_z', 'right_wrist_v', 'left_wrist_x', 'left_wrist_y', 'left_wrist_z', 'left_wrist_v', 'left_hip_x', 'left_hip_y', 'left_hip_z', 'left_hip_v', 'right_hip_x', 'right_hip_y', 'right_hip_z', 'right_hip_v']\n",
      "Number of rows: 419 \n",
      "Number of columns: 37\n",
      "\n",
      "Labels: \n",
      "L    269\n",
      "C    150\n",
      "Name: label, dtype: int64\n",
      "\n",
      "Missing values: False\n",
      "\n",
      "Duplicate Rows : 0\n"
     ]
    }
   ],
   "source": [
    "# load dataset\n",
    "test_df = describe_dataset(\"./test.csv\")\n",
    "\n",
    "# Categorizing label\n",
    "test_df.loc[test_df[\"label\"] == \"C\", \"label\"] = 0\n",
    "test_df.loc[test_df[\"label\"] == \"L\", \"label\"] = 1\n",
    "\n",
    "# Standard Scaling of features\n",
    "test_x = test_df.drop(\"label\", axis = 1)\n",
    "test_x = pd.DataFrame(sc.transform(test_x))\n",
    "\n",
    "test_y = test_df[\"label\"].astype('int')\n",
    "\n",
    "# # Converting prediction to categorical\n",
    "test_y_cat = to_categorical(test_y)"
   ]
  },
  {
   "cell_type": "code",
   "execution_count": 7,
   "id": "f17dc8b2",
   "metadata": {},
   "outputs": [
    {
     "data": {
      "text/html": [
       "<div>\n",
       "<style scoped>\n",
       "    .dataframe tbody tr th:only-of-type {\n",
       "        vertical-align: middle;\n",
       "    }\n",
       "\n",
       "    .dataframe tbody tr th {\n",
       "        vertical-align: top;\n",
       "    }\n",
       "\n",
       "    .dataframe thead th {\n",
       "        text-align: right;\n",
       "    }\n",
       "</style>\n",
       "<table border=\"1\" class=\"dataframe\">\n",
       "  <thead>\n",
       "    <tr style=\"text-align: right;\">\n",
       "      <th></th>\n",
       "      <th>Model</th>\n",
       "      <th>Precision Score</th>\n",
       "      <th>Recall Score</th>\n",
       "      <th>Accuracy Score</th>\n",
       "      <th>F1 Score</th>\n",
       "      <th>Confusion Matrix</th>\n",
       "    </tr>\n",
       "  </thead>\n",
       "  <tbody>\n",
       "    <tr>\n",
       "      <th>0</th>\n",
       "      <td>LR</td>\n",
       "      <td>0.608186</td>\n",
       "      <td>0.613494</td>\n",
       "      <td>0.577566</td>\n",
       "      <td>0.576601</td>\n",
       "      <td>[[111, 39], [138, 131]]</td>\n",
       "    </tr>\n",
       "    <tr>\n",
       "      <th>1</th>\n",
       "      <td>SVC</td>\n",
       "      <td>0.686910</td>\n",
       "      <td>0.679628</td>\n",
       "      <td>0.713604</td>\n",
       "      <td>0.682576</td>\n",
       "      <td>[[84, 66], [54, 215]]</td>\n",
       "    </tr>\n",
       "    <tr>\n",
       "      <th>2</th>\n",
       "      <td>KNN</td>\n",
       "      <td>0.678954</td>\n",
       "      <td>0.691301</td>\n",
       "      <td>0.694511</td>\n",
       "      <td>0.680747</td>\n",
       "      <td>[[102, 48], [80, 189]]</td>\n",
       "    </tr>\n",
       "    <tr>\n",
       "      <th>3</th>\n",
       "      <td>DTC</td>\n",
       "      <td>0.538391</td>\n",
       "      <td>0.539703</td>\n",
       "      <td>0.568019</td>\n",
       "      <td>0.538482</td>\n",
       "      <td>[[66, 84], [97, 172]]</td>\n",
       "    </tr>\n",
       "    <tr>\n",
       "      <th>4</th>\n",
       "      <td>SGDC</td>\n",
       "      <td>0.589164</td>\n",
       "      <td>0.587794</td>\n",
       "      <td>0.536993</td>\n",
       "      <td>0.536927</td>\n",
       "      <td>[[115, 35], [159, 110]]</td>\n",
       "    </tr>\n",
       "    <tr>\n",
       "      <th>5</th>\n",
       "      <td>NB</td>\n",
       "      <td>0.404207</td>\n",
       "      <td>0.436233</td>\n",
       "      <td>0.529833</td>\n",
       "      <td>0.408128</td>\n",
       "      <td>[[16, 134], [63, 206]]</td>\n",
       "    </tr>\n",
       "    <tr>\n",
       "      <th>6</th>\n",
       "      <td>RF</td>\n",
       "      <td>0.602014</td>\n",
       "      <td>0.608612</td>\n",
       "      <td>0.620525</td>\n",
       "      <td>0.602170</td>\n",
       "      <td>[[85, 65], [94, 175]]</td>\n",
       "    </tr>\n",
       "  </tbody>\n",
       "</table>\n",
       "</div>"
      ],
      "text/plain": [
       "  Model  Precision Score  Recall Score  Accuracy Score  F1 Score  \\\n",
       "0    LR         0.608186      0.613494        0.577566  0.576601   \n",
       "1   SVC         0.686910      0.679628        0.713604  0.682576   \n",
       "2   KNN         0.678954      0.691301        0.694511  0.680747   \n",
       "3   DTC         0.538391      0.539703        0.568019  0.538482   \n",
       "4  SGDC         0.589164      0.587794        0.536993  0.536927   \n",
       "5    NB         0.404207      0.436233        0.529833  0.408128   \n",
       "6    RF         0.602014      0.608612        0.620525  0.602170   \n",
       "\n",
       "          Confusion Matrix  \n",
       "0  [[111, 39], [138, 131]]  \n",
       "1    [[84, 66], [54, 215]]  \n",
       "2   [[102, 48], [80, 189]]  \n",
       "3    [[66, 84], [97, 172]]  \n",
       "4  [[115, 35], [159, 110]]  \n",
       "5   [[16, 134], [63, 206]]  \n",
       "6    [[85, 65], [94, 175]]  "
      ]
     },
     "execution_count": 7,
     "metadata": {},
     "output_type": "execute_result"
    }
   ],
   "source": [
    "testset_final_results = []\n",
    "\n",
    "for name, model in sklearn_models.items():\n",
    "    # Evaluate model\n",
    "    model_results = model.predict(test_x)\n",
    "\n",
    "    p_score = precision_score(test_y, model_results, average=\"macro\")\n",
    "    a_score = accuracy_score(test_y, model_results)\n",
    "    r_score = recall_score(test_y, model_results, average=\"macro\")\n",
    "    f1_score_result = f1_score(test_y, model_results, average=\"macro\")\n",
    "    cm = confusion_matrix(test_y, model_results, labels=[0, 1])\n",
    "    testset_final_results.append(( name,  p_score, r_score, a_score, f1_score_result, cm ))\n",
    "\n",
    "\n",
    "sklearn_eval = pd.DataFrame(testset_final_results, columns=[\"Model\", \"Precision Score\", \"Recall Score\", \"Accuracy Score\", \"F1 Score\", \"Confusion Matrix\"])\n",
    "\n",
    "sklearn_eval"
   ]
  },
  {
   "cell_type": "code",
   "execution_count": 8,
   "id": "59d0c343",
   "metadata": {},
   "outputs": [
    {
     "data": {
      "text/html": [
       "<div>\n",
       "<style scoped>\n",
       "    .dataframe tbody tr th:only-of-type {\n",
       "        vertical-align: middle;\n",
       "    }\n",
       "\n",
       "    .dataframe tbody tr th {\n",
       "        vertical-align: top;\n",
       "    }\n",
       "\n",
       "    .dataframe thead th {\n",
       "        text-align: right;\n",
       "    }\n",
       "</style>\n",
       "<table border=\"1\" class=\"dataframe\">\n",
       "  <thead>\n",
       "    <tr style=\"text-align: right;\">\n",
       "      <th></th>\n",
       "      <th>Model Path</th>\n",
       "      <th>Precision Score</th>\n",
       "      <th>Recall Score</th>\n",
       "      <th>Accuracy Score</th>\n",
       "      <th>F1 Score</th>\n",
       "      <th>Confusion Matrix</th>\n",
       "    </tr>\n",
       "  </thead>\n",
       "  <tbody>\n",
       "    <tr>\n",
       "      <th>0</th>\n",
       "      <td>./model/3_layers.h5</td>\n",
       "      <td>0.691934</td>\n",
       "      <td>0.694511</td>\n",
       "      <td>0.694511</td>\n",
       "      <td>0.693078</td>\n",
       "      <td>[[83, 67, 0], [61, 208, 0], [0, 0, 0]]</td>\n",
       "    </tr>\n",
       "    <tr>\n",
       "      <th>1</th>\n",
       "      <td>./model/5_layers.h5</td>\n",
       "      <td>0.783923</td>\n",
       "      <td>0.727924</td>\n",
       "      <td>0.727924</td>\n",
       "      <td>0.733145</td>\n",
       "      <td>[[130, 20, 0], [94, 175, 0], [0, 0, 0]]</td>\n",
       "    </tr>\n",
       "    <tr>\n",
       "      <th>2</th>\n",
       "      <td>./model/7_layers.h5</td>\n",
       "      <td>0.804898</td>\n",
       "      <td>0.766110</td>\n",
       "      <td>0.766110</td>\n",
       "      <td>0.770925</td>\n",
       "      <td>[[130, 20, 0], [78, 191, 0], [0, 0, 0]]</td>\n",
       "    </tr>\n",
       "    <tr>\n",
       "      <th>3</th>\n",
       "      <td>./model/7_layers_with_dropout.h5</td>\n",
       "      <td>0.756463</td>\n",
       "      <td>0.747017</td>\n",
       "      <td>0.747017</td>\n",
       "      <td>0.750039</td>\n",
       "      <td>[[107, 43, 0], [63, 206, 0], [0, 0, 0]]</td>\n",
       "    </tr>\n",
       "  </tbody>\n",
       "</table>\n",
       "</div>"
      ],
      "text/plain": [
       "                         Model Path  Precision Score  Recall Score  \\\n",
       "0               ./model/3_layers.h5         0.691934      0.694511   \n",
       "1               ./model/5_layers.h5         0.783923      0.727924   \n",
       "2               ./model/7_layers.h5         0.804898      0.766110   \n",
       "3  ./model/7_layers_with_dropout.h5         0.756463      0.747017   \n",
       "\n",
       "   Accuracy Score  F1 Score                         Confusion Matrix  \n",
       "0        0.694511  0.693078   [[83, 67, 0], [61, 208, 0], [0, 0, 0]]  \n",
       "1        0.727924  0.733145  [[130, 20, 0], [94, 175, 0], [0, 0, 0]]  \n",
       "2        0.766110  0.770925  [[130, 20, 0], [78, 191, 0], [0, 0, 0]]  \n",
       "3        0.747017  0.750039  [[107, 43, 0], [63, 206, 0], [0, 0, 0]]  "
      ]
     },
     "execution_count": 8,
     "metadata": {},
     "output_type": "execute_result"
    }
   ],
   "source": [
    "test_set_results = []\n",
    "\n",
    "model_paths = [\"./model/3_layers.h5\", \n",
    "               \"./model/5_layers.h5\", \n",
    "               \"./model/7_layers.h5\", \n",
    "               \"./model/7_layers_with_dropout.h5\"]\n",
    "\n",
    "for path in model_paths:\n",
    "    model = load_model(path)\n",
    "\n",
    "    # Evaluate model\n",
    "    predict_x = model.predict(test_x, verbose=False) \n",
    "    y_pred_class = np.argmax(predict_x, axis=1)\n",
    "    y_test_class = np.argmax(test_y_cat, axis=1)\n",
    "\n",
    "    cm = confusion_matrix(y_test_class, y_pred_class, labels=[0, 1, 2])\n",
    "    p_score = precision_score(y_test_class, y_pred_class, average=\"weighted\")\n",
    "    a_score = accuracy_score(y_test_class, y_pred_class)\n",
    "    r_score = recall_score(y_test_class, y_pred_class, average=\"weighted\")\n",
    "    f1_score_result = f1_score(y_test_class, y_pred_class, average=\"weighted\")\n",
    "    \n",
    "    test_set_results.append(( path,  p_score, r_score, a_score, f1_score_result, cm ))\n",
    "\n",
    "dp_eval = pd.DataFrame(test_set_results, columns=[\"Model Path\", \"Precision Score\", \"Recall Score\", \"Accuracy Score\", \"F1 Score\", \"Confusion Matrix\"])\n",
    "\n",
    "dp_eval"
   ]
  },
  {
   "cell_type": "code",
   "execution_count": 9,
   "id": "1aa6b30d",
   "metadata": {},
   "outputs": [
    {
     "data": {
      "text/html": [
       "<div>\n",
       "<style scoped>\n",
       "    .dataframe tbody tr th:only-of-type {\n",
       "        vertical-align: middle;\n",
       "    }\n",
       "\n",
       "    .dataframe tbody tr th {\n",
       "        vertical-align: top;\n",
       "    }\n",
       "\n",
       "    .dataframe thead th {\n",
       "        text-align: right;\n",
       "    }\n",
       "</style>\n",
       "<table border=\"1\" class=\"dataframe\">\n",
       "  <thead>\n",
       "    <tr style=\"text-align: right;\">\n",
       "      <th></th>\n",
       "      <th>Model</th>\n",
       "      <th>Precision Score</th>\n",
       "      <th>Recall Score</th>\n",
       "      <th>Accuracy Score</th>\n",
       "      <th>F1 Score</th>\n",
       "      <th>Confusion Matrix</th>\n",
       "      <th>Model Path</th>\n",
       "    </tr>\n",
       "  </thead>\n",
       "  <tbody>\n",
       "    <tr>\n",
       "      <th>0</th>\n",
       "      <td>NaN</td>\n",
       "      <td>0.804898</td>\n",
       "      <td>0.766110</td>\n",
       "      <td>0.766110</td>\n",
       "      <td>0.770925</td>\n",
       "      <td>[[130, 20, 0], [78, 191, 0], [0, 0, 0]]</td>\n",
       "      <td>./model/7_layers.h5</td>\n",
       "    </tr>\n",
       "    <tr>\n",
       "      <th>1</th>\n",
       "      <td>NaN</td>\n",
       "      <td>0.756463</td>\n",
       "      <td>0.747017</td>\n",
       "      <td>0.747017</td>\n",
       "      <td>0.750039</td>\n",
       "      <td>[[107, 43, 0], [63, 206, 0], [0, 0, 0]]</td>\n",
       "      <td>./model/7_layers_with_dropout.h5</td>\n",
       "    </tr>\n",
       "    <tr>\n",
       "      <th>2</th>\n",
       "      <td>NaN</td>\n",
       "      <td>0.783923</td>\n",
       "      <td>0.727924</td>\n",
       "      <td>0.727924</td>\n",
       "      <td>0.733145</td>\n",
       "      <td>[[130, 20, 0], [94, 175, 0], [0, 0, 0]]</td>\n",
       "      <td>./model/5_layers.h5</td>\n",
       "    </tr>\n",
       "    <tr>\n",
       "      <th>3</th>\n",
       "      <td>NaN</td>\n",
       "      <td>0.691934</td>\n",
       "      <td>0.694511</td>\n",
       "      <td>0.694511</td>\n",
       "      <td>0.693078</td>\n",
       "      <td>[[83, 67, 0], [61, 208, 0], [0, 0, 0]]</td>\n",
       "      <td>./model/3_layers.h5</td>\n",
       "    </tr>\n",
       "    <tr>\n",
       "      <th>4</th>\n",
       "      <td>SVC</td>\n",
       "      <td>0.686910</td>\n",
       "      <td>0.679628</td>\n",
       "      <td>0.713604</td>\n",
       "      <td>0.682576</td>\n",
       "      <td>[[84, 66], [54, 215]]</td>\n",
       "      <td>NaN</td>\n",
       "    </tr>\n",
       "    <tr>\n",
       "      <th>5</th>\n",
       "      <td>KNN</td>\n",
       "      <td>0.678954</td>\n",
       "      <td>0.691301</td>\n",
       "      <td>0.694511</td>\n",
       "      <td>0.680747</td>\n",
       "      <td>[[102, 48], [80, 189]]</td>\n",
       "      <td>NaN</td>\n",
       "    </tr>\n",
       "    <tr>\n",
       "      <th>6</th>\n",
       "      <td>RF</td>\n",
       "      <td>0.602014</td>\n",
       "      <td>0.608612</td>\n",
       "      <td>0.620525</td>\n",
       "      <td>0.602170</td>\n",
       "      <td>[[85, 65], [94, 175]]</td>\n",
       "      <td>NaN</td>\n",
       "    </tr>\n",
       "    <tr>\n",
       "      <th>7</th>\n",
       "      <td>LR</td>\n",
       "      <td>0.608186</td>\n",
       "      <td>0.613494</td>\n",
       "      <td>0.577566</td>\n",
       "      <td>0.576601</td>\n",
       "      <td>[[111, 39], [138, 131]]</td>\n",
       "      <td>NaN</td>\n",
       "    </tr>\n",
       "    <tr>\n",
       "      <th>8</th>\n",
       "      <td>DTC</td>\n",
       "      <td>0.538391</td>\n",
       "      <td>0.539703</td>\n",
       "      <td>0.568019</td>\n",
       "      <td>0.538482</td>\n",
       "      <td>[[66, 84], [97, 172]]</td>\n",
       "      <td>NaN</td>\n",
       "    </tr>\n",
       "    <tr>\n",
       "      <th>9</th>\n",
       "      <td>SGDC</td>\n",
       "      <td>0.589164</td>\n",
       "      <td>0.587794</td>\n",
       "      <td>0.536993</td>\n",
       "      <td>0.536927</td>\n",
       "      <td>[[115, 35], [159, 110]]</td>\n",
       "      <td>NaN</td>\n",
       "    </tr>\n",
       "    <tr>\n",
       "      <th>10</th>\n",
       "      <td>NB</td>\n",
       "      <td>0.404207</td>\n",
       "      <td>0.436233</td>\n",
       "      <td>0.529833</td>\n",
       "      <td>0.408128</td>\n",
       "      <td>[[16, 134], [63, 206]]</td>\n",
       "      <td>NaN</td>\n",
       "    </tr>\n",
       "  </tbody>\n",
       "</table>\n",
       "</div>"
      ],
      "text/plain": [
       "   Model  Precision Score  Recall Score  Accuracy Score  F1 Score  \\\n",
       "0    NaN         0.804898      0.766110        0.766110  0.770925   \n",
       "1    NaN         0.756463      0.747017        0.747017  0.750039   \n",
       "2    NaN         0.783923      0.727924        0.727924  0.733145   \n",
       "3    NaN         0.691934      0.694511        0.694511  0.693078   \n",
       "4    SVC         0.686910      0.679628        0.713604  0.682576   \n",
       "5    KNN         0.678954      0.691301        0.694511  0.680747   \n",
       "6     RF         0.602014      0.608612        0.620525  0.602170   \n",
       "7     LR         0.608186      0.613494        0.577566  0.576601   \n",
       "8    DTC         0.538391      0.539703        0.568019  0.538482   \n",
       "9   SGDC         0.589164      0.587794        0.536993  0.536927   \n",
       "10    NB         0.404207      0.436233        0.529833  0.408128   \n",
       "\n",
       "                           Confusion Matrix                        Model Path  \n",
       "0   [[130, 20, 0], [78, 191, 0], [0, 0, 0]]               ./model/7_layers.h5  \n",
       "1   [[107, 43, 0], [63, 206, 0], [0, 0, 0]]  ./model/7_layers_with_dropout.h5  \n",
       "2   [[130, 20, 0], [94, 175, 0], [0, 0, 0]]               ./model/5_layers.h5  \n",
       "3    [[83, 67, 0], [61, 208, 0], [0, 0, 0]]               ./model/3_layers.h5  \n",
       "4                     [[84, 66], [54, 215]]                               NaN  \n",
       "5                    [[102, 48], [80, 189]]                               NaN  \n",
       "6                     [[85, 65], [94, 175]]                               NaN  \n",
       "7                   [[111, 39], [138, 131]]                               NaN  \n",
       "8                     [[66, 84], [97, 172]]                               NaN  \n",
       "9                   [[115, 35], [159, 110]]                               NaN  \n",
       "10                   [[16, 134], [63, 206]]                               NaN  "
      ]
     },
     "execution_count": 9,
     "metadata": {},
     "output_type": "execute_result"
    }
   ],
   "source": [
    "eval_df = pd.concat([sklearn_eval, dp_eval])\n",
    "eval_df = eval_df.sort_values(by=['F1 Score'], ascending=False).reset_index(drop=True)\n",
    "eval_df.to_csv(f\"evaluation.csv\", sep=',', encoding='utf-8', index=False)\n",
    "eval_df"
   ]
  },
  {
   "cell_type": "code",
   "execution_count": 10,
   "id": "64eeee8f",
   "metadata": {},
   "outputs": [
    {
     "data": {
      "text/plain": [
       "(array([0.60869565, 0.76512456]),\n",
       " array([0.56      , 0.79925651]),\n",
       " array([0.58333333, 0.78181818]))"
      ]
     },
     "execution_count": 10,
     "metadata": {},
     "output_type": "execute_result"
    }
   ],
   "source": [
    "best_model = sklearn_models[\"SVC\"]\n",
    "y_predictions = best_model.predict(test_x)\n",
    "\n",
    "p_score = precision_score(test_y, y_predictions, labels=[0, 1], average=None)\n",
    "r_score = recall_score(test_y, y_predictions, labels=[0, 1], average=None)\n",
    "f1_score_result = f1_score(test_y, y_predictions, labels=[0, 1], average=None)\n",
    "\n",
    "p_score, r_score, f1_score_result"
   ]
  },
  {
   "cell_type": "code",
   "execution_count": 11,
   "id": "c1a33d2c",
   "metadata": {},
   "outputs": [
    {
     "data": {
      "text/plain": [
       "0.6825"
      ]
     },
     "execution_count": 11,
     "metadata": {},
     "output_type": "execute_result"
    }
   ],
   "source": [
    "(0.583 + 0.782) / 2"
   ]
  },
  {
   "cell_type": "code",
   "execution_count": 12,
   "id": "5b6f44f2",
   "metadata": {},
   "outputs": [
    {
     "name": "stdout",
     "output_type": "stream",
     "text": [
      "14/14 [==============================] - 0s 3ms/step\n"
     ]
    },
    {
     "data": {
      "text/plain": [
       "(array([0.625     , 0.90521327]),\n",
       " array([0.86666667, 0.71003717]),\n",
       " array([0.72625698, 0.79583333]))"
      ]
     },
     "execution_count": 12,
     "metadata": {},
     "output_type": "execute_result"
    }
   ],
   "source": [
    "best_model01 = seven_model\n",
    "y_predictions = best_model01.predict(test_x)\n",
    "\n",
    "# convert continuous values to discrete labels using a threshold of 0.5\n",
    "y_predictions_labels = (y_predictions >= 0.5).argmax(axis=-1)\n",
    "\n",
    "p_score = precision_score(test_y, y_predictions_labels, labels=[0, 1], average=None)\n",
    "r_score = recall_score(test_y, y_predictions_labels, labels=[0, 1], average=None)\n",
    "f1_score_result = f1_score(test_y, y_predictions_labels, labels=[0, 1], average=None)\n",
    "\n",
    "p_score, r_score, f1_score_result"
   ]
  },
  {
   "cell_type": "code",
   "execution_count": 13,
   "id": "e22bde39",
   "metadata": {},
   "outputs": [
    {
     "data": {
      "text/plain": [
       "0.761"
      ]
     },
     "execution_count": 13,
     "metadata": {},
     "output_type": "execute_result"
    }
   ],
   "source": [
    "(0.726 + 0.796) / 2"
   ]
  },
  {
   "cell_type": "code",
   "execution_count": 17,
   "id": "77815a8d",
   "metadata": {},
   "outputs": [
    {
     "data": {
      "text/plain": [
       "<AxesSubplot:>"
      ]
     },
     "execution_count": 17,
     "metadata": {},
     "output_type": "execute_result"
    },
    {
     "data": {
      "image/png": "[encoded data removed]",
      "text/plain": [
       "<Figure size 800x400 with 2 Axes>"
      ]
     },
     "metadata": {},
     "output_type": "display_data"
    }
   ],
   "source": [
    "deep_cm = eval_df[ eval_df[\"Model Path\"] == './model/7_layers.h5' ][\"Confusion Matrix\"].values[0]\n",
    "\n",
    "cm_array_df = pd.DataFrame(deep_cm, index=[\"C\", \"L\", \"None\"], columns=[\"C\", \"L\", \"None\"])\n",
    "\n",
    "fig, ax = plt.subplots(figsize=(8,4)) \n",
    "sns.heatmap(cm_array_df, linewidths=1, annot=True, ax=ax, fmt='g')"
   ]
  },
  {
   "cell_type": "code",
   "execution_count": 26,
   "id": "91eb21e8",
   "metadata": {},
   "outputs": [],
   "source": [
    "def to_labels(y_pred, y_pred_proba, threshold):\n",
    "    '''Return prediction taking confidence threshold into account'''\n",
    "    results = []\n",
    "\n",
    "    for index, predicted_class in enumerate(y_pred):\n",
    "        prediction_probabilities = y_pred_proba[index]\n",
    "        class_prediction_probability = round(prediction_probabilities[np.argmax(prediction_probabilities)], 2)\n",
    "\n",
    "        results.append(predicted_class if class_prediction_probability >= threshold else -1)\n",
    "    \n",
    "    return results\n",
    "\n",
    "\n",
    "def calculate_correlation_score_confidence(test_x, test_y):\n",
    "    '''Calculate correlation between Precision score/Recall score/F1 score and confidence threshold'''\n",
    "    y_predictions = best_model01.predict(test_x)\n",
    "    y_predict_logits = y_predictions\n",
    "    y_predict_proba = tf.nn.softmax(y_predictions)\n",
    "\n",
    "    thresholds = list(np.arange(0, 1.01, 0.01))\n",
    "    f1_scores = []\n",
    "    for threshold in thresholds:\n",
    "        y_pred_bin = (y_predict_proba[:,1] > threshold).numpy().astype(int)\n",
    "        f1 = f1_score(test_y, y_pred_bin, average=None)\n",
    "        f1_scores.append(f1)\n",
    "\n",
    "    return thresholds, f1_scores"
   ]
  },
  {
   "cell_type": "code",
   "execution_count": 27,
   "id": "7bce5cdd",
   "metadata": {},
   "outputs": [
    {
     "name": "stdout",
     "output_type": "stream",
     "text": [
      "14/14 [==============================] - 0s 4ms/step\n"
     ]
    },
    {
     "data": {
      "image/png": "[encoded data removed]",
      "text/plain": [
       "<Figure size 800x600 with 1 Axes>"
      ]
     },
     "metadata": {},
     "output_type": "display_data"
    }
   ],
   "source": [
    "thresholds, f1_scores = calculate_correlation_score_confidence(test_x, test_y)\n",
    "\n",
    "first_class = [ el[0] for el in f1_scores ]\n",
    "second_class = [ el[1] for el in f1_scores ]\n",
    "all_classes = [(el[0] + el[1]) / 2 for el in f1_scores]\n",
    "\n",
    "fig, ax = plt.subplots(figsize=(8,6))\n",
    "plt.plot(thresholds, first_class, label = \"F1 Score - Correct class\")\n",
    "plt.plot(thresholds, second_class, label = \"F1 Score - Incorrect class\")\n",
    "plt.plot(thresholds, all_classes, label = \"F1 Score - All classes\", linewidth=2.0, color=\"blue\")\n",
    "plt.legend(loc = 'lower left')\n",
    "plt.ylim([0.4, 1])\n",
    "plt.xlim([0.025, 1])\n",
    "plt.xlabel(\"Threshold\", fontsize = 12)\n",
    "plt.ylabel(\"Score\", fontsize = 12)\n",
    "# plt.axvline(thresholds[np.argmin(abs(precision-recall))], color=\"k\", ls = \"--\")\n",
    "# plt.title(label = F\"Threshold = {thresholds[np.argmin(abs(precision-recall))]:.3f}\", fontsize = 12)\n",
    "plt.show()"
   ]
  },
  {
   "cell_type": "code",
   "execution_count": 28,
   "id": "fe9666d6",
   "metadata": {},
   "outputs": [
    {
     "name": "stdout",
     "output_type": "stream",
     "text": [
      "14/14 [==============================] - 0s 5ms/step\n",
      "Optimal Threshold: 2.2025018552085385e-05\n"
     ]
    },
    {
     "data": {
      "image/png": "[encoded data removed]",
      "text/plain": [
       "<Figure size 800x550 with 1 Axes>"
      ]
     },
     "metadata": {},
     "output_type": "display_data"
    }
   ],
   "source": [
    "# calculate the fpr and tpr for all thresholds of the classification\n",
    "probs = best_model01.predict(test_x)\n",
    "preds = probs[:,1]\n",
    "fpr, tpr, threshold = roc_curve(test_y, preds)\n",
    "roc_auc = auc(fpr, tpr)\n",
    "\n",
    "optimal_idx = np.argmax(tpr - fpr)\n",
    "optimal_threshold = threshold[optimal_idx]\n",
    "print(f\"Optimal Threshold: {optimal_threshold}\")\n",
    "\n",
    "# method I: plt\n",
    "plt.plot(fpr, tpr, 'b', label = 'AUC = %0.2f' % roc_auc)\n",
    "plt.plot([0, 1], [0, 1],'r--', label=\"7 Layer\")\n",
    "plt.legend(loc=4)\n",
    "plt.ylabel('True Positive Rate')\n",
    "plt.xlabel('False Positive Rate')\n",
    "plt.show()"
   ]
  },
  {
   "cell_type": "code",
   "execution_count": null,
   "id": "1976ee17",
   "metadata": {},
   "outputs": [],
   "source": []
  }
 ],
 "metadata": {
  "kernelspec": {
   "display_name": "Python 3 (ipykernel)",
   "language": "python",
   "name": "python3"
  },
  "language_info": {
   "codemirror_mode": {
    "name": "ipython",
    "version": 3
   },
   "file_extension": ".py",
   "mimetype": "text/x-python",
   "name": "python",
   "nbconvert_exporter": "python",
   "pygments_lexer": "ipython3",
   "version": "3.9.13"
  }
 },
 "nbformat": 4,
 "nbformat_minor": 5
}
